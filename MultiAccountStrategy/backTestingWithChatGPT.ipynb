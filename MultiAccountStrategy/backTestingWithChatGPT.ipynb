{
  "cells": [
    {
      "cell_type": "markdown",
      "metadata": {
        "id": "view-in-github",
        "colab_type": "text"
      },
      "source": [
        "<a href=\"https://colab.research.google.com/github/nosignal00/researchSpace/blob/main/MultiAccountStrategy/backTestingWithChatGPT.ipynb\" target=\"_parent\"><img src=\"https://colab.research.google.com/assets/colab-badge.svg\" alt=\"Open In Colab\"/></a>"
      ]
    },
    {
      "cell_type": "code",
      "source": [
        "import os,sys\n",
        "import datetime as dt\n",
        "\n",
        "base_dir = os.getcwd()\n",
        "nb_path = base_dir + '/drive/MyDrive/Colab_rel'\n",
        "sys.path.append(nb_path)\n",
        "sys.path.append(nb_path + '/lib/python3.9/site-packages')"
      ],
      "metadata": {
        "id": "VX-tVac2ViDk"
      },
      "execution_count": 1,
      "outputs": []
    },
    {
      "cell_type": "code",
      "source": [
        "# !chmod 755 /content/drive/MyDrive/Colab_rel/lib/python3.9/site-packages/pulp/solverdir/cbc/linux/64/cbc"
      ],
      "metadata": {
        "id": "438_gPDWE69E"
      },
      "execution_count": null,
      "outputs": []
    },
    {
      "cell_type": "code",
      "source": [
        "# !pip install --prefix=$nb_path yfinance"
      ],
      "metadata": {
        "id": "R5aSO2J6WEOU"
      },
      "execution_count": null,
      "outputs": []
    },
    {
      "cell_type": "code",
      "source": [
        "# !pip install --prefix=$nb_path pulp"
      ],
      "metadata": {
        "id": "C1LqtVgyTnTz"
      },
      "execution_count": null,
      "outputs": []
    },
    {
      "cell_type": "code",
      "execution_count": 2,
      "metadata": {
        "id": "NPTNXQtmNrOn"
      },
      "outputs": [],
      "source": [
        "import yfinance as yf\n",
        "import pytz\n",
        "\n",
        "import arviz as az\n",
        "import matplotlib.pyplot as plt\n",
        "import numpy as np\n",
        "import pandas as pd\n",
        "import pymc as pm\n",
        "import seaborn as sns\n",
        "import math\n",
        "from pulp import *\n",
        "import pdb\n"
      ]
    },
    {
      "cell_type": "code",
      "execution_count": 3,
      "metadata": {
        "id": "5tDbyN-XRXQi"
      },
      "outputs": [],
      "source": [
        "yf.pdr_override()\n",
        "tz = pytz.timezone(\"America/New_York\")\n",
        "end = tz.localize(dt.datetime.now())\n",
        "start = tz.localize(dt.datetime(2021, 11,10))"
      ]
    },
    {
      "cell_type": "code",
      "execution_count": 4,
      "metadata": {
        "colab": {
          "base_uri": "https://localhost:8080/",
          "height": 256
        },
        "id": "r-YEei_rN3Nv",
        "outputId": "2408da2e-3796-4096-ba49-e5cafd25008f"
      },
      "outputs": [
        {
          "output_type": "stream",
          "name": "stdout",
          "text": [
            "\r[*********************100%***********************]  1 of 1 completed\n"
          ]
        },
        {
          "output_type": "execute_result",
          "data": {
            "text/plain": [
              "                  Open        High         Low       Close   Adj Close  \\\n",
              "Date                                                                     \n",
              "2021-11-10  392.470001  395.359985  387.529999  389.510010  385.570343   \n",
              "2021-11-11  392.570007  392.750000  390.239990  390.589996  386.639404   \n",
              "2021-11-12  391.769989  395.250000  390.130005  394.700012  390.707825   \n",
              "2021-11-15  395.910004  396.239990  392.100006  394.609985  390.618713   \n",
              "2021-11-16  393.859985  397.929993  393.660004  397.420013  393.400299   \n",
              "\n",
              "              Volume  \n",
              "Date                  \n",
              "2021-11-10  54937400  \n",
              "2021-11-11  32243000  \n",
              "2021-11-12  34730600  \n",
              "2021-11-15  33716900  \n",
              "2021-11-16  27872900  "
            ],
            "text/html": [
              "\n",
              "  <div id=\"df-a9920cf5-9589-4724-8355-beb8b87c223e\">\n",
              "    <div class=\"colab-df-container\">\n",
              "      <div>\n",
              "<style scoped>\n",
              "    .dataframe tbody tr th:only-of-type {\n",
              "        vertical-align: middle;\n",
              "    }\n",
              "\n",
              "    .dataframe tbody tr th {\n",
              "        vertical-align: top;\n",
              "    }\n",
              "\n",
              "    .dataframe thead th {\n",
              "        text-align: right;\n",
              "    }\n",
              "</style>\n",
              "<table border=\"1\" class=\"dataframe\">\n",
              "  <thead>\n",
              "    <tr style=\"text-align: right;\">\n",
              "      <th></th>\n",
              "      <th>Open</th>\n",
              "      <th>High</th>\n",
              "      <th>Low</th>\n",
              "      <th>Close</th>\n",
              "      <th>Adj Close</th>\n",
              "      <th>Volume</th>\n",
              "    </tr>\n",
              "    <tr>\n",
              "      <th>Date</th>\n",
              "      <th></th>\n",
              "      <th></th>\n",
              "      <th></th>\n",
              "      <th></th>\n",
              "      <th></th>\n",
              "      <th></th>\n",
              "    </tr>\n",
              "  </thead>\n",
              "  <tbody>\n",
              "    <tr>\n",
              "      <th>2021-11-10</th>\n",
              "      <td>392.470001</td>\n",
              "      <td>395.359985</td>\n",
              "      <td>387.529999</td>\n",
              "      <td>389.510010</td>\n",
              "      <td>385.570343</td>\n",
              "      <td>54937400</td>\n",
              "    </tr>\n",
              "    <tr>\n",
              "      <th>2021-11-11</th>\n",
              "      <td>392.570007</td>\n",
              "      <td>392.750000</td>\n",
              "      <td>390.239990</td>\n",
              "      <td>390.589996</td>\n",
              "      <td>386.639404</td>\n",
              "      <td>32243000</td>\n",
              "    </tr>\n",
              "    <tr>\n",
              "      <th>2021-11-12</th>\n",
              "      <td>391.769989</td>\n",
              "      <td>395.250000</td>\n",
              "      <td>390.130005</td>\n",
              "      <td>394.700012</td>\n",
              "      <td>390.707825</td>\n",
              "      <td>34730600</td>\n",
              "    </tr>\n",
              "    <tr>\n",
              "      <th>2021-11-15</th>\n",
              "      <td>395.910004</td>\n",
              "      <td>396.239990</td>\n",
              "      <td>392.100006</td>\n",
              "      <td>394.609985</td>\n",
              "      <td>390.618713</td>\n",
              "      <td>33716900</td>\n",
              "    </tr>\n",
              "    <tr>\n",
              "      <th>2021-11-16</th>\n",
              "      <td>393.859985</td>\n",
              "      <td>397.929993</td>\n",
              "      <td>393.660004</td>\n",
              "      <td>397.420013</td>\n",
              "      <td>393.400299</td>\n",
              "      <td>27872900</td>\n",
              "    </tr>\n",
              "  </tbody>\n",
              "</table>\n",
              "</div>\n",
              "      <button class=\"colab-df-convert\" onclick=\"convertToInteractive('df-a9920cf5-9589-4724-8355-beb8b87c223e')\"\n",
              "              title=\"Convert this dataframe to an interactive table.\"\n",
              "              style=\"display:none;\">\n",
              "        \n",
              "  <svg xmlns=\"http://www.w3.org/2000/svg\" height=\"24px\"viewBox=\"0 0 24 24\"\n",
              "       width=\"24px\">\n",
              "    <path d=\"M0 0h24v24H0V0z\" fill=\"none\"/>\n",
              "    <path d=\"M18.56 5.44l.94 2.06.94-2.06 2.06-.94-2.06-.94-.94-2.06-.94 2.06-2.06.94zm-11 1L8.5 8.5l.94-2.06 2.06-.94-2.06-.94L8.5 2.5l-.94 2.06-2.06.94zm10 10l.94 2.06.94-2.06 2.06-.94-2.06-.94-.94-2.06-.94 2.06-2.06.94z\"/><path d=\"M17.41 7.96l-1.37-1.37c-.4-.4-.92-.59-1.43-.59-.52 0-1.04.2-1.43.59L10.3 9.45l-7.72 7.72c-.78.78-.78 2.05 0 2.83L4 21.41c.39.39.9.59 1.41.59.51 0 1.02-.2 1.41-.59l7.78-7.78 2.81-2.81c.8-.78.8-2.07 0-2.86zM5.41 20L4 18.59l7.72-7.72 1.47 1.35L5.41 20z\"/>\n",
              "  </svg>\n",
              "      </button>\n",
              "      \n",
              "  <style>\n",
              "    .colab-df-container {\n",
              "      display:flex;\n",
              "      flex-wrap:wrap;\n",
              "      gap: 12px;\n",
              "    }\n",
              "\n",
              "    .colab-df-convert {\n",
              "      background-color: #E8F0FE;\n",
              "      border: none;\n",
              "      border-radius: 50%;\n",
              "      cursor: pointer;\n",
              "      display: none;\n",
              "      fill: #1967D2;\n",
              "      height: 32px;\n",
              "      padding: 0 0 0 0;\n",
              "      width: 32px;\n",
              "    }\n",
              "\n",
              "    .colab-df-convert:hover {\n",
              "      background-color: #E2EBFA;\n",
              "      box-shadow: 0px 1px 2px rgba(60, 64, 67, 0.3), 0px 1px 3px 1px rgba(60, 64, 67, 0.15);\n",
              "      fill: #174EA6;\n",
              "    }\n",
              "\n",
              "    [theme=dark] .colab-df-convert {\n",
              "      background-color: #3B4455;\n",
              "      fill: #D2E3FC;\n",
              "    }\n",
              "\n",
              "    [theme=dark] .colab-df-convert:hover {\n",
              "      background-color: #434B5C;\n",
              "      box-shadow: 0px 1px 3px 1px rgba(0, 0, 0, 0.15);\n",
              "      filter: drop-shadow(0px 1px 2px rgba(0, 0, 0, 0.3));\n",
              "      fill: #FFFFFF;\n",
              "    }\n",
              "  </style>\n",
              "\n",
              "      <script>\n",
              "        const buttonEl =\n",
              "          document.querySelector('#df-a9920cf5-9589-4724-8355-beb8b87c223e button.colab-df-convert');\n",
              "        buttonEl.style.display =\n",
              "          google.colab.kernel.accessAllowed ? 'block' : 'none';\n",
              "\n",
              "        async function convertToInteractive(key) {\n",
              "          const element = document.querySelector('#df-a9920cf5-9589-4724-8355-beb8b87c223e');\n",
              "          const dataTable =\n",
              "            await google.colab.kernel.invokeFunction('convertToInteractive',\n",
              "                                                     [key], {});\n",
              "          if (!dataTable) return;\n",
              "\n",
              "          const docLinkHtml = 'Like what you see? Visit the ' +\n",
              "            '<a target=\"_blank\" href=https://colab.research.google.com/notebooks/data_table.ipynb>data table notebook</a>'\n",
              "            + ' to learn more about interactive tables.';\n",
              "          element.innerHTML = '';\n",
              "          dataTable['output_type'] = 'display_data';\n",
              "          await google.colab.output.renderOutput(dataTable, element);\n",
              "          const docLink = document.createElement('div');\n",
              "          docLink.innerHTML = docLinkHtml;\n",
              "          element.appendChild(docLink);\n",
              "        }\n",
              "      </script>\n",
              "    </div>\n",
              "  </div>\n",
              "  "
            ]
          },
          "metadata": {},
          "execution_count": 4
        }
      ],
      "source": [
        "dfQQQ = yf.download('QQQ',start, end)\n",
        "dfQQQ.head()"
      ]
    },
    {
      "cell_type": "code",
      "execution_count": 5,
      "metadata": {
        "colab": {
          "base_uri": "https://localhost:8080/",
          "height": 256
        },
        "id": "WxgDANnMN-ZZ",
        "outputId": "81929846-ada7-449d-bdb8-f64d89e68102"
      },
      "outputs": [
        {
          "output_type": "stream",
          "name": "stdout",
          "text": [
            "\r[*********************100%***********************]  1 of 1 completed\n"
          ]
        },
        {
          "output_type": "execute_result",
          "data": {
            "text/plain": [
              "                 Open       High        Low      Close  Adj Close    Volume\n",
              "Date                                                                       \n",
              "2021-11-10  81.360001  83.199997  78.250000  79.535004  78.665733  96976800\n",
              "2021-11-11  81.375000  81.495003  79.949997  80.180000  79.303688  57719000\n",
              "2021-11-12  80.904999  83.035004  79.875000  82.724998  81.820869  63820400\n",
              "2021-11-15  83.455002  83.654999  81.044998  82.699997  81.796135  69729200\n",
              "2021-11-16  82.144997  84.705002  82.029999  84.410004  83.487457  51590800"
            ],
            "text/html": [
              "\n",
              "  <div id=\"df-fa2573be-f069-48fc-b7d2-eeff82c37a1f\">\n",
              "    <div class=\"colab-df-container\">\n",
              "      <div>\n",
              "<style scoped>\n",
              "    .dataframe tbody tr th:only-of-type {\n",
              "        vertical-align: middle;\n",
              "    }\n",
              "\n",
              "    .dataframe tbody tr th {\n",
              "        vertical-align: top;\n",
              "    }\n",
              "\n",
              "    .dataframe thead th {\n",
              "        text-align: right;\n",
              "    }\n",
              "</style>\n",
              "<table border=\"1\" class=\"dataframe\">\n",
              "  <thead>\n",
              "    <tr style=\"text-align: right;\">\n",
              "      <th></th>\n",
              "      <th>Open</th>\n",
              "      <th>High</th>\n",
              "      <th>Low</th>\n",
              "      <th>Close</th>\n",
              "      <th>Adj Close</th>\n",
              "      <th>Volume</th>\n",
              "    </tr>\n",
              "    <tr>\n",
              "      <th>Date</th>\n",
              "      <th></th>\n",
              "      <th></th>\n",
              "      <th></th>\n",
              "      <th></th>\n",
              "      <th></th>\n",
              "      <th></th>\n",
              "    </tr>\n",
              "  </thead>\n",
              "  <tbody>\n",
              "    <tr>\n",
              "      <th>2021-11-10</th>\n",
              "      <td>81.360001</td>\n",
              "      <td>83.199997</td>\n",
              "      <td>78.250000</td>\n",
              "      <td>79.535004</td>\n",
              "      <td>78.665733</td>\n",
              "      <td>96976800</td>\n",
              "    </tr>\n",
              "    <tr>\n",
              "      <th>2021-11-11</th>\n",
              "      <td>81.375000</td>\n",
              "      <td>81.495003</td>\n",
              "      <td>79.949997</td>\n",
              "      <td>80.180000</td>\n",
              "      <td>79.303688</td>\n",
              "      <td>57719000</td>\n",
              "    </tr>\n",
              "    <tr>\n",
              "      <th>2021-11-12</th>\n",
              "      <td>80.904999</td>\n",
              "      <td>83.035004</td>\n",
              "      <td>79.875000</td>\n",
              "      <td>82.724998</td>\n",
              "      <td>81.820869</td>\n",
              "      <td>63820400</td>\n",
              "    </tr>\n",
              "    <tr>\n",
              "      <th>2021-11-15</th>\n",
              "      <td>83.455002</td>\n",
              "      <td>83.654999</td>\n",
              "      <td>81.044998</td>\n",
              "      <td>82.699997</td>\n",
              "      <td>81.796135</td>\n",
              "      <td>69729200</td>\n",
              "    </tr>\n",
              "    <tr>\n",
              "      <th>2021-11-16</th>\n",
              "      <td>82.144997</td>\n",
              "      <td>84.705002</td>\n",
              "      <td>82.029999</td>\n",
              "      <td>84.410004</td>\n",
              "      <td>83.487457</td>\n",
              "      <td>51590800</td>\n",
              "    </tr>\n",
              "  </tbody>\n",
              "</table>\n",
              "</div>\n",
              "      <button class=\"colab-df-convert\" onclick=\"convertToInteractive('df-fa2573be-f069-48fc-b7d2-eeff82c37a1f')\"\n",
              "              title=\"Convert this dataframe to an interactive table.\"\n",
              "              style=\"display:none;\">\n",
              "        \n",
              "  <svg xmlns=\"http://www.w3.org/2000/svg\" height=\"24px\"viewBox=\"0 0 24 24\"\n",
              "       width=\"24px\">\n",
              "    <path d=\"M0 0h24v24H0V0z\" fill=\"none\"/>\n",
              "    <path d=\"M18.56 5.44l.94 2.06.94-2.06 2.06-.94-2.06-.94-.94-2.06-.94 2.06-2.06.94zm-11 1L8.5 8.5l.94-2.06 2.06-.94-2.06-.94L8.5 2.5l-.94 2.06-2.06.94zm10 10l.94 2.06.94-2.06 2.06-.94-2.06-.94-.94-2.06-.94 2.06-2.06.94z\"/><path d=\"M17.41 7.96l-1.37-1.37c-.4-.4-.92-.59-1.43-.59-.52 0-1.04.2-1.43.59L10.3 9.45l-7.72 7.72c-.78.78-.78 2.05 0 2.83L4 21.41c.39.39.9.59 1.41.59.51 0 1.02-.2 1.41-.59l7.78-7.78 2.81-2.81c.8-.78.8-2.07 0-2.86zM5.41 20L4 18.59l7.72-7.72 1.47 1.35L5.41 20z\"/>\n",
              "  </svg>\n",
              "      </button>\n",
              "      \n",
              "  <style>\n",
              "    .colab-df-container {\n",
              "      display:flex;\n",
              "      flex-wrap:wrap;\n",
              "      gap: 12px;\n",
              "    }\n",
              "\n",
              "    .colab-df-convert {\n",
              "      background-color: #E8F0FE;\n",
              "      border: none;\n",
              "      border-radius: 50%;\n",
              "      cursor: pointer;\n",
              "      display: none;\n",
              "      fill: #1967D2;\n",
              "      height: 32px;\n",
              "      padding: 0 0 0 0;\n",
              "      width: 32px;\n",
              "    }\n",
              "\n",
              "    .colab-df-convert:hover {\n",
              "      background-color: #E2EBFA;\n",
              "      box-shadow: 0px 1px 2px rgba(60, 64, 67, 0.3), 0px 1px 3px 1px rgba(60, 64, 67, 0.15);\n",
              "      fill: #174EA6;\n",
              "    }\n",
              "\n",
              "    [theme=dark] .colab-df-convert {\n",
              "      background-color: #3B4455;\n",
              "      fill: #D2E3FC;\n",
              "    }\n",
              "\n",
              "    [theme=dark] .colab-df-convert:hover {\n",
              "      background-color: #434B5C;\n",
              "      box-shadow: 0px 1px 3px 1px rgba(0, 0, 0, 0.15);\n",
              "      filter: drop-shadow(0px 1px 2px rgba(0, 0, 0, 0.3));\n",
              "      fill: #FFFFFF;\n",
              "    }\n",
              "  </style>\n",
              "\n",
              "      <script>\n",
              "        const buttonEl =\n",
              "          document.querySelector('#df-fa2573be-f069-48fc-b7d2-eeff82c37a1f button.colab-df-convert');\n",
              "        buttonEl.style.display =\n",
              "          google.colab.kernel.accessAllowed ? 'block' : 'none';\n",
              "\n",
              "        async function convertToInteractive(key) {\n",
              "          const element = document.querySelector('#df-fa2573be-f069-48fc-b7d2-eeff82c37a1f');\n",
              "          const dataTable =\n",
              "            await google.colab.kernel.invokeFunction('convertToInteractive',\n",
              "                                                     [key], {});\n",
              "          if (!dataTable) return;\n",
              "\n",
              "          const docLinkHtml = 'Like what you see? Visit the ' +\n",
              "            '<a target=\"_blank\" href=https://colab.research.google.com/notebooks/data_table.ipynb>data table notebook</a>'\n",
              "            + ' to learn more about interactive tables.';\n",
              "          element.innerHTML = '';\n",
              "          dataTable['output_type'] = 'display_data';\n",
              "          await google.colab.output.renderOutput(dataTable, element);\n",
              "          const docLink = document.createElement('div');\n",
              "          docLink.innerHTML = docLinkHtml;\n",
              "          element.appendChild(docLink);\n",
              "        }\n",
              "      </script>\n",
              "    </div>\n",
              "  </div>\n",
              "  "
            ]
          },
          "metadata": {},
          "execution_count": 5
        }
      ],
      "source": [
        "dfTQQQ = yf.download('TQQQ',start, end)\n",
        "dfTQQQ.head()"
      ]
    },
    {
      "cell_type": "code",
      "execution_count": null,
      "metadata": {
        "id": "3k1-VyX5OQYg"
      },
      "outputs": [],
      "source": [
        "def moving_average_crossover_strategy(prices, short_window=50, long_window=200):\n",
        "    signals = pd.DataFrame(index=prices.index)\n",
        "    signals['signal'] = 0.0\n",
        "    signals['short_mavg'] = prices['close'].rolling(window=short_window, min_periods=1, center=False).mean()\n",
        "    signals['long_mavg'] = prices['close'].rolling(window=long_window, min_periods=1, center=False).mean()\n",
        "    signals['signal'][short_window:] = np.where(signals['short_mavg'][short_window:] > signals['long_mavg'][short_window:], 1.0, 0.0)   \n",
        "    signals['positions'] = signals['signal'].diff()\n",
        "    return signals\n"
      ]
    },
    {
      "cell_type": "code",
      "source": [
        "def percent_change_strategy(base_col, n_pct):\n",
        "    base_price = None\n",
        "    \n",
        "    def strategy(row):\n",
        "        prices = row.values\n",
        "        nonlocal base_price\n",
        "        if base_price is None:\n",
        "            base_price = prices[base_col]\n",
        "        signal = 0\n",
        "        \n",
        "        for i in range(1, len(prices)):\n",
        "            if prices[base_col] >= base_price * (1 + n_pct/100):\n",
        "                signal = 2  # Buy signal\n",
        "                base_price = prices[base_col]\n",
        "            elif prices[base_col] <= base_price * (1 - n_pct/100):\n",
        "                signal = 1  # Sell signal\n",
        "                base_price = prices[base_col]\n",
        "        \n",
        "        return signal\n",
        "    \n",
        "    return strategy\n"
      ],
      "metadata": {
        "id": "-vQhzbw_awTx"
      },
      "execution_count": 6,
      "outputs": []
    },
    {
      "cell_type": "code",
      "execution_count": 7,
      "metadata": {
        "id": "brTWiXbvOTxb"
      },
      "outputs": [],
      "source": [
        "def trading_decision(signal, cash_balance, num_shares, stock_price):\n",
        "    if signal == 2 and cash_balance > 0:\n",
        "        num_shares_to_buy = cash_balance // stock_price\n",
        "        return buy(stock_price, cash_balance, num_shares_to_buy)\n",
        "    elif signal == 1 and num_shares > 0:\n",
        "        return sell(stock_price, cash_balance, num_shares)\n",
        "    else:\n",
        "        return cash_balance, num_shares\n"
      ]
    },
    {
      "cell_type": "code",
      "execution_count": 8,
      "metadata": {
        "id": "lCgPzCOBON95"
      },
      "outputs": [],
      "source": [
        "def sell(stock_price, cash_balance, num_shares):\n",
        "    cash_balance += stock_price * num_shares\n",
        "    num_shares = 0\n",
        "    return cash_balance, num_shares\n"
      ]
    },
    {
      "cell_type": "code",
      "execution_count": 9,
      "metadata": {
        "id": "87AZuaLzOKDn"
      },
      "outputs": [],
      "source": [
        "def buy(stock_price, cash_balance, num_shares):\n",
        "    if stock_price * num_shares > cash_balance:\n",
        "        raise ValueError(\"Insufficient funds to buy shares.\")\n",
        "    cash_balance -= stock_price * num_shares\n",
        "    return cash_balance, num_shares\n"
      ]
    },
    {
      "cell_type": "code",
      "execution_count": 10,
      "metadata": {
        "id": "k7cNaFQiVY6U"
      },
      "outputs": [],
      "source": [
        "def evenly_distribute_cost(total_capital, unit_costs):\n",
        "    num_tasks = len(unit_costs)\n",
        "    # Define the LP problem\n",
        "    prob = LpProblem(\"Even_Cost_Distribution\", LpMinimize)\n",
        "\n",
        "    # Define the decision variables (positive integers)\n",
        "    x = LpVariable.dicts(\"x\", range(num_tasks), lowBound=0, cat='Integer')\n",
        "\n",
        "    # Define the objective function (minimize the maximum gap)\n",
        "    prob += lpSum([1 for i in range(num_tasks)])\n",
        "\n",
        "    # Define the constraint for total cost within 90% to 100% of total capital\n",
        "    total_cost = lpSum([unit_costs[i] * x[i] for i in range(num_tasks)])\n",
        "    prob += total_cost >= 0.9 * total_capital\n",
        "    prob += total_cost <= 0.99 * total_capital\n",
        "\n",
        "    # Define the constraints (minimum gap)\n",
        "    max_cost = LpVariable(\"max_cost\", lowBound=0)\n",
        "    for i in range(num_tasks):\n",
        "        prob += x[i] * unit_costs[i] <= max_cost\n",
        "    prob += max_cost <= total_cost / num_tasks\n",
        "\n",
        "    # Solve the LP problem\n",
        "    prob.solve()\n",
        "\n",
        "    # Print the solution\n",
        "    # print(\"Evenly distributed costs:\")\n",
        "    # for i in range(num_tasks):\n",
        "    #     budget = round(x[i].value(), 2)\n",
        "    #     cost = round(budget * unit_costs[i], 2)\n",
        "    #     print(f\"Task {i+1}: budget = {budget}, cost = {cost}\")\n",
        "    return [int(x[i].value()) for i in range(num_tasks)]\n",
        "\n"
      ]
    },
    {
      "cell_type": "code",
      "execution_count": 11,
      "metadata": {
        "id": "IXcDmqdj72Xl"
      },
      "outputs": [],
      "source": [
        "def calculate_shares_to_buy(row, cash):\n",
        "    stock_prices = row.values\n",
        "    shares_to_buy = evenly_distribute_cost(cash,stock_prices)\n",
        "    return shares_to_buy"
      ]
    },
    {
      "cell_type": "code",
      "execution_count": 12,
      "metadata": {
        "id": "hVcxli8Mihyc"
      },
      "outputs": [],
      "source": [
        "# 2021 11 15 부터 해보자\n",
        "# 전략이 각각 가격이 아니라 두개의 관계값을 가지고 움직여야 하네. P1이 N 프로 떨어졌을 때 트리거 발동\n",
        "cash = 15000 # 요게 계속 바뀌는 구나..."
      ]
    },
    {
      "cell_type": "code",
      "execution_count": 13,
      "metadata": {
        "id": "t37FBEQI4puc"
      },
      "outputs": [],
      "source": [
        "basePriceDf = pd.merge(left = dfQQQ[\"Adj Close\"], right = dfTQQQ[\"Adj Close\"], left_index=True, right_index=True)"
      ]
    },
    {
      "cell_type": "code",
      "source": [
        "def cash_balance_closure(initial_cash_balance):\n",
        "    def cash_balance_apply(df_row):\n",
        "        nonlocal initial_cash_balance\n",
        "\n",
        "        # Get the previous row's cash balance and signal value\n",
        "        prev_cash_balance = initial_cash_balance\n",
        "        prev_signal = df_row['signal']\n",
        "\n",
        "        if prev_signal == 0:\n",
        "            # If the previous signal is 0, do not execute `calculate_shares_to_buy`\n",
        "            shares_to_buy = [0] * len(df_row.index[:-1])  # exclude the last column ('cash_balance')\n",
        "        else:\n",
        "            # Calculate shares to buy for each stock based on previous cash balance\n",
        "            stock_prices = df_row.values[:-1]  # exclude the last column ('cash_balance')\n",
        "            shares_to_buy = calculate_shares_to_buy(stock_prices, prev_cash_balance)\n",
        "\n",
        "        # Calculate the new cash balance based on the shares bought and current stock prices\n",
        "        stock_prices = df_row.values[:-1]  # exclude the last column ('cash_balance')\n",
        "        new_cash_balance = sum(shares_to_buy * stock_prices)\n",
        "\n",
        "        # Update the initial cash balance for the next row\n",
        "        initial_cash_balance = new_cash_balance\n",
        "\n",
        "        # Return the updated cash balance for the current row\n",
        "        return new_cash_balance\n",
        "\n",
        "    return cash_balance_apply\n"
      ],
      "metadata": {
        "id": "04LS7hWYmYBA"
      },
      "execution_count": null,
      "outputs": []
    },
    {
      "cell_type": "code",
      "source": [
        "initial_cash_balance = 1000\n",
        "cash_balance_apply = cash_balance_closure(initial_cash_balance)\n",
        "df['cash_balance'] = df.apply(cash_balance_apply, axis=1)"
      ],
      "metadata": {
        "id": "r2o4RDUYmZdV"
      },
      "execution_count": null,
      "outputs": []
    },
    {
      "cell_type": "code",
      "execution_count": 14,
      "metadata": {
        "id": "qa6tFHvD6n_X"
      },
      "outputs": [],
      "source": [
        "strategy = percent_change_strategy(0, 10)\n",
        "basePriceDf['x_buy_sell'] = basePriceDf.apply(strategy, axis=1)\n",
        "\n",
        "\n",
        "basePriceDf['shares_to_buy'] = basePriceDf.apply(calculate_shares_to_buy, axis=1, args=(cash,))\n",
        "\n",
        "trading_decision(signal, cash_balance, num_shares, stock_price)"
      ]
    },
    {
      "cell_type": "code",
      "source": [
        "[397.686523 * 16, 86.143112 * 78]"
      ],
      "metadata": {
        "colab": {
          "base_uri": "https://localhost:8080/"
        },
        "id": "y5cwp0-PPwJN",
        "outputId": "d1df3199-0f0d-4bcc-808c-3e6976abc6e7"
      },
      "execution_count": 16,
      "outputs": [
        {
          "output_type": "execute_result",
          "data": {
            "text/plain": [
              "[6362.984368, 6719.162736]"
            ]
          },
          "metadata": {},
          "execution_count": 16
        }
      ]
    },
    {
      "cell_type": "code",
      "source": [
        "basePriceDf.plot(y=['Adj Close_x', 'x_buy_sell'], kind='line')"
      ],
      "metadata": {
        "id": "5A64tA46IAD_"
      },
      "execution_count": null,
      "outputs": []
    },
    {
      "cell_type": "code",
      "source": [
        "# create a line chart with two y-axes\n",
        "ax = basePriceDf.plot(y='Adj Close_x', color='red', kind='line', label='Y1-axis')\n",
        "ax.set_xlabel('X-axis')\n",
        "ax.set_ylabel('Y1-axis', color='red')\n",
        "ax.tick_params(axis='y', labelcolor='red')\n",
        "ax.legend(loc='upper left')\n",
        "\n",
        "ax2 = ax.twinx()\n",
        "basePriceDf.plot(y='x_buy_sell', color='blue', kind='line', ax=ax2, label='Y2-axis', secondary_y=True)\n",
        "ax2.set_ylabel('Y2-axis', color='blue')\n",
        "ax2.tick_params(axis='y', labelcolor='blue')\n",
        "ax2.legend(loc='upper right')\n",
        "\n",
        "plt.title('Double Y-Axis Chart')\n",
        "\n",
        "# display the chart\n",
        "plt.show()"
      ],
      "metadata": {
        "id": "yXHQJ6eZe55B"
      },
      "execution_count": null,
      "outputs": []
    },
    {
      "cell_type": "code",
      "source": [],
      "metadata": {
        "id": "dGMMAsk9fTBp"
      },
      "execution_count": null,
      "outputs": []
    },
    {
      "cell_type": "markdown",
      "source": [
        "### TEST SECTION"
      ],
      "metadata": {
        "id": "_fKaKuJDfUKu"
      }
    },
    {
      "cell_type": "code",
      "source": [
        "dates = pd.date_range('2022-01-01', periods=10)\n",
        "prices = pd.DataFrame({\n",
        "    'stock1': [10, 12, 15, 14, 13, 12, 13, 15, 16, 17],\n",
        "    'stock2': [20, 22, 25, 24, 23, 22, 23, 25, 26, 27]\n",
        "}, index=dates)"
      ],
      "metadata": {
        "id": "Ki7uWf43fWaZ"
      },
      "execution_count": 31,
      "outputs": []
    },
    {
      "cell_type": "code",
      "source": [
        "prices"
      ],
      "metadata": {
        "colab": {
          "base_uri": "https://localhost:8080/",
          "height": 363
        },
        "id": "JWpmK0Rtfh04",
        "outputId": "b00c01e7-e3c5-4ac7-ed2a-d1f69635c2ae"
      },
      "execution_count": 32,
      "outputs": [
        {
          "output_type": "execute_result",
          "data": {
            "text/plain": [
              "            stock1  stock2\n",
              "2022-01-01      10      20\n",
              "2022-01-02      12      22\n",
              "2022-01-03      15      25\n",
              "2022-01-04      14      24\n",
              "2022-01-05      13      23\n",
              "2022-01-06      12      22\n",
              "2022-01-07      13      23\n",
              "2022-01-08      15      25\n",
              "2022-01-09      16      26\n",
              "2022-01-10      17      27"
            ],
            "text/html": [
              "\n",
              "  <div id=\"df-ef78ea08-cc1e-405d-b757-faef5b46c830\">\n",
              "    <div class=\"colab-df-container\">\n",
              "      <div>\n",
              "<style scoped>\n",
              "    .dataframe tbody tr th:only-of-type {\n",
              "        vertical-align: middle;\n",
              "    }\n",
              "\n",
              "    .dataframe tbody tr th {\n",
              "        vertical-align: top;\n",
              "    }\n",
              "\n",
              "    .dataframe thead th {\n",
              "        text-align: right;\n",
              "    }\n",
              "</style>\n",
              "<table border=\"1\" class=\"dataframe\">\n",
              "  <thead>\n",
              "    <tr style=\"text-align: right;\">\n",
              "      <th></th>\n",
              "      <th>stock1</th>\n",
              "      <th>stock2</th>\n",
              "    </tr>\n",
              "  </thead>\n",
              "  <tbody>\n",
              "    <tr>\n",
              "      <th>2022-01-01</th>\n",
              "      <td>10</td>\n",
              "      <td>20</td>\n",
              "    </tr>\n",
              "    <tr>\n",
              "      <th>2022-01-02</th>\n",
              "      <td>12</td>\n",
              "      <td>22</td>\n",
              "    </tr>\n",
              "    <tr>\n",
              "      <th>2022-01-03</th>\n",
              "      <td>15</td>\n",
              "      <td>25</td>\n",
              "    </tr>\n",
              "    <tr>\n",
              "      <th>2022-01-04</th>\n",
              "      <td>14</td>\n",
              "      <td>24</td>\n",
              "    </tr>\n",
              "    <tr>\n",
              "      <th>2022-01-05</th>\n",
              "      <td>13</td>\n",
              "      <td>23</td>\n",
              "    </tr>\n",
              "    <tr>\n",
              "      <th>2022-01-06</th>\n",
              "      <td>12</td>\n",
              "      <td>22</td>\n",
              "    </tr>\n",
              "    <tr>\n",
              "      <th>2022-01-07</th>\n",
              "      <td>13</td>\n",
              "      <td>23</td>\n",
              "    </tr>\n",
              "    <tr>\n",
              "      <th>2022-01-08</th>\n",
              "      <td>15</td>\n",
              "      <td>25</td>\n",
              "    </tr>\n",
              "    <tr>\n",
              "      <th>2022-01-09</th>\n",
              "      <td>16</td>\n",
              "      <td>26</td>\n",
              "    </tr>\n",
              "    <tr>\n",
              "      <th>2022-01-10</th>\n",
              "      <td>17</td>\n",
              "      <td>27</td>\n",
              "    </tr>\n",
              "  </tbody>\n",
              "</table>\n",
              "</div>\n",
              "      <button class=\"colab-df-convert\" onclick=\"convertToInteractive('df-ef78ea08-cc1e-405d-b757-faef5b46c830')\"\n",
              "              title=\"Convert this dataframe to an interactive table.\"\n",
              "              style=\"display:none;\">\n",
              "        \n",
              "  <svg xmlns=\"http://www.w3.org/2000/svg\" height=\"24px\"viewBox=\"0 0 24 24\"\n",
              "       width=\"24px\">\n",
              "    <path d=\"M0 0h24v24H0V0z\" fill=\"none\"/>\n",
              "    <path d=\"M18.56 5.44l.94 2.06.94-2.06 2.06-.94-2.06-.94-.94-2.06-.94 2.06-2.06.94zm-11 1L8.5 8.5l.94-2.06 2.06-.94-2.06-.94L8.5 2.5l-.94 2.06-2.06.94zm10 10l.94 2.06.94-2.06 2.06-.94-2.06-.94-.94-2.06-.94 2.06-2.06.94z\"/><path d=\"M17.41 7.96l-1.37-1.37c-.4-.4-.92-.59-1.43-.59-.52 0-1.04.2-1.43.59L10.3 9.45l-7.72 7.72c-.78.78-.78 2.05 0 2.83L4 21.41c.39.39.9.59 1.41.59.51 0 1.02-.2 1.41-.59l7.78-7.78 2.81-2.81c.8-.78.8-2.07 0-2.86zM5.41 20L4 18.59l7.72-7.72 1.47 1.35L5.41 20z\"/>\n",
              "  </svg>\n",
              "      </button>\n",
              "      \n",
              "  <style>\n",
              "    .colab-df-container {\n",
              "      display:flex;\n",
              "      flex-wrap:wrap;\n",
              "      gap: 12px;\n",
              "    }\n",
              "\n",
              "    .colab-df-convert {\n",
              "      background-color: #E8F0FE;\n",
              "      border: none;\n",
              "      border-radius: 50%;\n",
              "      cursor: pointer;\n",
              "      display: none;\n",
              "      fill: #1967D2;\n",
              "      height: 32px;\n",
              "      padding: 0 0 0 0;\n",
              "      width: 32px;\n",
              "    }\n",
              "\n",
              "    .colab-df-convert:hover {\n",
              "      background-color: #E2EBFA;\n",
              "      box-shadow: 0px 1px 2px rgba(60, 64, 67, 0.3), 0px 1px 3px 1px rgba(60, 64, 67, 0.15);\n",
              "      fill: #174EA6;\n",
              "    }\n",
              "\n",
              "    [theme=dark] .colab-df-convert {\n",
              "      background-color: #3B4455;\n",
              "      fill: #D2E3FC;\n",
              "    }\n",
              "\n",
              "    [theme=dark] .colab-df-convert:hover {\n",
              "      background-color: #434B5C;\n",
              "      box-shadow: 0px 1px 3px 1px rgba(0, 0, 0, 0.15);\n",
              "      filter: drop-shadow(0px 1px 2px rgba(0, 0, 0, 0.3));\n",
              "      fill: #FFFFFF;\n",
              "    }\n",
              "  </style>\n",
              "\n",
              "      <script>\n",
              "        const buttonEl =\n",
              "          document.querySelector('#df-ef78ea08-cc1e-405d-b757-faef5b46c830 button.colab-df-convert');\n",
              "        buttonEl.style.display =\n",
              "          google.colab.kernel.accessAllowed ? 'block' : 'none';\n",
              "\n",
              "        async function convertToInteractive(key) {\n",
              "          const element = document.querySelector('#df-ef78ea08-cc1e-405d-b757-faef5b46c830');\n",
              "          const dataTable =\n",
              "            await google.colab.kernel.invokeFunction('convertToInteractive',\n",
              "                                                     [key], {});\n",
              "          if (!dataTable) return;\n",
              "\n",
              "          const docLinkHtml = 'Like what you see? Visit the ' +\n",
              "            '<a target=\"_blank\" href=https://colab.research.google.com/notebooks/data_table.ipynb>data table notebook</a>'\n",
              "            + ' to learn more about interactive tables.';\n",
              "          element.innerHTML = '';\n",
              "          dataTable['output_type'] = 'display_data';\n",
              "          await google.colab.output.renderOutput(dataTable, element);\n",
              "          const docLink = document.createElement('div');\n",
              "          docLink.innerHTML = docLinkHtml;\n",
              "          element.appendChild(docLink);\n",
              "        }\n",
              "      </script>\n",
              "    </div>\n",
              "  </div>\n",
              "  "
            ]
          },
          "metadata": {},
          "execution_count": 32
        }
      ]
    },
    {
      "cell_type": "code",
      "source": [
        "strategy = percent_change_strategy(0, 10)\n",
        "signals = prices.apply(strategy, axis=0)"
      ],
      "metadata": {
        "id": "BOPqqgw-fXU-"
      },
      "execution_count": 33,
      "outputs": []
    },
    {
      "cell_type": "code",
      "source": [
        "signals"
      ],
      "metadata": {
        "colab": {
          "base_uri": "https://localhost:8080/"
        },
        "id": "p0N7rqutggPM",
        "outputId": "6312eb93-ad8b-4985-93fd-ec30e877c390"
      },
      "execution_count": 34,
      "outputs": [
        {
          "output_type": "execute_result",
          "data": {
            "text/plain": [
              "stock1    0\n",
              "stock2    2\n",
              "dtype: int64"
            ]
          },
          "metadata": {},
          "execution_count": 34
        }
      ]
    },
    {
      "cell_type": "code",
      "source": [
        "import pandas as pd\n",
        "import numpy as np\n",
        "\n",
        "# create a sample DataFrame\n",
        "df = pd.DataFrame({'A': [1, 2, 3], 'B': [4, 5, 6], 'C': [7, 8, 9]})\n",
        "\n",
        "# define the function to apply\n",
        "def sqrt_func(x):\n",
        "    return np.sqrt(x)\n",
        "\n",
        "# apply the function to multiple columns\n",
        "df[['A', 'B', 'C']] = df[['A', 'B', 'C']].apply(sqrt_func, axis=1)\n",
        "\n",
        "# print the resulting DataFrame\n",
        "print(df)"
      ],
      "metadata": {
        "id": "jmZfDl-ojOVq",
        "colab": {
          "base_uri": "https://localhost:8080/"
        },
        "outputId": "34ec84db-b0a3-4999-f6f4-62e38fcdd4de"
      },
      "execution_count": 12,
      "outputs": [
        {
          "output_type": "stream",
          "name": "stdout",
          "text": [
            "          A         B         C\n",
            "0  1.000000  2.000000  2.645751\n",
            "1  1.414214  2.236068  2.828427\n",
            "2  1.732051  2.449490  3.000000\n"
          ]
        }
      ]
    },
    {
      "cell_type": "code",
      "source": [],
      "metadata": {
        "id": "1HOdNjPx_KcV"
      },
      "execution_count": null,
      "outputs": []
    }
  ],
  "metadata": {
    "colab": {
      "provenance": [],
      "mount_file_id": "1iITq7QQgeLUO27Xm7g-PT6CAwd6DUYzA",
      "authorship_tag": "ABX9TyPrRg/lb1JfpfA2ypdO7GLS",
      "include_colab_link": true
    },
    "kernelspec": {
      "display_name": "Python 3",
      "name": "python3"
    },
    "language_info": {
      "name": "python"
    }
  },
  "nbformat": 4,
  "nbformat_minor": 0
}