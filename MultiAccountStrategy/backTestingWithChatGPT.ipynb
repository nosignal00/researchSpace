{
  "cells": [
    {
      "cell_type": "markdown",
      "metadata": {
        "id": "view-in-github",
        "colab_type": "text"
      },
      "source": [
        "<a href=\"https://colab.research.google.com/github/nosignal00/researchSpace/blob/main/MultiAccountStrategy/backTestingWithChatGPT.ipynb\" target=\"_parent\"><img src=\"https://colab.research.google.com/assets/colab-badge.svg\" alt=\"Open In Colab\"/></a>"
      ]
    },
    {
      "cell_type": "code",
      "execution_count": 1,
      "metadata": {
        "id": "VX-tVac2ViDk"
      },
      "outputs": [],
      "source": [
        "import os,sys\n",
        "import datetime as dt\n",
        "\n",
        "base_dir = os.getcwd()\n",
        "nb_path = base_dir + '/drive/MyDrive/Colab_rel'\n",
        "sys.path.append(nb_path)\n",
        "sys.path.append(nb_path + '/lib/python3.9/site-packages')"
      ]
    },
    {
      "cell_type": "code",
      "execution_count": 2,
      "metadata": {
        "id": "438_gPDWE69E"
      },
      "outputs": [],
      "source": [
        "# !chmod 755 /content/drive/MyDrive/Colab_rel/lib/python3.9/site-packages/pulp/solverdir/cbc/linux/64/cbc"
      ]
    },
    {
      "cell_type": "code",
      "execution_count": null,
      "metadata": {
        "id": "R5aSO2J6WEOU"
      },
      "outputs": [],
      "source": [
        "# !pip install --prefix=$nb_path yfinance"
      ]
    },
    {
      "cell_type": "code",
      "execution_count": null,
      "metadata": {
        "id": "C1LqtVgyTnTz"
      },
      "outputs": [],
      "source": [
        "# !pip install --prefix=$nb_path pulp"
      ]
    },
    {
      "cell_type": "code",
      "execution_count": 2,
      "metadata": {
        "id": "NPTNXQtmNrOn"
      },
      "outputs": [],
      "source": [
        "import yfinance as yf\n",
        "import pytz\n",
        "\n",
        "import arviz as az\n",
        "import matplotlib.pyplot as plt\n",
        "import numpy as np\n",
        "import pandas as pd\n",
        "import pymc as pm\n",
        "import seaborn as sns\n",
        "import math\n",
        "from pulp import *\n",
        "import pdb\n"
      ]
    },
    {
      "cell_type": "code",
      "execution_count": 3,
      "metadata": {
        "id": "5tDbyN-XRXQi"
      },
      "outputs": [],
      "source": [
        "yf.pdr_override()\n",
        "tz = pytz.timezone(\"America/New_York\")\n",
        "end = tz.localize(dt.datetime.now())\n",
        "start = tz.localize(dt.datetime(2021, 11,10))"
      ]
    },
    {
      "cell_type": "code",
      "execution_count": 4,
      "metadata": {
        "colab": {
          "base_uri": "https://localhost:8080/",
          "height": 256
        },
        "id": "r-YEei_rN3Nv",
        "outputId": "4c291738-99f2-4d20-eb35-0af1060de5dc"
      },
      "outputs": [
        {
          "output_type": "stream",
          "name": "stdout",
          "text": [
            "\r[*********************100%***********************]  1 of 1 completed\n"
          ]
        },
        {
          "output_type": "execute_result",
          "data": {
            "text/plain": [
              "                  Open        High         Low       Close   Adj Close  \\\n",
              "Date                                                                     \n",
              "2021-11-10  392.470001  395.359985  387.529999  389.510010  385.570312   \n",
              "2021-11-11  392.570007  392.750000  390.239990  390.589996  386.639435   \n",
              "2021-11-12  391.769989  395.250000  390.130005  394.700012  390.707825   \n",
              "2021-11-15  395.910004  396.239990  392.100006  394.609985  390.618713   \n",
              "2021-11-16  393.859985  397.929993  393.660004  397.420013  393.400299   \n",
              "\n",
              "              Volume  \n",
              "Date                  \n",
              "2021-11-10  54937400  \n",
              "2021-11-11  32243000  \n",
              "2021-11-12  34730600  \n",
              "2021-11-15  33716900  \n",
              "2021-11-16  27872900  "
            ],
            "text/html": [
              "\n",
              "  <div id=\"df-a0547148-4ef2-4be8-b385-b105c7593372\">\n",
              "    <div class=\"colab-df-container\">\n",
              "      <div>\n",
              "<style scoped>\n",
              "    .dataframe tbody tr th:only-of-type {\n",
              "        vertical-align: middle;\n",
              "    }\n",
              "\n",
              "    .dataframe tbody tr th {\n",
              "        vertical-align: top;\n",
              "    }\n",
              "\n",
              "    .dataframe thead th {\n",
              "        text-align: right;\n",
              "    }\n",
              "</style>\n",
              "<table border=\"1\" class=\"dataframe\">\n",
              "  <thead>\n",
              "    <tr style=\"text-align: right;\">\n",
              "      <th></th>\n",
              "      <th>Open</th>\n",
              "      <th>High</th>\n",
              "      <th>Low</th>\n",
              "      <th>Close</th>\n",
              "      <th>Adj Close</th>\n",
              "      <th>Volume</th>\n",
              "    </tr>\n",
              "    <tr>\n",
              "      <th>Date</th>\n",
              "      <th></th>\n",
              "      <th></th>\n",
              "      <th></th>\n",
              "      <th></th>\n",
              "      <th></th>\n",
              "      <th></th>\n",
              "    </tr>\n",
              "  </thead>\n",
              "  <tbody>\n",
              "    <tr>\n",
              "      <th>2021-11-10</th>\n",
              "      <td>392.470001</td>\n",
              "      <td>395.359985</td>\n",
              "      <td>387.529999</td>\n",
              "      <td>389.510010</td>\n",
              "      <td>385.570312</td>\n",
              "      <td>54937400</td>\n",
              "    </tr>\n",
              "    <tr>\n",
              "      <th>2021-11-11</th>\n",
              "      <td>392.570007</td>\n",
              "      <td>392.750000</td>\n",
              "      <td>390.239990</td>\n",
              "      <td>390.589996</td>\n",
              "      <td>386.639435</td>\n",
              "      <td>32243000</td>\n",
              "    </tr>\n",
              "    <tr>\n",
              "      <th>2021-11-12</th>\n",
              "      <td>391.769989</td>\n",
              "      <td>395.250000</td>\n",
              "      <td>390.130005</td>\n",
              "      <td>394.700012</td>\n",
              "      <td>390.707825</td>\n",
              "      <td>34730600</td>\n",
              "    </tr>\n",
              "    <tr>\n",
              "      <th>2021-11-15</th>\n",
              "      <td>395.910004</td>\n",
              "      <td>396.239990</td>\n",
              "      <td>392.100006</td>\n",
              "      <td>394.609985</td>\n",
              "      <td>390.618713</td>\n",
              "      <td>33716900</td>\n",
              "    </tr>\n",
              "    <tr>\n",
              "      <th>2021-11-16</th>\n",
              "      <td>393.859985</td>\n",
              "      <td>397.929993</td>\n",
              "      <td>393.660004</td>\n",
              "      <td>397.420013</td>\n",
              "      <td>393.400299</td>\n",
              "      <td>27872900</td>\n",
              "    </tr>\n",
              "  </tbody>\n",
              "</table>\n",
              "</div>\n",
              "      <button class=\"colab-df-convert\" onclick=\"convertToInteractive('df-a0547148-4ef2-4be8-b385-b105c7593372')\"\n",
              "              title=\"Convert this dataframe to an interactive table.\"\n",
              "              style=\"display:none;\">\n",
              "        \n",
              "  <svg xmlns=\"http://www.w3.org/2000/svg\" height=\"24px\"viewBox=\"0 0 24 24\"\n",
              "       width=\"24px\">\n",
              "    <path d=\"M0 0h24v24H0V0z\" fill=\"none\"/>\n",
              "    <path d=\"M18.56 5.44l.94 2.06.94-2.06 2.06-.94-2.06-.94-.94-2.06-.94 2.06-2.06.94zm-11 1L8.5 8.5l.94-2.06 2.06-.94-2.06-.94L8.5 2.5l-.94 2.06-2.06.94zm10 10l.94 2.06.94-2.06 2.06-.94-2.06-.94-.94-2.06-.94 2.06-2.06.94z\"/><path d=\"M17.41 7.96l-1.37-1.37c-.4-.4-.92-.59-1.43-.59-.52 0-1.04.2-1.43.59L10.3 9.45l-7.72 7.72c-.78.78-.78 2.05 0 2.83L4 21.41c.39.39.9.59 1.41.59.51 0 1.02-.2 1.41-.59l7.78-7.78 2.81-2.81c.8-.78.8-2.07 0-2.86zM5.41 20L4 18.59l7.72-7.72 1.47 1.35L5.41 20z\"/>\n",
              "  </svg>\n",
              "      </button>\n",
              "      \n",
              "  <style>\n",
              "    .colab-df-container {\n",
              "      display:flex;\n",
              "      flex-wrap:wrap;\n",
              "      gap: 12px;\n",
              "    }\n",
              "\n",
              "    .colab-df-convert {\n",
              "      background-color: #E8F0FE;\n",
              "      border: none;\n",
              "      border-radius: 50%;\n",
              "      cursor: pointer;\n",
              "      display: none;\n",
              "      fill: #1967D2;\n",
              "      height: 32px;\n",
              "      padding: 0 0 0 0;\n",
              "      width: 32px;\n",
              "    }\n",
              "\n",
              "    .colab-df-convert:hover {\n",
              "      background-color: #E2EBFA;\n",
              "      box-shadow: 0px 1px 2px rgba(60, 64, 67, 0.3), 0px 1px 3px 1px rgba(60, 64, 67, 0.15);\n",
              "      fill: #174EA6;\n",
              "    }\n",
              "\n",
              "    [theme=dark] .colab-df-convert {\n",
              "      background-color: #3B4455;\n",
              "      fill: #D2E3FC;\n",
              "    }\n",
              "\n",
              "    [theme=dark] .colab-df-convert:hover {\n",
              "      background-color: #434B5C;\n",
              "      box-shadow: 0px 1px 3px 1px rgba(0, 0, 0, 0.15);\n",
              "      filter: drop-shadow(0px 1px 2px rgba(0, 0, 0, 0.3));\n",
              "      fill: #FFFFFF;\n",
              "    }\n",
              "  </style>\n",
              "\n",
              "      <script>\n",
              "        const buttonEl =\n",
              "          document.querySelector('#df-a0547148-4ef2-4be8-b385-b105c7593372 button.colab-df-convert');\n",
              "        buttonEl.style.display =\n",
              "          google.colab.kernel.accessAllowed ? 'block' : 'none';\n",
              "\n",
              "        async function convertToInteractive(key) {\n",
              "          const element = document.querySelector('#df-a0547148-4ef2-4be8-b385-b105c7593372');\n",
              "          const dataTable =\n",
              "            await google.colab.kernel.invokeFunction('convertToInteractive',\n",
              "                                                     [key], {});\n",
              "          if (!dataTable) return;\n",
              "\n",
              "          const docLinkHtml = 'Like what you see? Visit the ' +\n",
              "            '<a target=\"_blank\" href=https://colab.research.google.com/notebooks/data_table.ipynb>data table notebook</a>'\n",
              "            + ' to learn more about interactive tables.';\n",
              "          element.innerHTML = '';\n",
              "          dataTable['output_type'] = 'display_data';\n",
              "          await google.colab.output.renderOutput(dataTable, element);\n",
              "          const docLink = document.createElement('div');\n",
              "          docLink.innerHTML = docLinkHtml;\n",
              "          element.appendChild(docLink);\n",
              "        }\n",
              "      </script>\n",
              "    </div>\n",
              "  </div>\n",
              "  "
            ]
          },
          "metadata": {},
          "execution_count": 4
        }
      ],
      "source": [
        "dfQQQ = yf.download('QQQ',start, end)\n",
        "dfQQQ.head()"
      ]
    },
    {
      "cell_type": "code",
      "execution_count": 5,
      "metadata": {
        "colab": {
          "base_uri": "https://localhost:8080/",
          "height": 256
        },
        "id": "WxgDANnMN-ZZ",
        "outputId": "9e6bcfe5-bcce-4a2a-8c25-dcc8fc0a088f"
      },
      "outputs": [
        {
          "output_type": "stream",
          "name": "stdout",
          "text": [
            "\r[*********************100%***********************]  1 of 1 completed\n"
          ]
        },
        {
          "output_type": "execute_result",
          "data": {
            "text/plain": [
              "                 Open       High        Low      Close  Adj Close    Volume\n",
              "Date                                                                       \n",
              "2021-11-10  81.360001  83.199997  78.250000  79.535004  78.665733  96976800\n",
              "2021-11-11  81.375000  81.495003  79.949997  80.180000  79.303688  57719000\n",
              "2021-11-12  80.904999  83.035004  79.875000  82.724998  81.820869  63820400\n",
              "2021-11-15  83.455002  83.654999  81.044998  82.699997  81.796135  69729200\n",
              "2021-11-16  82.144997  84.705002  82.029999  84.410004  83.487457  51590800"
            ],
            "text/html": [
              "\n",
              "  <div id=\"df-b4dfee21-9f50-4013-ad38-75267a51a4cd\">\n",
              "    <div class=\"colab-df-container\">\n",
              "      <div>\n",
              "<style scoped>\n",
              "    .dataframe tbody tr th:only-of-type {\n",
              "        vertical-align: middle;\n",
              "    }\n",
              "\n",
              "    .dataframe tbody tr th {\n",
              "        vertical-align: top;\n",
              "    }\n",
              "\n",
              "    .dataframe thead th {\n",
              "        text-align: right;\n",
              "    }\n",
              "</style>\n",
              "<table border=\"1\" class=\"dataframe\">\n",
              "  <thead>\n",
              "    <tr style=\"text-align: right;\">\n",
              "      <th></th>\n",
              "      <th>Open</th>\n",
              "      <th>High</th>\n",
              "      <th>Low</th>\n",
              "      <th>Close</th>\n",
              "      <th>Adj Close</th>\n",
              "      <th>Volume</th>\n",
              "    </tr>\n",
              "    <tr>\n",
              "      <th>Date</th>\n",
              "      <th></th>\n",
              "      <th></th>\n",
              "      <th></th>\n",
              "      <th></th>\n",
              "      <th></th>\n",
              "      <th></th>\n",
              "    </tr>\n",
              "  </thead>\n",
              "  <tbody>\n",
              "    <tr>\n",
              "      <th>2021-11-10</th>\n",
              "      <td>81.360001</td>\n",
              "      <td>83.199997</td>\n",
              "      <td>78.250000</td>\n",
              "      <td>79.535004</td>\n",
              "      <td>78.665733</td>\n",
              "      <td>96976800</td>\n",
              "    </tr>\n",
              "    <tr>\n",
              "      <th>2021-11-11</th>\n",
              "      <td>81.375000</td>\n",
              "      <td>81.495003</td>\n",
              "      <td>79.949997</td>\n",
              "      <td>80.180000</td>\n",
              "      <td>79.303688</td>\n",
              "      <td>57719000</td>\n",
              "    </tr>\n",
              "    <tr>\n",
              "      <th>2021-11-12</th>\n",
              "      <td>80.904999</td>\n",
              "      <td>83.035004</td>\n",
              "      <td>79.875000</td>\n",
              "      <td>82.724998</td>\n",
              "      <td>81.820869</td>\n",
              "      <td>63820400</td>\n",
              "    </tr>\n",
              "    <tr>\n",
              "      <th>2021-11-15</th>\n",
              "      <td>83.455002</td>\n",
              "      <td>83.654999</td>\n",
              "      <td>81.044998</td>\n",
              "      <td>82.699997</td>\n",
              "      <td>81.796135</td>\n",
              "      <td>69729200</td>\n",
              "    </tr>\n",
              "    <tr>\n",
              "      <th>2021-11-16</th>\n",
              "      <td>82.144997</td>\n",
              "      <td>84.705002</td>\n",
              "      <td>82.029999</td>\n",
              "      <td>84.410004</td>\n",
              "      <td>83.487457</td>\n",
              "      <td>51590800</td>\n",
              "    </tr>\n",
              "  </tbody>\n",
              "</table>\n",
              "</div>\n",
              "      <button class=\"colab-df-convert\" onclick=\"convertToInteractive('df-b4dfee21-9f50-4013-ad38-75267a51a4cd')\"\n",
              "              title=\"Convert this dataframe to an interactive table.\"\n",
              "              style=\"display:none;\">\n",
              "        \n",
              "  <svg xmlns=\"http://www.w3.org/2000/svg\" height=\"24px\"viewBox=\"0 0 24 24\"\n",
              "       width=\"24px\">\n",
              "    <path d=\"M0 0h24v24H0V0z\" fill=\"none\"/>\n",
              "    <path d=\"M18.56 5.44l.94 2.06.94-2.06 2.06-.94-2.06-.94-.94-2.06-.94 2.06-2.06.94zm-11 1L8.5 8.5l.94-2.06 2.06-.94-2.06-.94L8.5 2.5l-.94 2.06-2.06.94zm10 10l.94 2.06.94-2.06 2.06-.94-2.06-.94-.94-2.06-.94 2.06-2.06.94z\"/><path d=\"M17.41 7.96l-1.37-1.37c-.4-.4-.92-.59-1.43-.59-.52 0-1.04.2-1.43.59L10.3 9.45l-7.72 7.72c-.78.78-.78 2.05 0 2.83L4 21.41c.39.39.9.59 1.41.59.51 0 1.02-.2 1.41-.59l7.78-7.78 2.81-2.81c.8-.78.8-2.07 0-2.86zM5.41 20L4 18.59l7.72-7.72 1.47 1.35L5.41 20z\"/>\n",
              "  </svg>\n",
              "      </button>\n",
              "      \n",
              "  <style>\n",
              "    .colab-df-container {\n",
              "      display:flex;\n",
              "      flex-wrap:wrap;\n",
              "      gap: 12px;\n",
              "    }\n",
              "\n",
              "    .colab-df-convert {\n",
              "      background-color: #E8F0FE;\n",
              "      border: none;\n",
              "      border-radius: 50%;\n",
              "      cursor: pointer;\n",
              "      display: none;\n",
              "      fill: #1967D2;\n",
              "      height: 32px;\n",
              "      padding: 0 0 0 0;\n",
              "      width: 32px;\n",
              "    }\n",
              "\n",
              "    .colab-df-convert:hover {\n",
              "      background-color: #E2EBFA;\n",
              "      box-shadow: 0px 1px 2px rgba(60, 64, 67, 0.3), 0px 1px 3px 1px rgba(60, 64, 67, 0.15);\n",
              "      fill: #174EA6;\n",
              "    }\n",
              "\n",
              "    [theme=dark] .colab-df-convert {\n",
              "      background-color: #3B4455;\n",
              "      fill: #D2E3FC;\n",
              "    }\n",
              "\n",
              "    [theme=dark] .colab-df-convert:hover {\n",
              "      background-color: #434B5C;\n",
              "      box-shadow: 0px 1px 3px 1px rgba(0, 0, 0, 0.15);\n",
              "      filter: drop-shadow(0px 1px 2px rgba(0, 0, 0, 0.3));\n",
              "      fill: #FFFFFF;\n",
              "    }\n",
              "  </style>\n",
              "\n",
              "      <script>\n",
              "        const buttonEl =\n",
              "          document.querySelector('#df-b4dfee21-9f50-4013-ad38-75267a51a4cd button.colab-df-convert');\n",
              "        buttonEl.style.display =\n",
              "          google.colab.kernel.accessAllowed ? 'block' : 'none';\n",
              "\n",
              "        async function convertToInteractive(key) {\n",
              "          const element = document.querySelector('#df-b4dfee21-9f50-4013-ad38-75267a51a4cd');\n",
              "          const dataTable =\n",
              "            await google.colab.kernel.invokeFunction('convertToInteractive',\n",
              "                                                     [key], {});\n",
              "          if (!dataTable) return;\n",
              "\n",
              "          const docLinkHtml = 'Like what you see? Visit the ' +\n",
              "            '<a target=\"_blank\" href=https://colab.research.google.com/notebooks/data_table.ipynb>data table notebook</a>'\n",
              "            + ' to learn more about interactive tables.';\n",
              "          element.innerHTML = '';\n",
              "          dataTable['output_type'] = 'display_data';\n",
              "          await google.colab.output.renderOutput(dataTable, element);\n",
              "          const docLink = document.createElement('div');\n",
              "          docLink.innerHTML = docLinkHtml;\n",
              "          element.appendChild(docLink);\n",
              "        }\n",
              "      </script>\n",
              "    </div>\n",
              "  </div>\n",
              "  "
            ]
          },
          "metadata": {},
          "execution_count": 5
        }
      ],
      "source": [
        "dfTQQQ = yf.download('TQQQ',start, end)\n",
        "dfTQQQ.head()"
      ]
    },
    {
      "cell_type": "code",
      "execution_count": 281,
      "metadata": {
        "id": "-vQhzbw_awTx"
      },
      "outputs": [],
      "source": [
        "def percent_change_strategy(base_col, n_pct, value_range, stride, use_first_row_as_base_price=True):\n",
        "    base_price = None\n",
        "    last_range_index = None\n",
        "    range_size = (value_range[1] - value_range[0]) / stride\n",
        "    \n",
        "    def strategy(row):\n",
        "        prices = row.values\n",
        "        nonlocal base_price\n",
        "        nonlocal value_range\n",
        "        nonlocal range_size\n",
        "        nonlocal last_range_index\n",
        "        if base_price is None:\n",
        "            base_price = prices[base_col]\n",
        "        if last_range_index is None:\n",
        "            last_range_index = 0\n",
        "        signal = 0\n",
        "        \n",
        "        if use_first_row_as_base_price:\n",
        "          changePct = ((prices[base_col] - base_price) / base_price) * 100\n",
        "          range_index = int((changePct - value_range[0]) // range_size)\n",
        "          if (range_index - last_range_index > 0)  and range_index != 0:\n",
        "            signal = 2\n",
        "            last_range_index = range_index\n",
        "          elif range_index - last_range_index < 0:\n",
        "            signal = 1\n",
        "            last_range_index = range_index\n",
        "\n",
        "        else:\n",
        "          if prices[base_col] >= base_price * (1 + n_pct/100):\n",
        "            signal = 2  # Buy signal\n",
        "            base_price = prices[base_col] \n",
        "            # When signal is changed, base price is changed  \n",
        "          elif prices[base_col] <= base_price * (1 - n_pct/100):\n",
        "            signal = 1  # Sell signal\n",
        "            base_price = prices[base_col] \n",
        "            # When signal is changed, base price is changed\n",
        "        \n",
        "        return signal\n",
        "    \n",
        "    return strategy\n"
      ]
    },
    {
      "cell_type": "code",
      "execution_count": 282,
      "metadata": {
        "id": "k7cNaFQiVY6U"
      },
      "outputs": [],
      "source": [
        "def distribute_cost_by_ratio(total_capital, unit_costs, assigned_ratio):\n",
        "    num_tasks = len(unit_costs)\n",
        "    # Define the LP problem\n",
        "    prob = LpProblem(\"Even_Cost_Distribution\", LpMinimize)\n",
        "\n",
        "    # Define the decision variables (positive integers)\n",
        "    x = LpVariable.dicts(\"x\", range(num_tasks), lowBound=0, cat='Integer')\n",
        "\n",
        "    # Define the objective function (minimize the maximum gap)\n",
        "    prob += lpSum([1 for i in range(num_tasks)])\n",
        "\n",
        "    # Define the constraint for total cost within 90% to 100% of total capital\n",
        "    total_cost = lpSum([unit_costs[i] * x[i] for i in range(num_tasks)])\n",
        "    prob += total_cost >= 0.9 * total_capital\n",
        "    prob += total_cost <= 0.99 * total_capital\n",
        "\n",
        "    # Define the constraints (assigned ratio)\n",
        "    cum_ratio = 0\n",
        "    for i in range(len(assigned_ratio)):\n",
        "        assigned_cost = assigned_ratio[i] / sum(assigned_ratio) * total_capital\n",
        "        cum_ratio += assigned_ratio[i]\n",
        "        prob += x[i] * unit_costs[i] >= assigned_cost\n",
        "        if i == len(assigned_ratio) - 1:\n",
        "            prob += lpSum([x[j] for j in range(i+1, num_tasks)]) == 0\n",
        "        else:\n",
        "            next_assigned_cost = cum_ratio / sum(assigned_ratio) * total_capital\n",
        "            prob += x[i] * unit_costs[i] <= next_assigned_cost\n",
        "\n",
        "    # Solve the LP problem\n",
        "    prob.solve()\n",
        "\n",
        "    # Print the solution\n",
        "    # print(\"Evenly distributed costs:\")\n",
        "    # for i in range(num_tasks):\n",
        "    #     budget = round(x[i].value(), 2)\n",
        "    #     cost = round(budget * unit_costs[i], 2)\n",
        "    #     print(f\"Task {i+1}: budget = {budget}, cost = {cost}\")\n",
        "    return [int(x[i].value()) for i in range(num_tasks)]"
      ]
    },
    {
      "cell_type": "code",
      "execution_count": 283,
      "metadata": {
        "id": "IXcDmqdj72Xl"
      },
      "outputs": [],
      "source": [
        "def calculate_shares_to_buy(row, cash, ratio):\n",
        "    # stock_prices = row.values\n",
        "    stock_prices = row\n",
        "    shares_to_buy = distribute_cost_by_ratio(cash,stock_prices,ratio)\n",
        "    return shares_to_buy"
      ]
    },
    {
      "cell_type": "code",
      "execution_count": 284,
      "metadata": {
        "id": "04LS7hWYmYBA"
      },
      "outputs": [],
      "source": [
        "def cash_balance_closure(initial_cash, name_of_first_row,ratio_in):\n",
        "    initial_cash_balance = None\n",
        "    prev_shares_to_buy = None\n",
        "    prev_signal = None\n",
        "    ratio = ratio_in\n",
        "    def cash_balance_apply(row):\n",
        "        nonlocal initial_cash_balance\n",
        "        nonlocal prev_shares_to_buy\n",
        "        nonlocal prev_signal\n",
        "        nonlocal ratio\n",
        "        if row.name != name_of_first_row :\n",
        "          # Get the previous row's cash balance and signal value\n",
        "          prev_cash_balance = initial_cash_balance\n",
        "          shares_to_buy = prev_shares_to_buy\n",
        "          signal = prev_signal\n",
        "\n",
        "          if signal == 1:\n",
        "              # Calculate shares to buy for each stock based on previous cash balance\n",
        "              stock_prices = row.values[:2]  # only stock price columns\n",
        "              shares_to_buy = calculate_shares_to_buy(stock_prices, prev_cash_balance, ratio)\n",
        "\n",
        "          # Calculate the new cash balance based on the shares bought and current stock prices\n",
        "          stock_prices = row.values[:2]  # only stock price columns\n",
        "          new_cash_balance = sum(shares_to_buy * stock_prices)\n",
        "\n",
        "          # Update the initial cash balance for the next row\n",
        "          initial_cash_balance = new_cash_balance\n",
        "          prev_shares_to_buy = shares_to_buy\n",
        "          prev_signal = row['signal']\n",
        "\n",
        "        else :\n",
        "          # Set the cash balance to the initial cash balance for the first row\n",
        "          stock_prices = row.values[:2]  # only stock price columns\n",
        "          new_cash_balance = initial_cash\n",
        "          prev_shares_to_buy = calculate_shares_to_buy(stock_prices, new_cash_balance, ratio)\n",
        "          prev_signal = row['signal']\n",
        "\n",
        "        # Return the updated cash balance for the current row\n",
        "        return pd.Series([new_cash_balance, prev_shares_to_buy])\n",
        "\n",
        "    # Return the inner function\n",
        "    return cash_balance_apply\n"
      ]
    },
    {
      "cell_type": "code",
      "execution_count": 285,
      "metadata": {
        "id": "hVcxli8Mihyc"
      },
      "outputs": [],
      "source": [
        "# 2021 11 15 부터 해보자\n",
        "# 이 때부터 대세 하락이 시작되었다."
      ]
    },
    {
      "cell_type": "code",
      "execution_count": 286,
      "metadata": {
        "id": "t37FBEQI4puc"
      },
      "outputs": [],
      "source": [
        "basePriceDf = pd.merge(left = dfQQQ[\"Adj Close\"], right = dfTQQQ[\"Adj Close\"], left_index=True, right_index=True)"
      ]
    },
    {
      "cell_type": "code",
      "execution_count": 287,
      "metadata": {
        "id": "GWm-814bDga-"
      },
      "outputs": [],
      "source": [
        "strategy = percent_change_strategy(0, 10,[0,100],10,True)\n",
        "basePriceDf['signal'] = basePriceDf.apply(strategy, axis=1)"
      ]
    },
    {
      "cell_type": "code",
      "execution_count": 293,
      "metadata": {
        "colab": {
          "base_uri": "https://localhost:8080/",
          "height": 143
        },
        "id": "f9ry9iL-D0My",
        "outputId": "89409c1f-d685-47a8-bca4-85a89f34be71"
      },
      "outputs": [
        {
          "output_type": "execute_result",
          "data": {
            "text/plain": [
              "            Adj Close_x  Adj Close_y  signal\n",
              "Date                                        \n",
              "2022-01-27   338.081207    50.996487       0\n",
              "2022-01-28   348.686493    55.753910       2"
            ],
            "text/html": [
              "\n",
              "  <div id=\"df-08c504f6-0bb1-4eee-be41-70d0041bc615\">\n",
              "    <div class=\"colab-df-container\">\n",
              "      <div>\n",
              "<style scoped>\n",
              "    .dataframe tbody tr th:only-of-type {\n",
              "        vertical-align: middle;\n",
              "    }\n",
              "\n",
              "    .dataframe tbody tr th {\n",
              "        vertical-align: top;\n",
              "    }\n",
              "\n",
              "    .dataframe thead th {\n",
              "        text-align: right;\n",
              "    }\n",
              "</style>\n",
              "<table border=\"1\" class=\"dataframe\">\n",
              "  <thead>\n",
              "    <tr style=\"text-align: right;\">\n",
              "      <th></th>\n",
              "      <th>Adj Close_x</th>\n",
              "      <th>Adj Close_y</th>\n",
              "      <th>signal</th>\n",
              "    </tr>\n",
              "    <tr>\n",
              "      <th>Date</th>\n",
              "      <th></th>\n",
              "      <th></th>\n",
              "      <th></th>\n",
              "    </tr>\n",
              "  </thead>\n",
              "  <tbody>\n",
              "    <tr>\n",
              "      <th>2022-01-27</th>\n",
              "      <td>338.081207</td>\n",
              "      <td>50.996487</td>\n",
              "      <td>0</td>\n",
              "    </tr>\n",
              "    <tr>\n",
              "      <th>2022-01-28</th>\n",
              "      <td>348.686493</td>\n",
              "      <td>55.753910</td>\n",
              "      <td>2</td>\n",
              "    </tr>\n",
              "  </tbody>\n",
              "</table>\n",
              "</div>\n",
              "      <button class=\"colab-df-convert\" onclick=\"convertToInteractive('df-08c504f6-0bb1-4eee-be41-70d0041bc615')\"\n",
              "              title=\"Convert this dataframe to an interactive table.\"\n",
              "              style=\"display:none;\">\n",
              "        \n",
              "  <svg xmlns=\"http://www.w3.org/2000/svg\" height=\"24px\"viewBox=\"0 0 24 24\"\n",
              "       width=\"24px\">\n",
              "    <path d=\"M0 0h24v24H0V0z\" fill=\"none\"/>\n",
              "    <path d=\"M18.56 5.44l.94 2.06.94-2.06 2.06-.94-2.06-.94-.94-2.06-.94 2.06-2.06.94zm-11 1L8.5 8.5l.94-2.06 2.06-.94-2.06-.94L8.5 2.5l-.94 2.06-2.06.94zm10 10l.94 2.06.94-2.06 2.06-.94-2.06-.94-.94-2.06-.94 2.06-2.06.94z\"/><path d=\"M17.41 7.96l-1.37-1.37c-.4-.4-.92-.59-1.43-.59-.52 0-1.04.2-1.43.59L10.3 9.45l-7.72 7.72c-.78.78-.78 2.05 0 2.83L4 21.41c.39.39.9.59 1.41.59.51 0 1.02-.2 1.41-.59l7.78-7.78 2.81-2.81c.8-.78.8-2.07 0-2.86zM5.41 20L4 18.59l7.72-7.72 1.47 1.35L5.41 20z\"/>\n",
              "  </svg>\n",
              "      </button>\n",
              "      \n",
              "  <style>\n",
              "    .colab-df-container {\n",
              "      display:flex;\n",
              "      flex-wrap:wrap;\n",
              "      gap: 12px;\n",
              "    }\n",
              "\n",
              "    .colab-df-convert {\n",
              "      background-color: #E8F0FE;\n",
              "      border: none;\n",
              "      border-radius: 50%;\n",
              "      cursor: pointer;\n",
              "      display: none;\n",
              "      fill: #1967D2;\n",
              "      height: 32px;\n",
              "      padding: 0 0 0 0;\n",
              "      width: 32px;\n",
              "    }\n",
              "\n",
              "    .colab-df-convert:hover {\n",
              "      background-color: #E2EBFA;\n",
              "      box-shadow: 0px 1px 2px rgba(60, 64, 67, 0.3), 0px 1px 3px 1px rgba(60, 64, 67, 0.15);\n",
              "      fill: #174EA6;\n",
              "    }\n",
              "\n",
              "    [theme=dark] .colab-df-convert {\n",
              "      background-color: #3B4455;\n",
              "      fill: #D2E3FC;\n",
              "    }\n",
              "\n",
              "    [theme=dark] .colab-df-convert:hover {\n",
              "      background-color: #434B5C;\n",
              "      box-shadow: 0px 1px 3px 1px rgba(0, 0, 0, 0.15);\n",
              "      filter: drop-shadow(0px 1px 2px rgba(0, 0, 0, 0.3));\n",
              "      fill: #FFFFFF;\n",
              "    }\n",
              "  </style>\n",
              "\n",
              "      <script>\n",
              "        const buttonEl =\n",
              "          document.querySelector('#df-08c504f6-0bb1-4eee-be41-70d0041bc615 button.colab-df-convert');\n",
              "        buttonEl.style.display =\n",
              "          google.colab.kernel.accessAllowed ? 'block' : 'none';\n",
              "\n",
              "        async function convertToInteractive(key) {\n",
              "          const element = document.querySelector('#df-08c504f6-0bb1-4eee-be41-70d0041bc615');\n",
              "          const dataTable =\n",
              "            await google.colab.kernel.invokeFunction('convertToInteractive',\n",
              "                                                     [key], {});\n",
              "          if (!dataTable) return;\n",
              "\n",
              "          const docLinkHtml = 'Like what you see? Visit the ' +\n",
              "            '<a target=\"_blank\" href=https://colab.research.google.com/notebooks/data_table.ipynb>data table notebook</a>'\n",
              "            + ' to learn more about interactive tables.';\n",
              "          element.innerHTML = '';\n",
              "          dataTable['output_type'] = 'display_data';\n",
              "          await google.colab.output.renderOutput(dataTable, element);\n",
              "          const docLink = document.createElement('div');\n",
              "          docLink.innerHTML = docLinkHtml;\n",
              "          element.appendChild(docLink);\n",
              "        }\n",
              "      </script>\n",
              "    </div>\n",
              "  </div>\n",
              "  "
            ]
          },
          "metadata": {},
          "execution_count": 293
        }
      ],
      "source": [
        "basePriceDf.loc[['2022-01-27','2022-01-28']]"
      ]
    },
    {
      "cell_type": "code",
      "source": [
        "basePriceDf.plot(y='signal',figsize = (15,4))"
      ],
      "metadata": {
        "colab": {
          "base_uri": "https://localhost:8080/",
          "height": 397
        },
        "id": "HuqhJjJJsRzA",
        "outputId": "83412eb8-a4de-4abd-a75f-1e4bf3158de4"
      },
      "execution_count": 289,
      "outputs": [
        {
          "output_type": "execute_result",
          "data": {
            "text/plain": [
              "<Axes: xlabel='Date'>"
            ]
          },
          "metadata": {},
          "execution_count": 289
        },
        {
          "output_type": "display_data",
          "data": {
            "text/plain": [
              "<Figure size 1500x400 with 1 Axes>"
            ],
            "image/png": "[encoded data removed]"
          },
          "metadata": {}
        }
      ]
    },
    {
      "cell_type": "code",
      "source": [
        "basePriceDf[basePriceDf['signal']==2]"
      ],
      "metadata": {
        "colab": {
          "base_uri": "https://localhost:8080/",
          "height": 677
        },
        "id": "Q-IvKJnUvvfv",
        "outputId": "f21009e1-a0d6-4d21-b589-5457045a8fd4"
      },
      "execution_count": 290,
      "outputs": [
        {
          "output_type": "execute_result",
          "data": {
            "text/plain": [
              "            Adj Close_x  Adj Close_y  signal\n",
              "Date                                        \n",
              "2022-01-28   348.686493    55.753910       2\n",
              "2022-02-15   352.978210    56.673748       2\n",
              "2022-03-18   348.379242    52.588886       2\n",
              "2022-06-02   311.982910    34.518570       2\n",
              "2022-06-17   272.595581    22.422232       2\n",
              "2022-07-29   313.656464    32.995396       2\n",
              "2022-09-12   308.963440    30.591957       2\n",
              "2022-10-03   272.454926    20.434200       2\n",
              "2022-10-18   270.412964    19.563818       2\n",
              "2022-10-21   274.337494    20.345184       2\n",
              "2022-11-10   281.638702    21.215567       2\n",
              "2022-12-21   273.027344    18.772560       2\n",
              "2023-01-09   270.121826    17.905615       2\n",
              "2023-02-02   311.238159    26.754030       2\n",
              "2023-02-07   309.401001    26.256929       2\n",
              "2023-02-15   308.622223    25.908957       2\n",
              "2023-03-21   310.339996    25.730000       2\n",
              "2023-03-23   309.750000    25.559999       2\n",
              "2023-03-29   312.720001    26.230000       2"
            ],
            "text/html": [
              "\n",
              "  <div id=\"df-7c39a9a2-3170-44cb-9b5a-02f620fefa1f\">\n",
              "    <div class=\"colab-df-container\">\n",
              "      <div>\n",
              "<style scoped>\n",
              "    .dataframe tbody tr th:only-of-type {\n",
              "        vertical-align: middle;\n",
              "    }\n",
              "\n",
              "    .dataframe tbody tr th {\n",
              "        vertical-align: top;\n",
              "    }\n",
              "\n",
              "    .dataframe thead th {\n",
              "        text-align: right;\n",
              "    }\n",
              "</style>\n",
              "<table border=\"1\" class=\"dataframe\">\n",
              "  <thead>\n",
              "    <tr style=\"text-align: right;\">\n",
              "      <th></th>\n",
              "      <th>Adj Close_x</th>\n",
              "      <th>Adj Close_y</th>\n",
              "      <th>signal</th>\n",
              "    </tr>\n",
              "    <tr>\n",
              "      <th>Date</th>\n",
              "      <th></th>\n",
              "      <th></th>\n",
              "      <th></th>\n",
              "    </tr>\n",
              "  </thead>\n",
              "  <tbody>\n",
              "    <tr>\n",
              "      <th>2022-01-28</th>\n",
              "      <td>348.686493</td>\n",
              "      <td>55.753910</td>\n",
              "      <td>2</td>\n",
              "    </tr>\n",
              "    <tr>\n",
              "      <th>2022-02-15</th>\n",
              "      <td>352.978210</td>\n",
              "      <td>56.673748</td>\n",
              "      <td>2</td>\n",
              "    </tr>\n",
              "    <tr>\n",
              "      <th>2022-03-18</th>\n",
              "      <td>348.379242</td>\n",
              "      <td>52.588886</td>\n",
              "      <td>2</td>\n",
              "    </tr>\n",
              "    <tr>\n",
              "      <th>2022-06-02</th>\n",
              "      <td>311.982910</td>\n",
              "      <td>34.518570</td>\n",
              "      <td>2</td>\n",
              "    </tr>\n",
              "    <tr>\n",
              "      <th>2022-06-17</th>\n",
              "      <td>272.595581</td>\n",
              "      <td>22.422232</td>\n",
              "      <td>2</td>\n",
              "    </tr>\n",
              "    <tr>\n",
              "      <th>2022-07-29</th>\n",
              "      <td>313.656464</td>\n",
              "      <td>32.995396</td>\n",
              "      <td>2</td>\n",
              "    </tr>\n",
              "    <tr>\n",
              "      <th>2022-09-12</th>\n",
              "      <td>308.963440</td>\n",
              "      <td>30.591957</td>\n",
              "      <td>2</td>\n",
              "    </tr>\n",
              "    <tr>\n",
              "      <th>2022-10-03</th>\n",
              "      <td>272.454926</td>\n",
              "      <td>20.434200</td>\n",
              "      <td>2</td>\n",
              "    </tr>\n",
              "    <tr>\n",
              "      <th>2022-10-18</th>\n",
              "      <td>270.412964</td>\n",
              "      <td>19.563818</td>\n",
              "      <td>2</td>\n",
              "    </tr>\n",
              "    <tr>\n",
              "      <th>2022-10-21</th>\n",
              "      <td>274.337494</td>\n",
              "      <td>20.345184</td>\n",
              "      <td>2</td>\n",
              "    </tr>\n",
              "    <tr>\n",
              "      <th>2022-11-10</th>\n",
              "      <td>281.638702</td>\n",
              "      <td>21.215567</td>\n",
              "      <td>2</td>\n",
              "    </tr>\n",
              "    <tr>\n",
              "      <th>2022-12-21</th>\n",
              "      <td>273.027344</td>\n",
              "      <td>18.772560</td>\n",
              "      <td>2</td>\n",
              "    </tr>\n",
              "    <tr>\n",
              "      <th>2023-01-09</th>\n",
              "      <td>270.121826</td>\n",
              "      <td>17.905615</td>\n",
              "      <td>2</td>\n",
              "    </tr>\n",
              "    <tr>\n",
              "      <th>2023-02-02</th>\n",
              "      <td>311.238159</td>\n",
              "      <td>26.754030</td>\n",
              "      <td>2</td>\n",
              "    </tr>\n",
              "    <tr>\n",
              "      <th>2023-02-07</th>\n",
              "      <td>309.401001</td>\n",
              "      <td>26.256929</td>\n",
              "      <td>2</td>\n",
              "    </tr>\n",
              "    <tr>\n",
              "      <th>2023-02-15</th>\n",
              "      <td>308.622223</td>\n",
              "      <td>25.908957</td>\n",
              "      <td>2</td>\n",
              "    </tr>\n",
              "    <tr>\n",
              "      <th>2023-03-21</th>\n",
              "      <td>310.339996</td>\n",
              "      <td>25.730000</td>\n",
              "      <td>2</td>\n",
              "    </tr>\n",
              "    <tr>\n",
              "      <th>2023-03-23</th>\n",
              "      <td>309.750000</td>\n",
              "      <td>25.559999</td>\n",
              "      <td>2</td>\n",
              "    </tr>\n",
              "    <tr>\n",
              "      <th>2023-03-29</th>\n",
              "      <td>312.720001</td>\n",
              "      <td>26.230000</td>\n",
              "      <td>2</td>\n",
              "    </tr>\n",
              "  </tbody>\n",
              "</table>\n",
              "</div>\n",
              "      <button class=\"colab-df-convert\" onclick=\"convertToInteractive('df-7c39a9a2-3170-44cb-9b5a-02f620fefa1f')\"\n",
              "              title=\"Convert this dataframe to an interactive table.\"\n",
              "              style=\"display:none;\">\n",
              "        \n",
              "  <svg xmlns=\"http://www.w3.org/2000/svg\" height=\"24px\"viewBox=\"0 0 24 24\"\n",
              "       width=\"24px\">\n",
              "    <path d=\"M0 0h24v24H0V0z\" fill=\"none\"/>\n",
              "    <path d=\"M18.56 5.44l.94 2.06.94-2.06 2.06-.94-2.06-.94-.94-2.06-.94 2.06-2.06.94zm-11 1L8.5 8.5l.94-2.06 2.06-.94-2.06-.94L8.5 2.5l-.94 2.06-2.06.94zm10 10l.94 2.06.94-2.06 2.06-.94-2.06-.94-.94-2.06-.94 2.06-2.06.94z\"/><path d=\"M17.41 7.96l-1.37-1.37c-.4-.4-.92-.59-1.43-.59-.52 0-1.04.2-1.43.59L10.3 9.45l-7.72 7.72c-.78.78-.78 2.05 0 2.83L4 21.41c.39.39.9.59 1.41.59.51 0 1.02-.2 1.41-.59l7.78-7.78 2.81-2.81c.8-.78.8-2.07 0-2.86zM5.41 20L4 18.59l7.72-7.72 1.47 1.35L5.41 20z\"/>\n",
              "  </svg>\n",
              "      </button>\n",
              "      \n",
              "  <style>\n",
              "    .colab-df-container {\n",
              "      display:flex;\n",
              "      flex-wrap:wrap;\n",
              "      gap: 12px;\n",
              "    }\n",
              "\n",
              "    .colab-df-convert {\n",
              "      background-color: #E8F0FE;\n",
              "      border: none;\n",
              "      border-radius: 50%;\n",
              "      cursor: pointer;\n",
              "      display: none;\n",
              "      fill: #1967D2;\n",
              "      height: 32px;\n",
              "      padding: 0 0 0 0;\n",
              "      width: 32px;\n",
              "    }\n",
              "\n",
              "    .colab-df-convert:hover {\n",
              "      background-color: #E2EBFA;\n",
              "      box-shadow: 0px 1px 2px rgba(60, 64, 67, 0.3), 0px 1px 3px 1px rgba(60, 64, 67, 0.15);\n",
              "      fill: #174EA6;\n",
              "    }\n",
              "\n",
              "    [theme=dark] .colab-df-convert {\n",
              "      background-color: #3B4455;\n",
              "      fill: #D2E3FC;\n",
              "    }\n",
              "\n",
              "    [theme=dark] .colab-df-convert:hover {\n",
              "      background-color: #434B5C;\n",
              "      box-shadow: 0px 1px 3px 1px rgba(0, 0, 0, 0.15);\n",
              "      filter: drop-shadow(0px 1px 2px rgba(0, 0, 0, 0.3));\n",
              "      fill: #FFFFFF;\n",
              "    }\n",
              "  </style>\n",
              "\n",
              "      <script>\n",
              "        const buttonEl =\n",
              "          document.querySelector('#df-7c39a9a2-3170-44cb-9b5a-02f620fefa1f button.colab-df-convert');\n",
              "        buttonEl.style.display =\n",
              "          google.colab.kernel.accessAllowed ? 'block' : 'none';\n",
              "\n",
              "        async function convertToInteractive(key) {\n",
              "          const element = document.querySelector('#df-7c39a9a2-3170-44cb-9b5a-02f620fefa1f');\n",
              "          const dataTable =\n",
              "            await google.colab.kernel.invokeFunction('convertToInteractive',\n",
              "                                                     [key], {});\n",
              "          if (!dataTable) return;\n",
              "\n",
              "          const docLinkHtml = 'Like what you see? Visit the ' +\n",
              "            '<a target=\"_blank\" href=https://colab.research.google.com/notebooks/data_table.ipynb>data table notebook</a>'\n",
              "            + ' to learn more about interactive tables.';\n",
              "          element.innerHTML = '';\n",
              "          dataTable['output_type'] = 'display_data';\n",
              "          await google.colab.output.renderOutput(dataTable, element);\n",
              "          const docLink = document.createElement('div');\n",
              "          docLink.innerHTML = docLinkHtml;\n",
              "          element.appendChild(docLink);\n",
              "        }\n",
              "      </script>\n",
              "    </div>\n",
              "  </div>\n",
              "  "
            ]
          },
          "metadata": {},
          "execution_count": 290
        }
      ]
    },
    {
      "cell_type": "code",
      "execution_count": 251,
      "metadata": {
        "id": "r2o4RDUYmZdV"
      },
      "outputs": [],
      "source": [
        "initial_cash_balance = 15000\n",
        "cash_balance_apply = cash_balance_closure(initial_cash_balance,basePriceDf.index[0],[1,1])\n",
        "basePriceDf[['cash_balance','shares_to_buy']] = basePriceDf.apply(cash_balance_apply, axis=1)"
      ]
    },
    {
      "cell_type": "code",
      "execution_count": 252,
      "metadata": {
        "colab": {
          "base_uri": "https://localhost:8080/",
          "height": 394
        },
        "id": "qa6tFHvD6n_X",
        "outputId": "810ba126-3a1d-4d5a-ae7a-6c0dcbe8cf83"
      },
      "outputs": [
        {
          "output_type": "execute_result",
          "data": {
            "text/plain": [
              "            Adj Close_x  Adj Close_y  signal  cash_balance shares_to_buy\n",
              "Date                                                                    \n",
              "2021-11-10   385.570312    78.665733       0  15000.000000      [19, 95]\n",
              "2021-11-11   386.639435    79.303688       0  14879.999626      [19, 95]\n",
              "2021-11-12   390.707825    81.820869       0  15196.431267      [19, 95]\n",
              "2021-11-15   390.618713    81.796135       0  15192.388374      [19, 95]\n",
              "2021-11-16   393.400299    83.487457       0  15405.914124      [19, 95]\n",
              "2021-11-17   393.608246    83.586365       0  15419.261322      [19, 95]\n",
              "2021-11-18   397.686493    86.143112       0  15739.639023      [19, 95]\n",
              "2021-11-19   399.903870    87.601990       0  15920.362549      [19, 95]\n",
              "2021-11-22   395.261292    84.565544       0  15543.691231      [19, 95]\n",
              "2021-11-23   393.459717    83.413277       0  15399.995903      [19, 95]"
            ],
            "text/html": [
              "\n",
              "  <div id=\"df-a2d06ca0-9a7d-4120-8504-f5c6d7f4eb66\">\n",
              "    <div class=\"colab-df-container\">\n",
              "      <div>\n",
              "<style scoped>\n",
              "    .dataframe tbody tr th:only-of-type {\n",
              "        vertical-align: middle;\n",
              "    }\n",
              "\n",
              "    .dataframe tbody tr th {\n",
              "        vertical-align: top;\n",
              "    }\n",
              "\n",
              "    .dataframe thead th {\n",
              "        text-align: right;\n",
              "    }\n",
              "</style>\n",
              "<table border=\"1\" class=\"dataframe\">\n",
              "  <thead>\n",
              "    <tr style=\"text-align: right;\">\n",
              "      <th></th>\n",
              "      <th>Adj Close_x</th>\n",
              "      <th>Adj Close_y</th>\n",
              "      <th>signal</th>\n",
              "      <th>cash_balance</th>\n",
              "      <th>shares_to_buy</th>\n",
              "    </tr>\n",
              "    <tr>\n",
              "      <th>Date</th>\n",
              "      <th></th>\n",
              "      <th></th>\n",
              "      <th></th>\n",
              "      <th></th>\n",
              "      <th></th>\n",
              "    </tr>\n",
              "  </thead>\n",
              "  <tbody>\n",
              "    <tr>\n",
              "      <th>2021-11-10</th>\n",
              "      <td>385.570312</td>\n",
              "      <td>78.665733</td>\n",
              "      <td>0</td>\n",
              "      <td>15000.000000</td>\n",
              "      <td>[19, 95]</td>\n",
              "    </tr>\n",
              "    <tr>\n",
              "      <th>2021-11-11</th>\n",
              "      <td>386.639435</td>\n",
              "      <td>79.303688</td>\n",
              "      <td>0</td>\n",
              "      <td>14879.999626</td>\n",
              "      <td>[19, 95]</td>\n",
              "    </tr>\n",
              "    <tr>\n",
              "      <th>2021-11-12</th>\n",
              "      <td>390.707825</td>\n",
              "      <td>81.820869</td>\n",
              "      <td>0</td>\n",
              "      <td>15196.431267</td>\n",
              "      <td>[19, 95]</td>\n",
              "    </tr>\n",
              "    <tr>\n",
              "      <th>2021-11-15</th>\n",
              "      <td>390.618713</td>\n",
              "      <td>81.796135</td>\n",
              "      <td>0</td>\n",
              "      <td>15192.388374</td>\n",
              "      <td>[19, 95]</td>\n",
              "    </tr>\n",
              "    <tr>\n",
              "      <th>2021-11-16</th>\n",
              "      <td>393.400299</td>\n",
              "      <td>83.487457</td>\n",
              "      <td>0</td>\n",
              "      <td>15405.914124</td>\n",
              "      <td>[19, 95]</td>\n",
              "    </tr>\n",
              "    <tr>\n",
              "      <th>2021-11-17</th>\n",
              "      <td>393.608246</td>\n",
              "      <td>83.586365</td>\n",
              "      <td>0</td>\n",
              "      <td>15419.261322</td>\n",
              "      <td>[19, 95]</td>\n",
              "    </tr>\n",
              "    <tr>\n",
              "      <th>2021-11-18</th>\n",
              "      <td>397.686493</td>\n",
              "      <td>86.143112</td>\n",
              "      <td>0</td>\n",
              "      <td>15739.639023</td>\n",
              "      <td>[19, 95]</td>\n",
              "    </tr>\n",
              "    <tr>\n",
              "      <th>2021-11-19</th>\n",
              "      <td>399.903870</td>\n",
              "      <td>87.601990</td>\n",
              "      <td>0</td>\n",
              "      <td>15920.362549</td>\n",
              "      <td>[19, 95]</td>\n",
              "    </tr>\n",
              "    <tr>\n",
              "      <th>2021-11-22</th>\n",
              "      <td>395.261292</td>\n",
              "      <td>84.565544</td>\n",
              "      <td>0</td>\n",
              "      <td>15543.691231</td>\n",
              "      <td>[19, 95]</td>\n",
              "    </tr>\n",
              "    <tr>\n",
              "      <th>2021-11-23</th>\n",
              "      <td>393.459717</td>\n",
              "      <td>83.413277</td>\n",
              "      <td>0</td>\n",
              "      <td>15399.995903</td>\n",
              "      <td>[19, 95]</td>\n",
              "    </tr>\n",
              "  </tbody>\n",
              "</table>\n",
              "</div>\n",
              "      <button class=\"colab-df-convert\" onclick=\"convertToInteractive('df-a2d06ca0-9a7d-4120-8504-f5c6d7f4eb66')\"\n",
              "              title=\"Convert this dataframe to an interactive table.\"\n",
              "              style=\"display:none;\">\n",
              "        \n",
              "  <svg xmlns=\"http://www.w3.org/2000/svg\" height=\"24px\"viewBox=\"0 0 24 24\"\n",
              "       width=\"24px\">\n",
              "    <path d=\"M0 0h24v24H0V0z\" fill=\"none\"/>\n",
              "    <path d=\"M18.56 5.44l.94 2.06.94-2.06 2.06-.94-2.06-.94-.94-2.06-.94 2.06-2.06.94zm-11 1L8.5 8.5l.94-2.06 2.06-.94-2.06-.94L8.5 2.5l-.94 2.06-2.06.94zm10 10l.94 2.06.94-2.06 2.06-.94-2.06-.94-.94-2.06-.94 2.06-2.06.94z\"/><path d=\"M17.41 7.96l-1.37-1.37c-.4-.4-.92-.59-1.43-.59-.52 0-1.04.2-1.43.59L10.3 9.45l-7.72 7.72c-.78.78-.78 2.05 0 2.83L4 21.41c.39.39.9.59 1.41.59.51 0 1.02-.2 1.41-.59l7.78-7.78 2.81-2.81c.8-.78.8-2.07 0-2.86zM5.41 20L4 18.59l7.72-7.72 1.47 1.35L5.41 20z\"/>\n",
              "  </svg>\n",
              "      </button>\n",
              "      \n",
              "  <style>\n",
              "    .colab-df-container {\n",
              "      display:flex;\n",
              "      flex-wrap:wrap;\n",
              "      gap: 12px;\n",
              "    }\n",
              "\n",
              "    .colab-df-convert {\n",
              "      background-color: #E8F0FE;\n",
              "      border: none;\n",
              "      border-radius: 50%;\n",
              "      cursor: pointer;\n",
              "      display: none;\n",
              "      fill: #1967D2;\n",
              "      height: 32px;\n",
              "      padding: 0 0 0 0;\n",
              "      width: 32px;\n",
              "    }\n",
              "\n",
              "    .colab-df-convert:hover {\n",
              "      background-color: #E2EBFA;\n",
              "      box-shadow: 0px 1px 2px rgba(60, 64, 67, 0.3), 0px 1px 3px 1px rgba(60, 64, 67, 0.15);\n",
              "      fill: #174EA6;\n",
              "    }\n",
              "\n",
              "    [theme=dark] .colab-df-convert {\n",
              "      background-color: #3B4455;\n",
              "      fill: #D2E3FC;\n",
              "    }\n",
              "\n",
              "    [theme=dark] .colab-df-convert:hover {\n",
              "      background-color: #434B5C;\n",
              "      box-shadow: 0px 1px 3px 1px rgba(0, 0, 0, 0.15);\n",
              "      filter: drop-shadow(0px 1px 2px rgba(0, 0, 0, 0.3));\n",
              "      fill: #FFFFFF;\n",
              "    }\n",
              "  </style>\n",
              "\n",
              "      <script>\n",
              "        const buttonEl =\n",
              "          document.querySelector('#df-a2d06ca0-9a7d-4120-8504-f5c6d7f4eb66 button.colab-df-convert');\n",
              "        buttonEl.style.display =\n",
              "          google.colab.kernel.accessAllowed ? 'block' : 'none';\n",
              "\n",
              "        async function convertToInteractive(key) {\n",
              "          const element = document.querySelector('#df-a2d06ca0-9a7d-4120-8504-f5c6d7f4eb66');\n",
              "          const dataTable =\n",
              "            await google.colab.kernel.invokeFunction('convertToInteractive',\n",
              "                                                     [key], {});\n",
              "          if (!dataTable) return;\n",
              "\n",
              "          const docLinkHtml = 'Like what you see? Visit the ' +\n",
              "            '<a target=\"_blank\" href=https://colab.research.google.com/notebooks/data_table.ipynb>data table notebook</a>'\n",
              "            + ' to learn more about interactive tables.';\n",
              "          element.innerHTML = '';\n",
              "          dataTable['output_type'] = 'display_data';\n",
              "          await google.colab.output.renderOutput(dataTable, element);\n",
              "          const docLink = document.createElement('div');\n",
              "          docLink.innerHTML = docLinkHtml;\n",
              "          element.appendChild(docLink);\n",
              "        }\n",
              "      </script>\n",
              "    </div>\n",
              "  </div>\n",
              "  "
            ]
          },
          "metadata": {},
          "execution_count": 252
        }
      ],
      "source": [
        "basePriceDf.head(10)"
      ]
    },
    {
      "cell_type": "code",
      "source": [
        "def row_product(row):\n",
        "    return pd.Series([row['Adj Close_x'] * row['shares_to_buy'][0] , row['Adj Close_y'] * row['shares_to_buy'][1]])"
      ],
      "metadata": {
        "id": "v2DyMKuQmJZM"
      },
      "execution_count": 253,
      "outputs": []
    },
    {
      "cell_type": "code",
      "source": [
        "basePriceDf[['balance_x','balance_y']] = basePriceDf.apply(row_product, axis=1)"
      ],
      "metadata": {
        "id": "S13HSBx8lpXw"
      },
      "execution_count": 254,
      "outputs": []
    },
    {
      "cell_type": "code",
      "source": [
        "basePriceDf.head(10)"
      ],
      "metadata": {
        "colab": {
          "base_uri": "https://localhost:8080/",
          "height": 394
        },
        "id": "w4Xjx-avpHH0",
        "outputId": "78497868-fd03-4a06-c2a7-379bf1eeaf52"
      },
      "execution_count": 255,
      "outputs": [
        {
          "output_type": "execute_result",
          "data": {
            "text/plain": [
              "            Adj Close_x  Adj Close_y  signal  cash_balance shares_to_buy  \\\n",
              "Date                                                                       \n",
              "2021-11-10   385.570312    78.665733       0  15000.000000      [19, 95]   \n",
              "2021-11-11   386.639435    79.303688       0  14879.999626      [19, 95]   \n",
              "2021-11-12   390.707825    81.820869       0  15196.431267      [19, 95]   \n",
              "2021-11-15   390.618713    81.796135       0  15192.388374      [19, 95]   \n",
              "2021-11-16   393.400299    83.487457       0  15405.914124      [19, 95]   \n",
              "2021-11-17   393.608246    83.586365       0  15419.261322      [19, 95]   \n",
              "2021-11-18   397.686493    86.143112       0  15739.639023      [19, 95]   \n",
              "2021-11-19   399.903870    87.601990       0  15920.362549      [19, 95]   \n",
              "2021-11-22   395.261292    84.565544       0  15543.691231      [19, 95]   \n",
              "2021-11-23   393.459717    83.413277       0  15399.995903      [19, 95]   \n",
              "\n",
              "              balance_x    balance_y  \n",
              "Date                                  \n",
              "2021-11-10  7325.835938  7473.244667  \n",
              "2021-11-11  7346.149261  7533.850365  \n",
              "2021-11-12  7423.448669  7772.982597  \n",
              "2021-11-15  7421.755554  7770.632820  \n",
              "2021-11-16  7474.605682  7931.308441  \n",
              "2021-11-17  7478.556671  7940.704651  \n",
              "2021-11-18  7556.043365  8183.595657  \n",
              "2021-11-19  7598.173523  8322.189026  \n",
              "2021-11-22  7509.964539  8033.726692  \n",
              "2021-11-23  7475.734619  7924.261284  "
            ],
            "text/html": [
              "\n",
              "  <div id=\"df-e81952d3-8084-4239-847c-b85f81a910b7\">\n",
              "    <div class=\"colab-df-container\">\n",
              "      <div>\n",
              "<style scoped>\n",
              "    .dataframe tbody tr th:only-of-type {\n",
              "        vertical-align: middle;\n",
              "    }\n",
              "\n",
              "    .dataframe tbody tr th {\n",
              "        vertical-align: top;\n",
              "    }\n",
              "\n",
              "    .dataframe thead th {\n",
              "        text-align: right;\n",
              "    }\n",
              "</style>\n",
              "<table border=\"1\" class=\"dataframe\">\n",
              "  <thead>\n",
              "    <tr style=\"text-align: right;\">\n",
              "      <th></th>\n",
              "      <th>Adj Close_x</th>\n",
              "      <th>Adj Close_y</th>\n",
              "      <th>signal</th>\n",
              "      <th>cash_balance</th>\n",
              "      <th>shares_to_buy</th>\n",
              "      <th>balance_x</th>\n",
              "      <th>balance_y</th>\n",
              "    </tr>\n",
              "    <tr>\n",
              "      <th>Date</th>\n",
              "      <th></th>\n",
              "      <th></th>\n",
              "      <th></th>\n",
              "      <th></th>\n",
              "      <th></th>\n",
              "      <th></th>\n",
              "      <th></th>\n",
              "    </tr>\n",
              "  </thead>\n",
              "  <tbody>\n",
              "    <tr>\n",
              "      <th>2021-11-10</th>\n",
              "      <td>385.570312</td>\n",
              "      <td>78.665733</td>\n",
              "      <td>0</td>\n",
              "      <td>15000.000000</td>\n",
              "      <td>[19, 95]</td>\n",
              "      <td>7325.835938</td>\n",
              "      <td>7473.244667</td>\n",
              "    </tr>\n",
              "    <tr>\n",
              "      <th>2021-11-11</th>\n",
              "      <td>386.639435</td>\n",
              "      <td>79.303688</td>\n",
              "      <td>0</td>\n",
              "      <td>14879.999626</td>\n",
              "      <td>[19, 95]</td>\n",
              "      <td>7346.149261</td>\n",
              "      <td>7533.850365</td>\n",
              "    </tr>\n",
              "    <tr>\n",
              "      <th>2021-11-12</th>\n",
              "      <td>390.707825</td>\n",
              "      <td>81.820869</td>\n",
              "      <td>0</td>\n",
              "      <td>15196.431267</td>\n",
              "      <td>[19, 95]</td>\n",
              "      <td>7423.448669</td>\n",
              "      <td>7772.982597</td>\n",
              "    </tr>\n",
              "    <tr>\n",
              "      <th>2021-11-15</th>\n",
              "      <td>390.618713</td>\n",
              "      <td>81.796135</td>\n",
              "      <td>0</td>\n",
              "      <td>15192.388374</td>\n",
              "      <td>[19, 95]</td>\n",
              "      <td>7421.755554</td>\n",
              "      <td>7770.632820</td>\n",
              "    </tr>\n",
              "    <tr>\n",
              "      <th>2021-11-16</th>\n",
              "      <td>393.400299</td>\n",
              "      <td>83.487457</td>\n",
              "      <td>0</td>\n",
              "      <td>15405.914124</td>\n",
              "      <td>[19, 95]</td>\n",
              "      <td>7474.605682</td>\n",
              "      <td>7931.308441</td>\n",
              "    </tr>\n",
              "    <tr>\n",
              "      <th>2021-11-17</th>\n",
              "      <td>393.608246</td>\n",
              "      <td>83.586365</td>\n",
              "      <td>0</td>\n",
              "      <td>15419.261322</td>\n",
              "      <td>[19, 95]</td>\n",
              "      <td>7478.556671</td>\n",
              "      <td>7940.704651</td>\n",
              "    </tr>\n",
              "    <tr>\n",
              "      <th>2021-11-18</th>\n",
              "      <td>397.686493</td>\n",
              "      <td>86.143112</td>\n",
              "      <td>0</td>\n",
              "      <td>15739.639023</td>\n",
              "      <td>[19, 95]</td>\n",
              "      <td>7556.043365</td>\n",
              "      <td>8183.595657</td>\n",
              "    </tr>\n",
              "    <tr>\n",
              "      <th>2021-11-19</th>\n",
              "      <td>399.903870</td>\n",
              "      <td>87.601990</td>\n",
              "      <td>0</td>\n",
              "      <td>15920.362549</td>\n",
              "      <td>[19, 95]</td>\n",
              "      <td>7598.173523</td>\n",
              "      <td>8322.189026</td>\n",
              "    </tr>\n",
              "    <tr>\n",
              "      <th>2021-11-22</th>\n",
              "      <td>395.261292</td>\n",
              "      <td>84.565544</td>\n",
              "      <td>0</td>\n",
              "      <td>15543.691231</td>\n",
              "      <td>[19, 95]</td>\n",
              "      <td>7509.964539</td>\n",
              "      <td>8033.726692</td>\n",
              "    </tr>\n",
              "    <tr>\n",
              "      <th>2021-11-23</th>\n",
              "      <td>393.459717</td>\n",
              "      <td>83.413277</td>\n",
              "      <td>0</td>\n",
              "      <td>15399.995903</td>\n",
              "      <td>[19, 95]</td>\n",
              "      <td>7475.734619</td>\n",
              "      <td>7924.261284</td>\n",
              "    </tr>\n",
              "  </tbody>\n",
              "</table>\n",
              "</div>\n",
              "      <button class=\"colab-df-convert\" onclick=\"convertToInteractive('df-e81952d3-8084-4239-847c-b85f81a910b7')\"\n",
              "              title=\"Convert this dataframe to an interactive table.\"\n",
              "              style=\"display:none;\">\n",
              "        \n",
              "  <svg xmlns=\"http://www.w3.org/2000/svg\" height=\"24px\"viewBox=\"0 0 24 24\"\n",
              "       width=\"24px\">\n",
              "    <path d=\"M0 0h24v24H0V0z\" fill=\"none\"/>\n",
              "    <path d=\"M18.56 5.44l.94 2.06.94-2.06 2.06-.94-2.06-.94-.94-2.06-.94 2.06-2.06.94zm-11 1L8.5 8.5l.94-2.06 2.06-.94-2.06-.94L8.5 2.5l-.94 2.06-2.06.94zm10 10l.94 2.06.94-2.06 2.06-.94-2.06-.94-.94-2.06-.94 2.06-2.06.94z\"/><path d=\"M17.41 7.96l-1.37-1.37c-.4-.4-.92-.59-1.43-.59-.52 0-1.04.2-1.43.59L10.3 9.45l-7.72 7.72c-.78.78-.78 2.05 0 2.83L4 21.41c.39.39.9.59 1.41.59.51 0 1.02-.2 1.41-.59l7.78-7.78 2.81-2.81c.8-.78.8-2.07 0-2.86zM5.41 20L4 18.59l7.72-7.72 1.47 1.35L5.41 20z\"/>\n",
              "  </svg>\n",
              "      </button>\n",
              "      \n",
              "  <style>\n",
              "    .colab-df-container {\n",
              "      display:flex;\n",
              "      flex-wrap:wrap;\n",
              "      gap: 12px;\n",
              "    }\n",
              "\n",
              "    .colab-df-convert {\n",
              "      background-color: #E8F0FE;\n",
              "      border: none;\n",
              "      border-radius: 50%;\n",
              "      cursor: pointer;\n",
              "      display: none;\n",
              "      fill: #1967D2;\n",
              "      height: 32px;\n",
              "      padding: 0 0 0 0;\n",
              "      width: 32px;\n",
              "    }\n",
              "\n",
              "    .colab-df-convert:hover {\n",
              "      background-color: #E2EBFA;\n",
              "      box-shadow: 0px 1px 2px rgba(60, 64, 67, 0.3), 0px 1px 3px 1px rgba(60, 64, 67, 0.15);\n",
              "      fill: #174EA6;\n",
              "    }\n",
              "\n",
              "    [theme=dark] .colab-df-convert {\n",
              "      background-color: #3B4455;\n",
              "      fill: #D2E3FC;\n",
              "    }\n",
              "\n",
              "    [theme=dark] .colab-df-convert:hover {\n",
              "      background-color: #434B5C;\n",
              "      box-shadow: 0px 1px 3px 1px rgba(0, 0, 0, 0.15);\n",
              "      filter: drop-shadow(0px 1px 2px rgba(0, 0, 0, 0.3));\n",
              "      fill: #FFFFFF;\n",
              "    }\n",
              "  </style>\n",
              "\n",
              "      <script>\n",
              "        const buttonEl =\n",
              "          document.querySelector('#df-e81952d3-8084-4239-847c-b85f81a910b7 button.colab-df-convert');\n",
              "        buttonEl.style.display =\n",
              "          google.colab.kernel.accessAllowed ? 'block' : 'none';\n",
              "\n",
              "        async function convertToInteractive(key) {\n",
              "          const element = document.querySelector('#df-e81952d3-8084-4239-847c-b85f81a910b7');\n",
              "          const dataTable =\n",
              "            await google.colab.kernel.invokeFunction('convertToInteractive',\n",
              "                                                     [key], {});\n",
              "          if (!dataTable) return;\n",
              "\n",
              "          const docLinkHtml = 'Like what you see? Visit the ' +\n",
              "            '<a target=\"_blank\" href=https://colab.research.google.com/notebooks/data_table.ipynb>data table notebook</a>'\n",
              "            + ' to learn more about interactive tables.';\n",
              "          element.innerHTML = '';\n",
              "          dataTable['output_type'] = 'display_data';\n",
              "          await google.colab.output.renderOutput(dataTable, element);\n",
              "          const docLink = document.createElement('div');\n",
              "          docLink.innerHTML = docLinkHtml;\n",
              "          element.appendChild(docLink);\n",
              "        }\n",
              "      </script>\n",
              "    </div>\n",
              "  </div>\n",
              "  "
            ]
          },
          "metadata": {},
          "execution_count": 255
        }
      ]
    },
    {
      "cell_type": "code",
      "execution_count": 256,
      "metadata": {
        "colab": {
          "base_uri": "https://localhost:8080/",
          "height": 451
        },
        "id": "5A64tA46IAD_",
        "outputId": "94c9887a-6084-491c-8992-1fbd789f4bf8"
      },
      "outputs": [
        {
          "output_type": "execute_result",
          "data": {
            "text/plain": [
              "<Axes: xlabel='Date'>"
            ]
          },
          "metadata": {},
          "execution_count": 256
        },
        {
          "output_type": "display_data",
          "data": {
            "text/plain": [
              "<Figure size 640x480 with 1 Axes>"
            ],
            "image/png": "[encoded data removed]"
          },
          "metadata": {}
        }
      ],
      "source": [
        "basePriceDf.plot(y=['balance_x', 'balance_y'], kind='line')"
      ]
    },
    {
      "cell_type": "code",
      "execution_count": 258,
      "metadata": {
        "id": "yXHQJ6eZe55B",
        "colab": {
          "base_uri": "https://localhost:8080/",
          "height": 456
        },
        "outputId": "c1260f3e-69a4-434d-bd41-9d347ab52f3c"
      },
      "outputs": [
        {
          "output_type": "display_data",
          "data": {
            "text/plain": [
              "<Figure size 640x480 with 2 Axes>"
            ],
            "image/png": "[encoded data removed]"
          },
          "metadata": {}
        }
      ],
      "source": [
        "# create a line chart with two y-axes\n",
        "ax = basePriceDf.plot(y='Adj Close_x', color='red', kind='line', label='Base Price')\n",
        "ax.set_xlabel('Date')\n",
        "ax.set_ylabel('Base Price', color='red')\n",
        "ax.tick_params(axis='y', labelcolor='red')\n",
        "ax.legend(loc='upper left')\n",
        "\n",
        "ax2 = ax.twinx()\n",
        "basePriceDf.plot(y='cash_balance', color='blue', kind='line', ax=ax2, label='Strategy Price')\n",
        "ax2.set_ylabel('Strategy Price')\n",
        "ax2.yaxis.label.set_color('blue')\n",
        "ax2.tick_params(axis='y', labelcolor='blue')\n",
        "\n",
        "plt.title('Double Y-Axis Chart')\n",
        "\n",
        "# display the chart\n",
        "plt.show()"
      ]
    },
    {
      "cell_type": "code",
      "source": [
        "(basePriceDf.iloc[-1,0] - basePriceDf.iloc[0,0]) / basePriceDf.iloc[0,0]"
      ],
      "metadata": {
        "id": "BPCSGE4BfRaB",
        "colab": {
          "base_uri": "https://localhost:8080/"
        },
        "outputId": "739c67c0-cd12-4d26-87d4-a2f0deb71b39"
      },
      "execution_count": 259,
      "outputs": [
        {
          "output_type": "execute_result",
          "data": {
            "text/plain": [
              "-0.16342107495998218"
            ]
          },
          "metadata": {},
          "execution_count": 259
        }
      ]
    },
    {
      "cell_type": "code",
      "source": [
        "(basePriceDf.iloc[-1,3] - basePriceDf.iloc[0,3]) / basePriceDf.iloc[0,3]"
      ],
      "metadata": {
        "colab": {
          "base_uri": "https://localhost:8080/"
        },
        "id": "mvfoXBIMtDqc",
        "outputId": "b2bfbda0-a497-4104-f83a-60527574fe9b"
      },
      "execution_count": 260,
      "outputs": [
        {
          "output_type": "execute_result",
          "data": {
            "text/plain": [
              "-0.6321013346354166"
            ]
          },
          "metadata": {},
          "execution_count": 260
        }
      ]
    },
    {
      "cell_type": "markdown",
      "source": [
        "## 뭔가 이상함\n",
        "1. 일단 가진 돈을 다 활용하지 않아서 일 수도 있으니 그 방향으로 코드를 바꿔보자.\n",
        "  - 현재는 바로 이전 Row의 돈만을 활용하는 거니 계속 시간이 지날 수록 돈이 쪼그라 드는 거 같음\n",
        "2. 또 떨어질 때 %와 오를 때 %를 다르게 해서 트리거를 걸 수 있도록 하자."
      ],
      "metadata": {
        "id": "JrWUbNTyfSAF"
      }
    },
    {
      "cell_type": "markdown",
      "metadata": {
        "id": "_fKaKuJDfUKu"
      },
      "source": [
        "### TEST SECTION"
      ]
    },
    {
      "cell_type": "code",
      "execution_count": null,
      "metadata": {
        "colab": {
          "background_save": true
        },
        "id": "Ki7uWf43fWaZ"
      },
      "outputs": [],
      "source": [
        "dates = pd.date_range('2022-01-01', periods=10)\n",
        "prices = pd.DataFrame({\n",
        "    'stock1': [10, 12, 15, 14, 13, 12, 13, 15, 16, 17],\n",
        "    'stock2': [20, 22, 25, 24, 23, 22, 23, 25, 26, 27]\n",
        "}, index=dates)"
      ]
    },
    {
      "cell_type": "code",
      "execution_count": null,
      "metadata": {
        "id": "sLF4P6nrLA_J"
      },
      "outputs": [],
      "source": [
        "def printRowname(row):\n",
        "  return row.name"
      ]
    },
    {
      "cell_type": "code",
      "execution_count": null,
      "metadata": {
        "id": "9hH06W0jLJne"
      },
      "outputs": [],
      "source": [
        "prices['name'] = prices.apply(printRowname, axis=1)"
      ]
    },
    {
      "cell_type": "code",
      "execution_count": null,
      "metadata": {
        "colab": {
          "base_uri": "https://localhost:8080/"
        },
        "id": "JWpmK0Rtfh04",
        "outputId": "039ca3d8-f2cc-4ad2-ee35-968b860fd10e"
      },
      "outputs": [
        {
          "data": {
            "text/plain": [
              "2022-01-01   2022-01-01\n",
              "2022-01-02   2022-01-02\n",
              "2022-01-03   2022-01-03\n",
              "2022-01-04   2022-01-04\n",
              "2022-01-05   2022-01-05\n",
              "2022-01-06   2022-01-06\n",
              "2022-01-07   2022-01-07\n",
              "2022-01-08   2022-01-08\n",
              "2022-01-09   2022-01-09\n",
              "2022-01-10   2022-01-10\n",
              "Freq: D, Name: name, dtype: datetime64[ns]"
            ]
          },
          "execution_count": 50,
          "metadata": {},
          "output_type": "execute_result"
        }
      ],
      "source": [
        "prices.loc[:,'name']"
      ]
    },
    {
      "cell_type": "code",
      "execution_count": null,
      "metadata": {
        "id": "BOPqqgw-fXU-"
      },
      "outputs": [],
      "source": [
        "strategy = percent_change_strategy(0, 10)\n",
        "signals = prices.apply(strategy, axis=0)"
      ]
    },
    {
      "cell_type": "code",
      "execution_count": null,
      "metadata": {
        "colab": {
          "base_uri": "https://localhost:8080/"
        },
        "id": "jmZfDl-ojOVq",
        "outputId": "34ec84db-b0a3-4999-f6f4-62e38fcdd4de"
      },
      "outputs": [
        {
          "name": "stdout",
          "output_type": "stream",
          "text": [
            "          A         B         C\n",
            "0  1.000000  2.000000  2.645751\n",
            "1  1.414214  2.236068  2.828427\n",
            "2  1.732051  2.449490  3.000000\n"
          ]
        }
      ],
      "source": [
        "import pandas as pd\n",
        "import numpy as np\n",
        "\n",
        "# create a sample DataFrame\n",
        "df = pd.DataFrame({'A': [1, 2, 3], 'B': [4, 5, 6], 'C': [7, 8, 9]})\n",
        "\n",
        "# define the function to apply\n",
        "def sqrt_func(x):\n",
        "    return np.sqrt(x)\n",
        "\n",
        "# apply the function to multiple columns\n",
        "df[['A', 'B', 'C']] = df[['A', 'B', 'C']].apply(sqrt_func, axis=1)\n",
        "\n",
        "# print the resulting DataFrame\n",
        "print(df)"
      ]
    },
    {
      "cell_type": "code",
      "execution_count": null,
      "metadata": {
        "id": "brTWiXbvOTxb"
      },
      "outputs": [],
      "source": [
        "def trading_decision(signal, cash_balance, num_shares, stock_price):\n",
        "    if signal == 2 and cash_balance > 0:\n",
        "        num_shares_to_buy = cash_balance // stock_price\n",
        "        return buy(stock_price, cash_balance, num_shares_to_buy)\n",
        "    elif signal == 1 and num_shares > 0:\n",
        "        return sell(stock_price, cash_balance, num_shares)\n",
        "    else:\n",
        "        return cash_balance, num_shares\n"
      ]
    },
    {
      "cell_type": "code",
      "execution_count": null,
      "metadata": {
        "id": "lCgPzCOBON95"
      },
      "outputs": [],
      "source": [
        "def sell(stock_price, cash_balance, num_shares):\n",
        "    cash_balance += stock_price * num_shares\n",
        "    num_shares = 0\n",
        "    return cash_balance, num_shares\n"
      ]
    },
    {
      "cell_type": "code",
      "execution_count": null,
      "metadata": {
        "id": "87AZuaLzOKDn"
      },
      "outputs": [],
      "source": [
        "def buy(stock_price, cash_balance, num_shares):\n",
        "    if stock_price * num_shares > cash_balance:\n",
        "        raise ValueError(\"Insufficient funds to buy shares.\")\n",
        "    cash_balance -= stock_price * num_shares\n",
        "    return cash_balance, num_shares\n"
      ]
    },
    {
      "cell_type": "code",
      "execution_count": null,
      "metadata": {
        "id": "3k1-VyX5OQYg"
      },
      "outputs": [],
      "source": [
        "def moving_average_crossover_strategy(prices, short_window=50, long_window=200):\n",
        "    signals = pd.DataFrame(index=prices.index)\n",
        "    signals['signal'] = 0.0\n",
        "    signals['short_mavg'] = prices['close'].rolling(window=short_window, min_periods=1, center=False).mean()\n",
        "    signals['long_mavg'] = prices['close'].rolling(window=long_window, min_periods=1, center=False).mean()\n",
        "    signals['signal'][short_window:] = np.where(signals['short_mavg'][short_window:] > signals['long_mavg'][short_window:], 1.0, 0.0)   \n",
        "    signals['positions'] = signals['signal'].diff()\n",
        "    return signals\n"
      ]
    },
    {
      "cell_type": "code",
      "source": [
        "def distribute_cost_by_ratio(total_capital, unit_costs, assigned_ratio):\n",
        "    num_tasks = len(unit_costs)\n",
        "    # Define the LP problem\n",
        "    prob = LpProblem(\"Even_Cost_Distribution\", LpMinimize)\n",
        "\n",
        "    # Define the decision variables (positive integers)\n",
        "    x = LpVariable.dicts(\"x\", range(num_tasks), lowBound=0, cat='Integer')\n",
        "\n",
        "    # Define the objective function (minimize the maximum gap)\n",
        "    prob += lpSum([1 for i in range(num_tasks)])\n",
        "\n",
        "    # Define the constraint for total cost within 90% to 100% of total capital\n",
        "    total_cost = lpSum([unit_costs[i] * x[i] for i in range(num_tasks)])\n",
        "    prob += total_cost >= 0.9 * total_capital\n",
        "    prob += total_cost <= 0.99 * total_capital\n",
        "\n",
        "    # Define the constraints (assigned ratio)\n",
        "    cum_ratio = 0\n",
        "    for i in range(len(assigned_ratio)):\n",
        "        assigned_cost = assigned_ratio[i] / sum(assigned_ratio) * total_capital\n",
        "        cum_ratio += assigned_ratio[i]\n",
        "        prob += x[i] * unit_costs[i] >= assigned_cost\n",
        "        if i == len(assigned_ratio) - 1:\n",
        "            prob += lpSum([x[j] for j in range(i+1, num_tasks)]) == 0\n",
        "        else:\n",
        "            next_assigned_cost = cum_ratio / sum(assigned_ratio) * total_capital\n",
        "            prob += x[i] * unit_costs[i] <= next_assigned_cost\n",
        "\n",
        "    # Solve the LP problem\n",
        "    prob.solve()\n",
        "\n",
        "    # Print the solution\n",
        "    # print(\"Evenly distributed costs:\")\n",
        "    # for i in range(num_tasks):\n",
        "    #     budget = round(x[i].value(), 2)\n",
        "    #     cost = round(budget * unit_costs[i], 2)\n",
        "    #     print(f\"Task {i+1}: budget = {budget}, cost = {cost}\")\n",
        "    return [int(x[i].value()) for i in range(num_tasks)]\n"
      ],
      "metadata": {
        "id": "O6w8fiCRc-wY"
      },
      "execution_count": null,
      "outputs": []
    },
    {
      "cell_type": "code",
      "source": [
        "a = 200\n",
        "base_price = 120\n",
        "n_pct = 5\n",
        "\n",
        "(a - base_price) % (base_price * n_pct/100) < a % (base_price * n_pct/100)"
      ],
      "metadata": {
        "colab": {
          "base_uri": "https://localhost:8080/"
        },
        "id": "pV0jPFOAWA3o",
        "outputId": "61903456-d098-4bfe-a427-32537e124edf"
      },
      "execution_count": 170,
      "outputs": [
        {
          "output_type": "execute_result",
          "data": {
            "text/plain": [
              "False"
            ]
          },
          "metadata": {},
          "execution_count": 170
        }
      ]
    },
    {
      "cell_type": "code",
      "source": [
        "a % (base_price * n_pct/100)"
      ],
      "metadata": {
        "colab": {
          "base_uri": "https://localhost:8080/"
        },
        "id": "C_-GH-JiWjfB",
        "outputId": "e70f879a-a492-4a0f-bf32-e74e9c1036be"
      },
      "execution_count": 171,
      "outputs": [
        {
          "output_type": "execute_result",
          "data": {
            "text/plain": [
              "2.0"
            ]
          },
          "metadata": {},
          "execution_count": 171
        }
      ]
    },
    {
      "cell_type": "code",
      "source": [
        "120 * 0.05"
      ],
      "metadata": {
        "colab": {
          "base_uri": "https://localhost:8080/"
        },
        "id": "XX34oxiBWrun",
        "outputId": "a3c34458-aee2-4100-89a2-08cb10b703ed"
      },
      "execution_count": 172,
      "outputs": [
        {
          "output_type": "execute_result",
          "data": {
            "text/plain": [
              "6.0"
            ]
          },
          "metadata": {},
          "execution_count": 172
        }
      ]
    },
    {
      "cell_type": "code",
      "source": [
        "200%6"
      ],
      "metadata": {
        "colab": {
          "base_uri": "https://localhost:8080/"
        },
        "id": "8Ui9yQ86WubL",
        "outputId": "542e258d-9b08-49ff-af68-6c5eac105d5e"
      },
      "execution_count": 174,
      "outputs": [
        {
          "output_type": "execute_result",
          "data": {
            "text/plain": [
              "2"
            ]
          },
          "metadata": {},
          "execution_count": 174
        }
      ]
    },
    {
      "cell_type": "code",
      "source": [],
      "metadata": {
        "id": "A7olIAj4WxbG"
      },
      "execution_count": null,
      "outputs": []
    }
  ],
  "metadata": {
    "colab": {
      "provenance": [],
      "mount_file_id": "1iITq7QQgeLUO27Xm7g-PT6CAwd6DUYzA",
      "authorship_tag": "ABX9TyPvvGiHUb4kxlTGp1dV073O",
      "include_colab_link": true
    },
    "kernelspec": {
      "display_name": "Python 3",
      "name": "python3"
    },
    "language_info": {
      "name": "python"
    }
  },
  "nbformat": 4,
  "nbformat_minor": 0
}