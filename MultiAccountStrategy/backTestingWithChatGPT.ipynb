{
  "cells": [
    {
      "cell_type": "markdown",
      "metadata": {
        "id": "view-in-github",
        "colab_type": "text"
      },
      "source": [
        "<a href=\"https://colab.research.google.com/github/nosignal00/researchSpace/blob/main/MultiAccountStrategy/backTestingWithChatGPT.ipynb\" target=\"_parent\"><img src=\"https://colab.research.google.com/assets/colab-badge.svg\" alt=\"Open In Colab\"/></a>"
      ]
    },
    {
      "cell_type": "code",
      "execution_count": 1,
      "metadata": {
        "id": "VX-tVac2ViDk"
      },
      "outputs": [],
      "source": [
        "import os,sys\n",
        "import datetime as dt\n",
        "\n",
        "base_dir = os.getcwd()\n",
        "nb_path = base_dir + '/drive/MyDrive/Colab_rel'\n",
        "sys.path.append(nb_path)\n",
        "sys.path.append(nb_path + '/lib/python3.9/site-packages')"
      ]
    },
    {
      "cell_type": "code",
      "execution_count": 3,
      "metadata": {
        "id": "438_gPDWE69E"
      },
      "outputs": [],
      "source": [
        "!chmod 755 /content/drive/MyDrive/Colab_rel/lib/python3.9/site-packages/pulp/solverdir/cbc/linux/64/cbc"
      ]
    },
    {
      "cell_type": "code",
      "execution_count": null,
      "metadata": {
        "id": "R5aSO2J6WEOU"
      },
      "outputs": [],
      "source": [
        "# !pip install --prefix=$nb_path yfinance"
      ]
    },
    {
      "cell_type": "code",
      "execution_count": null,
      "metadata": {
        "id": "C1LqtVgyTnTz"
      },
      "outputs": [],
      "source": [
        "# !pip install --prefix=$nb_path pulp"
      ]
    },
    {
      "cell_type": "code",
      "execution_count": 2,
      "metadata": {
        "id": "NPTNXQtmNrOn"
      },
      "outputs": [],
      "source": [
        "import yfinance as yf\n",
        "import pytz\n",
        "\n",
        "import arviz as az\n",
        "import matplotlib.pyplot as plt\n",
        "import numpy as np\n",
        "import pandas as pd\n",
        "import pymc as pm\n",
        "import seaborn as sns\n",
        "import math\n",
        "from pulp import *\n",
        "import pdb\n"
      ]
    },
    {
      "cell_type": "code",
      "execution_count": 4,
      "metadata": {
        "id": "5tDbyN-XRXQi"
      },
      "outputs": [],
      "source": [
        "yf.pdr_override()\n",
        "tz = pytz.timezone(\"America/New_York\")\n",
        "end = tz.localize(dt.datetime.now())\n",
        "start = tz.localize(dt.datetime(2021, 11,10))"
      ]
    },
    {
      "cell_type": "code",
      "execution_count": 5,
      "metadata": {
        "colab": {
          "base_uri": "https://localhost:8080/",
          "height": 256
        },
        "id": "r-YEei_rN3Nv",
        "outputId": "8e600885-eead-41b9-d1cc-50a2123a3b8f"
      },
      "outputs": [
        {
          "output_type": "stream",
          "name": "stdout",
          "text": [
            "\r[*********************100%***********************]  1 of 1 completed\n"
          ]
        },
        {
          "output_type": "execute_result",
          "data": {
            "text/plain": [
              "                  Open        High         Low       Close   Adj Close  \\\n",
              "Date                                                                     \n",
              "2021-11-10  392.470001  395.359985  387.529999  389.510010  385.570343   \n",
              "2021-11-11  392.570007  392.750000  390.239990  390.589996  386.639374   \n",
              "2021-11-12  391.769989  395.250000  390.130005  394.700012  390.707825   \n",
              "2021-11-15  395.910004  396.239990  392.100006  394.609985  390.618713   \n",
              "2021-11-16  393.859985  397.929993  393.660004  397.420013  393.400330   \n",
              "\n",
              "              Volume  \n",
              "Date                  \n",
              "2021-11-10  54937400  \n",
              "2021-11-11  32243000  \n",
              "2021-11-12  34730600  \n",
              "2021-11-15  33716900  \n",
              "2021-11-16  27872900  "
            ],
            "text/html": [
              "\n",
              "  <div id=\"df-99f5cc36-dc43-4451-b731-d2f6f43625ab\">\n",
              "    <div class=\"colab-df-container\">\n",
              "      <div>\n",
              "<style scoped>\n",
              "    .dataframe tbody tr th:only-of-type {\n",
              "        vertical-align: middle;\n",
              "    }\n",
              "\n",
              "    .dataframe tbody tr th {\n",
              "        vertical-align: top;\n",
              "    }\n",
              "\n",
              "    .dataframe thead th {\n",
              "        text-align: right;\n",
              "    }\n",
              "</style>\n",
              "<table border=\"1\" class=\"dataframe\">\n",
              "  <thead>\n",
              "    <tr style=\"text-align: right;\">\n",
              "      <th></th>\n",
              "      <th>Open</th>\n",
              "      <th>High</th>\n",
              "      <th>Low</th>\n",
              "      <th>Close</th>\n",
              "      <th>Adj Close</th>\n",
              "      <th>Volume</th>\n",
              "    </tr>\n",
              "    <tr>\n",
              "      <th>Date</th>\n",
              "      <th></th>\n",
              "      <th></th>\n",
              "      <th></th>\n",
              "      <th></th>\n",
              "      <th></th>\n",
              "      <th></th>\n",
              "    </tr>\n",
              "  </thead>\n",
              "  <tbody>\n",
              "    <tr>\n",
              "      <th>2021-11-10</th>\n",
              "      <td>392.470001</td>\n",
              "      <td>395.359985</td>\n",
              "      <td>387.529999</td>\n",
              "      <td>389.510010</td>\n",
              "      <td>385.570343</td>\n",
              "      <td>54937400</td>\n",
              "    </tr>\n",
              "    <tr>\n",
              "      <th>2021-11-11</th>\n",
              "      <td>392.570007</td>\n",
              "      <td>392.750000</td>\n",
              "      <td>390.239990</td>\n",
              "      <td>390.589996</td>\n",
              "      <td>386.639374</td>\n",
              "      <td>32243000</td>\n",
              "    </tr>\n",
              "    <tr>\n",
              "      <th>2021-11-12</th>\n",
              "      <td>391.769989</td>\n",
              "      <td>395.250000</td>\n",
              "      <td>390.130005</td>\n",
              "      <td>394.700012</td>\n",
              "      <td>390.707825</td>\n",
              "      <td>34730600</td>\n",
              "    </tr>\n",
              "    <tr>\n",
              "      <th>2021-11-15</th>\n",
              "      <td>395.910004</td>\n",
              "      <td>396.239990</td>\n",
              "      <td>392.100006</td>\n",
              "      <td>394.609985</td>\n",
              "      <td>390.618713</td>\n",
              "      <td>33716900</td>\n",
              "    </tr>\n",
              "    <tr>\n",
              "      <th>2021-11-16</th>\n",
              "      <td>393.859985</td>\n",
              "      <td>397.929993</td>\n",
              "      <td>393.660004</td>\n",
              "      <td>397.420013</td>\n",
              "      <td>393.400330</td>\n",
              "      <td>27872900</td>\n",
              "    </tr>\n",
              "  </tbody>\n",
              "</table>\n",
              "</div>\n",
              "      <button class=\"colab-df-convert\" onclick=\"convertToInteractive('df-99f5cc36-dc43-4451-b731-d2f6f43625ab')\"\n",
              "              title=\"Convert this dataframe to an interactive table.\"\n",
              "              style=\"display:none;\">\n",
              "        \n",
              "  <svg xmlns=\"http://www.w3.org/2000/svg\" height=\"24px\"viewBox=\"0 0 24 24\"\n",
              "       width=\"24px\">\n",
              "    <path d=\"M0 0h24v24H0V0z\" fill=\"none\"/>\n",
              "    <path d=\"M18.56 5.44l.94 2.06.94-2.06 2.06-.94-2.06-.94-.94-2.06-.94 2.06-2.06.94zm-11 1L8.5 8.5l.94-2.06 2.06-.94-2.06-.94L8.5 2.5l-.94 2.06-2.06.94zm10 10l.94 2.06.94-2.06 2.06-.94-2.06-.94-.94-2.06-.94 2.06-2.06.94z\"/><path d=\"M17.41 7.96l-1.37-1.37c-.4-.4-.92-.59-1.43-.59-.52 0-1.04.2-1.43.59L10.3 9.45l-7.72 7.72c-.78.78-.78 2.05 0 2.83L4 21.41c.39.39.9.59 1.41.59.51 0 1.02-.2 1.41-.59l7.78-7.78 2.81-2.81c.8-.78.8-2.07 0-2.86zM5.41 20L4 18.59l7.72-7.72 1.47 1.35L5.41 20z\"/>\n",
              "  </svg>\n",
              "      </button>\n",
              "      \n",
              "  <style>\n",
              "    .colab-df-container {\n",
              "      display:flex;\n",
              "      flex-wrap:wrap;\n",
              "      gap: 12px;\n",
              "    }\n",
              "\n",
              "    .colab-df-convert {\n",
              "      background-color: #E8F0FE;\n",
              "      border: none;\n",
              "      border-radius: 50%;\n",
              "      cursor: pointer;\n",
              "      display: none;\n",
              "      fill: #1967D2;\n",
              "      height: 32px;\n",
              "      padding: 0 0 0 0;\n",
              "      width: 32px;\n",
              "    }\n",
              "\n",
              "    .colab-df-convert:hover {\n",
              "      background-color: #E2EBFA;\n",
              "      box-shadow: 0px 1px 2px rgba(60, 64, 67, 0.3), 0px 1px 3px 1px rgba(60, 64, 67, 0.15);\n",
              "      fill: #174EA6;\n",
              "    }\n",
              "\n",
              "    [theme=dark] .colab-df-convert {\n",
              "      background-color: #3B4455;\n",
              "      fill: #D2E3FC;\n",
              "    }\n",
              "\n",
              "    [theme=dark] .colab-df-convert:hover {\n",
              "      background-color: #434B5C;\n",
              "      box-shadow: 0px 1px 3px 1px rgba(0, 0, 0, 0.15);\n",
              "      filter: drop-shadow(0px 1px 2px rgba(0, 0, 0, 0.3));\n",
              "      fill: #FFFFFF;\n",
              "    }\n",
              "  </style>\n",
              "\n",
              "      <script>\n",
              "        const buttonEl =\n",
              "          document.querySelector('#df-99f5cc36-dc43-4451-b731-d2f6f43625ab button.colab-df-convert');\n",
              "        buttonEl.style.display =\n",
              "          google.colab.kernel.accessAllowed ? 'block' : 'none';\n",
              "\n",
              "        async function convertToInteractive(key) {\n",
              "          const element = document.querySelector('#df-99f5cc36-dc43-4451-b731-d2f6f43625ab');\n",
              "          const dataTable =\n",
              "            await google.colab.kernel.invokeFunction('convertToInteractive',\n",
              "                                                     [key], {});\n",
              "          if (!dataTable) return;\n",
              "\n",
              "          const docLinkHtml = 'Like what you see? Visit the ' +\n",
              "            '<a target=\"_blank\" href=https://colab.research.google.com/notebooks/data_table.ipynb>data table notebook</a>'\n",
              "            + ' to learn more about interactive tables.';\n",
              "          element.innerHTML = '';\n",
              "          dataTable['output_type'] = 'display_data';\n",
              "          await google.colab.output.renderOutput(dataTable, element);\n",
              "          const docLink = document.createElement('div');\n",
              "          docLink.innerHTML = docLinkHtml;\n",
              "          element.appendChild(docLink);\n",
              "        }\n",
              "      </script>\n",
              "    </div>\n",
              "  </div>\n",
              "  "
            ]
          },
          "metadata": {},
          "execution_count": 5
        }
      ],
      "source": [
        "dfQQQ = yf.download('QQQ',start, end)\n",
        "dfQQQ.head()"
      ]
    },
    {
      "cell_type": "code",
      "execution_count": 6,
      "metadata": {
        "colab": {
          "base_uri": "https://localhost:8080/",
          "height": 256
        },
        "id": "WxgDANnMN-ZZ",
        "outputId": "ffbdbbb4-350d-4161-b5f5-e04a4d734a4e"
      },
      "outputs": [
        {
          "output_type": "stream",
          "name": "stdout",
          "text": [
            "\r[*********************100%***********************]  1 of 1 completed\n"
          ]
        },
        {
          "output_type": "execute_result",
          "data": {
            "text/plain": [
              "                 Open       High        Low      Close  Adj Close    Volume\n",
              "Date                                                                       \n",
              "2021-11-10  81.360001  83.199997  78.250000  79.535004  78.665733  96976800\n",
              "2021-11-11  81.375000  81.495003  79.949997  80.180000  79.303688  57719000\n",
              "2021-11-12  80.904999  83.035004  79.875000  82.724998  81.820869  63820400\n",
              "2021-11-15  83.455002  83.654999  81.044998  82.699997  81.796135  69729200\n",
              "2021-11-16  82.144997  84.705002  82.029999  84.410004  83.487457  51590800"
            ],
            "text/html": [
              "\n",
              "  <div id=\"df-1bec6abe-1e85-446d-a5d8-4e01f56ce256\">\n",
              "    <div class=\"colab-df-container\">\n",
              "      <div>\n",
              "<style scoped>\n",
              "    .dataframe tbody tr th:only-of-type {\n",
              "        vertical-align: middle;\n",
              "    }\n",
              "\n",
              "    .dataframe tbody tr th {\n",
              "        vertical-align: top;\n",
              "    }\n",
              "\n",
              "    .dataframe thead th {\n",
              "        text-align: right;\n",
              "    }\n",
              "</style>\n",
              "<table border=\"1\" class=\"dataframe\">\n",
              "  <thead>\n",
              "    <tr style=\"text-align: right;\">\n",
              "      <th></th>\n",
              "      <th>Open</th>\n",
              "      <th>High</th>\n",
              "      <th>Low</th>\n",
              "      <th>Close</th>\n",
              "      <th>Adj Close</th>\n",
              "      <th>Volume</th>\n",
              "    </tr>\n",
              "    <tr>\n",
              "      <th>Date</th>\n",
              "      <th></th>\n",
              "      <th></th>\n",
              "      <th></th>\n",
              "      <th></th>\n",
              "      <th></th>\n",
              "      <th></th>\n",
              "    </tr>\n",
              "  </thead>\n",
              "  <tbody>\n",
              "    <tr>\n",
              "      <th>2021-11-10</th>\n",
              "      <td>81.360001</td>\n",
              "      <td>83.199997</td>\n",
              "      <td>78.250000</td>\n",
              "      <td>79.535004</td>\n",
              "      <td>78.665733</td>\n",
              "      <td>96976800</td>\n",
              "    </tr>\n",
              "    <tr>\n",
              "      <th>2021-11-11</th>\n",
              "      <td>81.375000</td>\n",
              "      <td>81.495003</td>\n",
              "      <td>79.949997</td>\n",
              "      <td>80.180000</td>\n",
              "      <td>79.303688</td>\n",
              "      <td>57719000</td>\n",
              "    </tr>\n",
              "    <tr>\n",
              "      <th>2021-11-12</th>\n",
              "      <td>80.904999</td>\n",
              "      <td>83.035004</td>\n",
              "      <td>79.875000</td>\n",
              "      <td>82.724998</td>\n",
              "      <td>81.820869</td>\n",
              "      <td>63820400</td>\n",
              "    </tr>\n",
              "    <tr>\n",
              "      <th>2021-11-15</th>\n",
              "      <td>83.455002</td>\n",
              "      <td>83.654999</td>\n",
              "      <td>81.044998</td>\n",
              "      <td>82.699997</td>\n",
              "      <td>81.796135</td>\n",
              "      <td>69729200</td>\n",
              "    </tr>\n",
              "    <tr>\n",
              "      <th>2021-11-16</th>\n",
              "      <td>82.144997</td>\n",
              "      <td>84.705002</td>\n",
              "      <td>82.029999</td>\n",
              "      <td>84.410004</td>\n",
              "      <td>83.487457</td>\n",
              "      <td>51590800</td>\n",
              "    </tr>\n",
              "  </tbody>\n",
              "</table>\n",
              "</div>\n",
              "      <button class=\"colab-df-convert\" onclick=\"convertToInteractive('df-1bec6abe-1e85-446d-a5d8-4e01f56ce256')\"\n",
              "              title=\"Convert this dataframe to an interactive table.\"\n",
              "              style=\"display:none;\">\n",
              "        \n",
              "  <svg xmlns=\"http://www.w3.org/2000/svg\" height=\"24px\"viewBox=\"0 0 24 24\"\n",
              "       width=\"24px\">\n",
              "    <path d=\"M0 0h24v24H0V0z\" fill=\"none\"/>\n",
              "    <path d=\"M18.56 5.44l.94 2.06.94-2.06 2.06-.94-2.06-.94-.94-2.06-.94 2.06-2.06.94zm-11 1L8.5 8.5l.94-2.06 2.06-.94-2.06-.94L8.5 2.5l-.94 2.06-2.06.94zm10 10l.94 2.06.94-2.06 2.06-.94-2.06-.94-.94-2.06-.94 2.06-2.06.94z\"/><path d=\"M17.41 7.96l-1.37-1.37c-.4-.4-.92-.59-1.43-.59-.52 0-1.04.2-1.43.59L10.3 9.45l-7.72 7.72c-.78.78-.78 2.05 0 2.83L4 21.41c.39.39.9.59 1.41.59.51 0 1.02-.2 1.41-.59l7.78-7.78 2.81-2.81c.8-.78.8-2.07 0-2.86zM5.41 20L4 18.59l7.72-7.72 1.47 1.35L5.41 20z\"/>\n",
              "  </svg>\n",
              "      </button>\n",
              "      \n",
              "  <style>\n",
              "    .colab-df-container {\n",
              "      display:flex;\n",
              "      flex-wrap:wrap;\n",
              "      gap: 12px;\n",
              "    }\n",
              "\n",
              "    .colab-df-convert {\n",
              "      background-color: #E8F0FE;\n",
              "      border: none;\n",
              "      border-radius: 50%;\n",
              "      cursor: pointer;\n",
              "      display: none;\n",
              "      fill: #1967D2;\n",
              "      height: 32px;\n",
              "      padding: 0 0 0 0;\n",
              "      width: 32px;\n",
              "    }\n",
              "\n",
              "    .colab-df-convert:hover {\n",
              "      background-color: #E2EBFA;\n",
              "      box-shadow: 0px 1px 2px rgba(60, 64, 67, 0.3), 0px 1px 3px 1px rgba(60, 64, 67, 0.15);\n",
              "      fill: #174EA6;\n",
              "    }\n",
              "\n",
              "    [theme=dark] .colab-df-convert {\n",
              "      background-color: #3B4455;\n",
              "      fill: #D2E3FC;\n",
              "    }\n",
              "\n",
              "    [theme=dark] .colab-df-convert:hover {\n",
              "      background-color: #434B5C;\n",
              "      box-shadow: 0px 1px 3px 1px rgba(0, 0, 0, 0.15);\n",
              "      filter: drop-shadow(0px 1px 2px rgba(0, 0, 0, 0.3));\n",
              "      fill: #FFFFFF;\n",
              "    }\n",
              "  </style>\n",
              "\n",
              "      <script>\n",
              "        const buttonEl =\n",
              "          document.querySelector('#df-1bec6abe-1e85-446d-a5d8-4e01f56ce256 button.colab-df-convert');\n",
              "        buttonEl.style.display =\n",
              "          google.colab.kernel.accessAllowed ? 'block' : 'none';\n",
              "\n",
              "        async function convertToInteractive(key) {\n",
              "          const element = document.querySelector('#df-1bec6abe-1e85-446d-a5d8-4e01f56ce256');\n",
              "          const dataTable =\n",
              "            await google.colab.kernel.invokeFunction('convertToInteractive',\n",
              "                                                     [key], {});\n",
              "          if (!dataTable) return;\n",
              "\n",
              "          const docLinkHtml = 'Like what you see? Visit the ' +\n",
              "            '<a target=\"_blank\" href=https://colab.research.google.com/notebooks/data_table.ipynb>data table notebook</a>'\n",
              "            + ' to learn more about interactive tables.';\n",
              "          element.innerHTML = '';\n",
              "          dataTable['output_type'] = 'display_data';\n",
              "          await google.colab.output.renderOutput(dataTable, element);\n",
              "          const docLink = document.createElement('div');\n",
              "          docLink.innerHTML = docLinkHtml;\n",
              "          element.appendChild(docLink);\n",
              "        }\n",
              "      </script>\n",
              "    </div>\n",
              "  </div>\n",
              "  "
            ]
          },
          "metadata": {},
          "execution_count": 6
        }
      ],
      "source": [
        "dfTQQQ = yf.download('TQQQ',start, end)\n",
        "dfTQQQ.head()"
      ]
    },
    {
      "cell_type": "code",
      "execution_count": 7,
      "metadata": {
        "id": "-vQhzbw_awTx"
      },
      "outputs": [],
      "source": [
        "def percent_change_strategy(base_col, n_pct):\n",
        "    base_price = None\n",
        "    \n",
        "    def strategy(row):\n",
        "        prices = row.values\n",
        "        nonlocal base_price\n",
        "        if base_price is None:\n",
        "            base_price = prices[base_col]\n",
        "        signal = 0\n",
        "        \n",
        "        for i in range(1, len(prices)):\n",
        "            if prices[base_col] >= base_price * (1 + n_pct/100):\n",
        "                signal = 2  # Buy signal\n",
        "                base_price = prices[base_col]\n",
        "            elif prices[base_col] <= base_price * (1 - n_pct/100):\n",
        "                signal = 1  # Sell signal\n",
        "                base_price = prices[base_col]\n",
        "        \n",
        "        return signal\n",
        "    \n",
        "    return strategy\n"
      ]
    },
    {
      "cell_type": "code",
      "execution_count": 8,
      "metadata": {
        "id": "k7cNaFQiVY6U"
      },
      "outputs": [],
      "source": [
        "def evenly_distribute_cost(total_capital, unit_costs):\n",
        "    num_tasks = len(unit_costs)\n",
        "    # Define the LP problem\n",
        "    prob = LpProblem(\"Even_Cost_Distribution\", LpMinimize)\n",
        "\n",
        "    # Define the decision variables (positive integers)\n",
        "    x = LpVariable.dicts(\"x\", range(num_tasks), lowBound=0, cat='Integer')\n",
        "\n",
        "    # Define the objective function (minimize the maximum gap)\n",
        "    prob += lpSum([1 for i in range(num_tasks)])\n",
        "\n",
        "    # Define the constraint for total cost within 90% to 100% of total capital\n",
        "    total_cost = lpSum([unit_costs[i] * x[i] for i in range(num_tasks)])\n",
        "    prob += total_cost >= 0.9 * total_capital\n",
        "    prob += total_cost <= 0.99 * total_capital\n",
        "\n",
        "    # Define the constraints (minimum gap)\n",
        "    max_cost = LpVariable(\"max_cost\", lowBound=0)\n",
        "    for i in range(num_tasks):\n",
        "        prob += x[i] * unit_costs[i] <= max_cost\n",
        "    prob += max_cost <= total_cost / num_tasks\n",
        "\n",
        "    # Solve the LP problem\n",
        "    prob.solve()\n",
        "\n",
        "    # Print the solution\n",
        "    # print(\"Evenly distributed costs:\")\n",
        "    # for i in range(num_tasks):\n",
        "    #     budget = round(x[i].value(), 2)\n",
        "    #     cost = round(budget * unit_costs[i], 2)\n",
        "    #     print(f\"Task {i+1}: budget = {budget}, cost = {cost}\")\n",
        "    return [int(x[i].value()) for i in range(num_tasks)]"
      ]
    },
    {
      "cell_type": "code",
      "execution_count": 9,
      "metadata": {
        "id": "IXcDmqdj72Xl"
      },
      "outputs": [],
      "source": [
        "def calculate_shares_to_buy(row, cash):\n",
        "    # stock_prices = row.values\n",
        "    stock_prices = row\n",
        "    shares_to_buy = evenly_distribute_cost(cash,stock_prices)\n",
        "    return shares_to_buy"
      ]
    },
    {
      "cell_type": "code",
      "execution_count": 40,
      "metadata": {
        "id": "04LS7hWYmYBA"
      },
      "outputs": [],
      "source": [
        "def cash_balance_closure(initial_cash, name_of_first_row):\n",
        "    initial_cash_balance = None\n",
        "    prev_shares_to_buy = None\n",
        "    prev_signal = None\n",
        "    def cash_balance_apply(row):\n",
        "        nonlocal initial_cash_balance\n",
        "        nonlocal prev_shares_to_buy\n",
        "        nonlocal prev_signal\n",
        "        if row.name != name_of_first_row :\n",
        "          # Get the previous row's cash balance and signal value\n",
        "          prev_cash_balance = initial_cash_balance\n",
        "          shares_to_buy = prev_shares_to_buy\n",
        "          signal = prev_signal\n",
        "\n",
        "          if signal == 1:\n",
        "              # Calculate shares to buy for each stock based on previous cash balance\n",
        "              stock_prices = row.values[:2]  # only stock price columns\n",
        "              shares_to_buy = calculate_shares_to_buy(stock_prices, prev_cash_balance)\n",
        "\n",
        "          # Calculate the new cash balance based on the shares bought and current stock prices\n",
        "          stock_prices = row.values[:2]  # only stock price columns\n",
        "          new_cash_balance = sum(shares_to_buy * stock_prices)\n",
        "\n",
        "          # Update the initial cash balance for the next row\n",
        "          initial_cash_balance = new_cash_balance\n",
        "          prev_shares_to_buy = shares_to_buy\n",
        "          prev_signal = row['signal']\n",
        "\n",
        "        else :\n",
        "          # Set the cash balance to the initial cash balance for the first row\n",
        "          stock_prices = row.values[:2]  # only stock price columns\n",
        "          new_cash_balance = initial_cash\n",
        "          prev_shares_to_buy = calculate_shares_to_buy(stock_prices, new_cash_balance)\n",
        "          prev_signal = row['signal']\n",
        "\n",
        "        # Return the updated cash balance for the current row\n",
        "        return pd.Series([new_cash_balance, prev_shares_to_buy])\n",
        "\n",
        "    # Return the inner function\n",
        "    return cash_balance_apply\n"
      ]
    },
    {
      "cell_type": "code",
      "execution_count": null,
      "metadata": {
        "id": "hVcxli8Mihyc"
      },
      "outputs": [],
      "source": [
        "# 2021 11 15 부터 해보자\n",
        "# 전략이 각각 가격이 아니라 두개의 관계값을 가지고 움직여야 하네. P1이 N 프로 떨어졌을 때 트리거 발동\n",
        "cash = 15000 # 요게 계속 바뀌는 구나..."
      ]
    },
    {
      "cell_type": "code",
      "execution_count": 58,
      "metadata": {
        "id": "t37FBEQI4puc"
      },
      "outputs": [],
      "source": [
        "basePriceDf = pd.merge(left = dfQQQ[\"Adj Close\"], right = dfTQQQ[\"Adj Close\"], left_index=True, right_index=True)"
      ]
    },
    {
      "cell_type": "code",
      "execution_count": 59,
      "metadata": {
        "id": "GWm-814bDga-"
      },
      "outputs": [],
      "source": [
        "strategy = percent_change_strategy(0, 10)\n",
        "basePriceDf['signal'] = basePriceDf.apply(strategy, axis=1)"
      ]
    },
    {
      "cell_type": "code",
      "execution_count": 60,
      "metadata": {
        "colab": {
          "base_uri": "https://localhost:8080/",
          "height": 394
        },
        "id": "f9ry9iL-D0My",
        "outputId": "6021ddef-ead2-4bbc-d034-1d06d6ae7489"
      },
      "outputs": [
        {
          "output_type": "execute_result",
          "data": {
            "text/plain": [
              "            Adj Close_x  Adj Close_y  signal\n",
              "Date                                        \n",
              "2023-04-17   318.839996    27.500000       0\n",
              "2023-04-18   318.859985    27.520000       0\n",
              "2023-04-19   318.709991    27.459999       0\n",
              "2023-04-20   316.279999    26.820000       0\n",
              "2023-04-21   316.609985    26.870001       0\n",
              "2023-04-24   315.950012    26.709999       0\n",
              "2023-04-25   309.989990    25.200001       0\n",
              "2023-04-26   311.869995    25.620001       0\n",
              "2023-04-27   320.350006    27.690001       0\n",
              "2023-04-28   319.910706    27.580000       0"
            ],
            "text/html": [
              "\n",
              "  <div id=\"df-4b602c79-b6cc-4c39-87d2-52b54082102f\">\n",
              "    <div class=\"colab-df-container\">\n",
              "      <div>\n",
              "<style scoped>\n",
              "    .dataframe tbody tr th:only-of-type {\n",
              "        vertical-align: middle;\n",
              "    }\n",
              "\n",
              "    .dataframe tbody tr th {\n",
              "        vertical-align: top;\n",
              "    }\n",
              "\n",
              "    .dataframe thead th {\n",
              "        text-align: right;\n",
              "    }\n",
              "</style>\n",
              "<table border=\"1\" class=\"dataframe\">\n",
              "  <thead>\n",
              "    <tr style=\"text-align: right;\">\n",
              "      <th></th>\n",
              "      <th>Adj Close_x</th>\n",
              "      <th>Adj Close_y</th>\n",
              "      <th>signal</th>\n",
              "    </tr>\n",
              "    <tr>\n",
              "      <th>Date</th>\n",
              "      <th></th>\n",
              "      <th></th>\n",
              "      <th></th>\n",
              "    </tr>\n",
              "  </thead>\n",
              "  <tbody>\n",
              "    <tr>\n",
              "      <th>2023-04-17</th>\n",
              "      <td>318.839996</td>\n",
              "      <td>27.500000</td>\n",
              "      <td>0</td>\n",
              "    </tr>\n",
              "    <tr>\n",
              "      <th>2023-04-18</th>\n",
              "      <td>318.859985</td>\n",
              "      <td>27.520000</td>\n",
              "      <td>0</td>\n",
              "    </tr>\n",
              "    <tr>\n",
              "      <th>2023-04-19</th>\n",
              "      <td>318.709991</td>\n",
              "      <td>27.459999</td>\n",
              "      <td>0</td>\n",
              "    </tr>\n",
              "    <tr>\n",
              "      <th>2023-04-20</th>\n",
              "      <td>316.279999</td>\n",
              "      <td>26.820000</td>\n",
              "      <td>0</td>\n",
              "    </tr>\n",
              "    <tr>\n",
              "      <th>2023-04-21</th>\n",
              "      <td>316.609985</td>\n",
              "      <td>26.870001</td>\n",
              "      <td>0</td>\n",
              "    </tr>\n",
              "    <tr>\n",
              "      <th>2023-04-24</th>\n",
              "      <td>315.950012</td>\n",
              "      <td>26.709999</td>\n",
              "      <td>0</td>\n",
              "    </tr>\n",
              "    <tr>\n",
              "      <th>2023-04-25</th>\n",
              "      <td>309.989990</td>\n",
              "      <td>25.200001</td>\n",
              "      <td>0</td>\n",
              "    </tr>\n",
              "    <tr>\n",
              "      <th>2023-04-26</th>\n",
              "      <td>311.869995</td>\n",
              "      <td>25.620001</td>\n",
              "      <td>0</td>\n",
              "    </tr>\n",
              "    <tr>\n",
              "      <th>2023-04-27</th>\n",
              "      <td>320.350006</td>\n",
              "      <td>27.690001</td>\n",
              "      <td>0</td>\n",
              "    </tr>\n",
              "    <tr>\n",
              "      <th>2023-04-28</th>\n",
              "      <td>319.910706</td>\n",
              "      <td>27.580000</td>\n",
              "      <td>0</td>\n",
              "    </tr>\n",
              "  </tbody>\n",
              "</table>\n",
              "</div>\n",
              "      <button class=\"colab-df-convert\" onclick=\"convertToInteractive('df-4b602c79-b6cc-4c39-87d2-52b54082102f')\"\n",
              "              title=\"Convert this dataframe to an interactive table.\"\n",
              "              style=\"display:none;\">\n",
              "        \n",
              "  <svg xmlns=\"http://www.w3.org/2000/svg\" height=\"24px\"viewBox=\"0 0 24 24\"\n",
              "       width=\"24px\">\n",
              "    <path d=\"M0 0h24v24H0V0z\" fill=\"none\"/>\n",
              "    <path d=\"M18.56 5.44l.94 2.06.94-2.06 2.06-.94-2.06-.94-.94-2.06-.94 2.06-2.06.94zm-11 1L8.5 8.5l.94-2.06 2.06-.94-2.06-.94L8.5 2.5l-.94 2.06-2.06.94zm10 10l.94 2.06.94-2.06 2.06-.94-2.06-.94-.94-2.06-.94 2.06-2.06.94z\"/><path d=\"M17.41 7.96l-1.37-1.37c-.4-.4-.92-.59-1.43-.59-.52 0-1.04.2-1.43.59L10.3 9.45l-7.72 7.72c-.78.78-.78 2.05 0 2.83L4 21.41c.39.39.9.59 1.41.59.51 0 1.02-.2 1.41-.59l7.78-7.78 2.81-2.81c.8-.78.8-2.07 0-2.86zM5.41 20L4 18.59l7.72-7.72 1.47 1.35L5.41 20z\"/>\n",
              "  </svg>\n",
              "      </button>\n",
              "      \n",
              "  <style>\n",
              "    .colab-df-container {\n",
              "      display:flex;\n",
              "      flex-wrap:wrap;\n",
              "      gap: 12px;\n",
              "    }\n",
              "\n",
              "    .colab-df-convert {\n",
              "      background-color: #E8F0FE;\n",
              "      border: none;\n",
              "      border-radius: 50%;\n",
              "      cursor: pointer;\n",
              "      display: none;\n",
              "      fill: #1967D2;\n",
              "      height: 32px;\n",
              "      padding: 0 0 0 0;\n",
              "      width: 32px;\n",
              "    }\n",
              "\n",
              "    .colab-df-convert:hover {\n",
              "      background-color: #E2EBFA;\n",
              "      box-shadow: 0px 1px 2px rgba(60, 64, 67, 0.3), 0px 1px 3px 1px rgba(60, 64, 67, 0.15);\n",
              "      fill: #174EA6;\n",
              "    }\n",
              "\n",
              "    [theme=dark] .colab-df-convert {\n",
              "      background-color: #3B4455;\n",
              "      fill: #D2E3FC;\n",
              "    }\n",
              "\n",
              "    [theme=dark] .colab-df-convert:hover {\n",
              "      background-color: #434B5C;\n",
              "      box-shadow: 0px 1px 3px 1px rgba(0, 0, 0, 0.15);\n",
              "      filter: drop-shadow(0px 1px 2px rgba(0, 0, 0, 0.3));\n",
              "      fill: #FFFFFF;\n",
              "    }\n",
              "  </style>\n",
              "\n",
              "      <script>\n",
              "        const buttonEl =\n",
              "          document.querySelector('#df-4b602c79-b6cc-4c39-87d2-52b54082102f button.colab-df-convert');\n",
              "        buttonEl.style.display =\n",
              "          google.colab.kernel.accessAllowed ? 'block' : 'none';\n",
              "\n",
              "        async function convertToInteractive(key) {\n",
              "          const element = document.querySelector('#df-4b602c79-b6cc-4c39-87d2-52b54082102f');\n",
              "          const dataTable =\n",
              "            await google.colab.kernel.invokeFunction('convertToInteractive',\n",
              "                                                     [key], {});\n",
              "          if (!dataTable) return;\n",
              "\n",
              "          const docLinkHtml = 'Like what you see? Visit the ' +\n",
              "            '<a target=\"_blank\" href=https://colab.research.google.com/notebooks/data_table.ipynb>data table notebook</a>'\n",
              "            + ' to learn more about interactive tables.';\n",
              "          element.innerHTML = '';\n",
              "          dataTable['output_type'] = 'display_data';\n",
              "          await google.colab.output.renderOutput(dataTable, element);\n",
              "          const docLink = document.createElement('div');\n",
              "          docLink.innerHTML = docLinkHtml;\n",
              "          element.appendChild(docLink);\n",
              "        }\n",
              "      </script>\n",
              "    </div>\n",
              "  </div>\n",
              "  "
            ]
          },
          "metadata": {},
          "execution_count": 60
        }
      ],
      "source": [
        "basePriceDf.tail(10)"
      ]
    },
    {
      "cell_type": "code",
      "execution_count": 61,
      "metadata": {
        "id": "r2o4RDUYmZdV"
      },
      "outputs": [],
      "source": [
        "initial_cash_balance = 15000\n",
        "cash_balance_apply = cash_balance_closure(initial_cash_balance,basePriceDf.index[0])\n",
        "basePriceDf[['cash_balance','shares_to_buy']] = basePriceDf.apply(cash_balance_apply, axis=1)"
      ]
    },
    {
      "cell_type": "code",
      "execution_count": 62,
      "metadata": {
        "colab": {
          "base_uri": "https://localhost:8080/",
          "height": 394
        },
        "id": "qa6tFHvD6n_X",
        "outputId": "4783bb82-892b-42fc-e790-fa99803ec720"
      },
      "outputs": [
        {
          "output_type": "execute_result",
          "data": {
            "text/plain": [
              "            Adj Close_x  Adj Close_y  signal  cash_balance shares_to_buy\n",
              "Date                                                                    \n",
              "2021-11-10   385.570343    78.665733       0  15000.000000      [17, 85]\n",
              "2021-11-11   386.639374    79.303688       0  13313.682838      [17, 85]\n",
              "2021-11-12   390.707825    81.820869       0  13596.806923      [17, 85]\n",
              "2021-11-15   390.618713    81.796135       0  13593.189598      [17, 85]\n",
              "2021-11-16   393.400330    83.487457       0  13784.239471      [17, 85]\n",
              "2021-11-17   393.608215    83.586365       0  13796.180664      [17, 85]\n",
              "2021-11-18   397.686554    86.143112       0  14082.835953      [17, 85]\n",
              "2021-11-19   399.903870    87.601990       0  14244.534912      [17, 85]\n",
              "2021-11-22   395.261292    84.565544       0  13907.513206      [17, 85]\n",
              "2021-11-23   393.459717    83.413277       0  13778.943703      [17, 85]"
            ],
            "text/html": [
              "\n",
              "  <div id=\"df-bde784ab-8461-4fa2-a611-aedc00ee70f4\">\n",
              "    <div class=\"colab-df-container\">\n",
              "      <div>\n",
              "<style scoped>\n",
              "    .dataframe tbody tr th:only-of-type {\n",
              "        vertical-align: middle;\n",
              "    }\n",
              "\n",
              "    .dataframe tbody tr th {\n",
              "        vertical-align: top;\n",
              "    }\n",
              "\n",
              "    .dataframe thead th {\n",
              "        text-align: right;\n",
              "    }\n",
              "</style>\n",
              "<table border=\"1\" class=\"dataframe\">\n",
              "  <thead>\n",
              "    <tr style=\"text-align: right;\">\n",
              "      <th></th>\n",
              "      <th>Adj Close_x</th>\n",
              "      <th>Adj Close_y</th>\n",
              "      <th>signal</th>\n",
              "      <th>cash_balance</th>\n",
              "      <th>shares_to_buy</th>\n",
              "    </tr>\n",
              "    <tr>\n",
              "      <th>Date</th>\n",
              "      <th></th>\n",
              "      <th></th>\n",
              "      <th></th>\n",
              "      <th></th>\n",
              "      <th></th>\n",
              "    </tr>\n",
              "  </thead>\n",
              "  <tbody>\n",
              "    <tr>\n",
              "      <th>2021-11-10</th>\n",
              "      <td>385.570343</td>\n",
              "      <td>78.665733</td>\n",
              "      <td>0</td>\n",
              "      <td>15000.000000</td>\n",
              "      <td>[17, 85]</td>\n",
              "    </tr>\n",
              "    <tr>\n",
              "      <th>2021-11-11</th>\n",
              "      <td>386.639374</td>\n",
              "      <td>79.303688</td>\n",
              "      <td>0</td>\n",
              "      <td>13313.682838</td>\n",
              "      <td>[17, 85]</td>\n",
              "    </tr>\n",
              "    <tr>\n",
              "      <th>2021-11-12</th>\n",
              "      <td>390.707825</td>\n",
              "      <td>81.820869</td>\n",
              "      <td>0</td>\n",
              "      <td>13596.806923</td>\n",
              "      <td>[17, 85]</td>\n",
              "    </tr>\n",
              "    <tr>\n",
              "      <th>2021-11-15</th>\n",
              "      <td>390.618713</td>\n",
              "      <td>81.796135</td>\n",
              "      <td>0</td>\n",
              "      <td>13593.189598</td>\n",
              "      <td>[17, 85]</td>\n",
              "    </tr>\n",
              "    <tr>\n",
              "      <th>2021-11-16</th>\n",
              "      <td>393.400330</td>\n",
              "      <td>83.487457</td>\n",
              "      <td>0</td>\n",
              "      <td>13784.239471</td>\n",
              "      <td>[17, 85]</td>\n",
              "    </tr>\n",
              "    <tr>\n",
              "      <th>2021-11-17</th>\n",
              "      <td>393.608215</td>\n",
              "      <td>83.586365</td>\n",
              "      <td>0</td>\n",
              "      <td>13796.180664</td>\n",
              "      <td>[17, 85]</td>\n",
              "    </tr>\n",
              "    <tr>\n",
              "      <th>2021-11-18</th>\n",
              "      <td>397.686554</td>\n",
              "      <td>86.143112</td>\n",
              "      <td>0</td>\n",
              "      <td>14082.835953</td>\n",
              "      <td>[17, 85]</td>\n",
              "    </tr>\n",
              "    <tr>\n",
              "      <th>2021-11-19</th>\n",
              "      <td>399.903870</td>\n",
              "      <td>87.601990</td>\n",
              "      <td>0</td>\n",
              "      <td>14244.534912</td>\n",
              "      <td>[17, 85]</td>\n",
              "    </tr>\n",
              "    <tr>\n",
              "      <th>2021-11-22</th>\n",
              "      <td>395.261292</td>\n",
              "      <td>84.565544</td>\n",
              "      <td>0</td>\n",
              "      <td>13907.513206</td>\n",
              "      <td>[17, 85]</td>\n",
              "    </tr>\n",
              "    <tr>\n",
              "      <th>2021-11-23</th>\n",
              "      <td>393.459717</td>\n",
              "      <td>83.413277</td>\n",
              "      <td>0</td>\n",
              "      <td>13778.943703</td>\n",
              "      <td>[17, 85]</td>\n",
              "    </tr>\n",
              "  </tbody>\n",
              "</table>\n",
              "</div>\n",
              "      <button class=\"colab-df-convert\" onclick=\"convertToInteractive('df-bde784ab-8461-4fa2-a611-aedc00ee70f4')\"\n",
              "              title=\"Convert this dataframe to an interactive table.\"\n",
              "              style=\"display:none;\">\n",
              "        \n",
              "  <svg xmlns=\"http://www.w3.org/2000/svg\" height=\"24px\"viewBox=\"0 0 24 24\"\n",
              "       width=\"24px\">\n",
              "    <path d=\"M0 0h24v24H0V0z\" fill=\"none\"/>\n",
              "    <path d=\"M18.56 5.44l.94 2.06.94-2.06 2.06-.94-2.06-.94-.94-2.06-.94 2.06-2.06.94zm-11 1L8.5 8.5l.94-2.06 2.06-.94-2.06-.94L8.5 2.5l-.94 2.06-2.06.94zm10 10l.94 2.06.94-2.06 2.06-.94-2.06-.94-.94-2.06-.94 2.06-2.06.94z\"/><path d=\"M17.41 7.96l-1.37-1.37c-.4-.4-.92-.59-1.43-.59-.52 0-1.04.2-1.43.59L10.3 9.45l-7.72 7.72c-.78.78-.78 2.05 0 2.83L4 21.41c.39.39.9.59 1.41.59.51 0 1.02-.2 1.41-.59l7.78-7.78 2.81-2.81c.8-.78.8-2.07 0-2.86zM5.41 20L4 18.59l7.72-7.72 1.47 1.35L5.41 20z\"/>\n",
              "  </svg>\n",
              "      </button>\n",
              "      \n",
              "  <style>\n",
              "    .colab-df-container {\n",
              "      display:flex;\n",
              "      flex-wrap:wrap;\n",
              "      gap: 12px;\n",
              "    }\n",
              "\n",
              "    .colab-df-convert {\n",
              "      background-color: #E8F0FE;\n",
              "      border: none;\n",
              "      border-radius: 50%;\n",
              "      cursor: pointer;\n",
              "      display: none;\n",
              "      fill: #1967D2;\n",
              "      height: 32px;\n",
              "      padding: 0 0 0 0;\n",
              "      width: 32px;\n",
              "    }\n",
              "\n",
              "    .colab-df-convert:hover {\n",
              "      background-color: #E2EBFA;\n",
              "      box-shadow: 0px 1px 2px rgba(60, 64, 67, 0.3), 0px 1px 3px 1px rgba(60, 64, 67, 0.15);\n",
              "      fill: #174EA6;\n",
              "    }\n",
              "\n",
              "    [theme=dark] .colab-df-convert {\n",
              "      background-color: #3B4455;\n",
              "      fill: #D2E3FC;\n",
              "    }\n",
              "\n",
              "    [theme=dark] .colab-df-convert:hover {\n",
              "      background-color: #434B5C;\n",
              "      box-shadow: 0px 1px 3px 1px rgba(0, 0, 0, 0.15);\n",
              "      filter: drop-shadow(0px 1px 2px rgba(0, 0, 0, 0.3));\n",
              "      fill: #FFFFFF;\n",
              "    }\n",
              "  </style>\n",
              "\n",
              "      <script>\n",
              "        const buttonEl =\n",
              "          document.querySelector('#df-bde784ab-8461-4fa2-a611-aedc00ee70f4 button.colab-df-convert');\n",
              "        buttonEl.style.display =\n",
              "          google.colab.kernel.accessAllowed ? 'block' : 'none';\n",
              "\n",
              "        async function convertToInteractive(key) {\n",
              "          const element = document.querySelector('#df-bde784ab-8461-4fa2-a611-aedc00ee70f4');\n",
              "          const dataTable =\n",
              "            await google.colab.kernel.invokeFunction('convertToInteractive',\n",
              "                                                     [key], {});\n",
              "          if (!dataTable) return;\n",
              "\n",
              "          const docLinkHtml = 'Like what you see? Visit the ' +\n",
              "            '<a target=\"_blank\" href=https://colab.research.google.com/notebooks/data_table.ipynb>data table notebook</a>'\n",
              "            + ' to learn more about interactive tables.';\n",
              "          element.innerHTML = '';\n",
              "          dataTable['output_type'] = 'display_data';\n",
              "          await google.colab.output.renderOutput(dataTable, element);\n",
              "          const docLink = document.createElement('div');\n",
              "          docLink.innerHTML = docLinkHtml;\n",
              "          element.appendChild(docLink);\n",
              "        }\n",
              "      </script>\n",
              "    </div>\n",
              "  </div>\n",
              "  "
            ]
          },
          "metadata": {},
          "execution_count": 62
        }
      ],
      "source": [
        "basePriceDf.head(10)"
      ]
    },
    {
      "cell_type": "code",
      "source": [
        "def row_product(row):\n",
        "    return pd.Series([row['Adj Close_x'] * row['shares_to_buy'][0] , row['Adj Close_y'] * row['shares_to_buy'][1]])"
      ],
      "metadata": {
        "id": "v2DyMKuQmJZM"
      },
      "execution_count": 63,
      "outputs": []
    },
    {
      "cell_type": "code",
      "source": [
        "basePriceDf[['balance_x','balance_y']] = basePriceDf.apply(row_product, axis=1)"
      ],
      "metadata": {
        "id": "S13HSBx8lpXw"
      },
      "execution_count": 64,
      "outputs": []
    },
    {
      "cell_type": "code",
      "source": [
        "basePriceDf.head(10)"
      ],
      "metadata": {
        "colab": {
          "base_uri": "https://localhost:8080/",
          "height": 394
        },
        "id": "w4Xjx-avpHH0",
        "outputId": "0031467e-6bc9-430e-e2b0-2cdff8abb4e6"
      },
      "execution_count": 65,
      "outputs": [
        {
          "output_type": "execute_result",
          "data": {
            "text/plain": [
              "            Adj Close_x  Adj Close_y  signal  cash_balance shares_to_buy  \\\n",
              "Date                                                                       \n",
              "2021-11-10   385.570343    78.665733       0  15000.000000      [17, 85]   \n",
              "2021-11-11   386.639374    79.303688       0  13313.682838      [17, 85]   \n",
              "2021-11-12   390.707825    81.820869       0  13596.806923      [17, 85]   \n",
              "2021-11-15   390.618713    81.796135       0  13593.189598      [17, 85]   \n",
              "2021-11-16   393.400330    83.487457       0  13784.239471      [17, 85]   \n",
              "2021-11-17   393.608215    83.586365       0  13796.180664      [17, 85]   \n",
              "2021-11-18   397.686554    86.143112       0  14082.835953      [17, 85]   \n",
              "2021-11-19   399.903870    87.601990       0  14244.534912      [17, 85]   \n",
              "2021-11-22   395.261292    84.565544       0  13907.513206      [17, 85]   \n",
              "2021-11-23   393.459717    83.413277       0  13778.943703      [17, 85]   \n",
              "\n",
              "              balance_x    balance_y  \n",
              "Date                                  \n",
              "2021-11-10  6554.695831  6686.587334  \n",
              "2021-11-11  6572.869354  6740.813484  \n",
              "2021-11-12  6642.033020  6954.773903  \n",
              "2021-11-15  6640.518127  6952.671471  \n",
              "2021-11-16  6687.805603  7096.433868  \n",
              "2021-11-17  6691.339661  7104.841003  \n",
              "2021-11-18  6760.671417  7322.164536  \n",
              "2021-11-19  6798.365784  7446.169128  \n",
              "2021-11-22  6719.441956  7188.071251  \n",
              "2021-11-23  6688.815186  7090.128517  "
            ],
            "text/html": [
              "\n",
              "  <div id=\"df-f384598a-f60d-4f2f-bea7-b36db2c421a1\">\n",
              "    <div class=\"colab-df-container\">\n",
              "      <div>\n",
              "<style scoped>\n",
              "    .dataframe tbody tr th:only-of-type {\n",
              "        vertical-align: middle;\n",
              "    }\n",
              "\n",
              "    .dataframe tbody tr th {\n",
              "        vertical-align: top;\n",
              "    }\n",
              "\n",
              "    .dataframe thead th {\n",
              "        text-align: right;\n",
              "    }\n",
              "</style>\n",
              "<table border=\"1\" class=\"dataframe\">\n",
              "  <thead>\n",
              "    <tr style=\"text-align: right;\">\n",
              "      <th></th>\n",
              "      <th>Adj Close_x</th>\n",
              "      <th>Adj Close_y</th>\n",
              "      <th>signal</th>\n",
              "      <th>cash_balance</th>\n",
              "      <th>shares_to_buy</th>\n",
              "      <th>balance_x</th>\n",
              "      <th>balance_y</th>\n",
              "    </tr>\n",
              "    <tr>\n",
              "      <th>Date</th>\n",
              "      <th></th>\n",
              "      <th></th>\n",
              "      <th></th>\n",
              "      <th></th>\n",
              "      <th></th>\n",
              "      <th></th>\n",
              "      <th></th>\n",
              "    </tr>\n",
              "  </thead>\n",
              "  <tbody>\n",
              "    <tr>\n",
              "      <th>2021-11-10</th>\n",
              "      <td>385.570343</td>\n",
              "      <td>78.665733</td>\n",
              "      <td>0</td>\n",
              "      <td>15000.000000</td>\n",
              "      <td>[17, 85]</td>\n",
              "      <td>6554.695831</td>\n",
              "      <td>6686.587334</td>\n",
              "    </tr>\n",
              "    <tr>\n",
              "      <th>2021-11-11</th>\n",
              "      <td>386.639374</td>\n",
              "      <td>79.303688</td>\n",
              "      <td>0</td>\n",
              "      <td>13313.682838</td>\n",
              "      <td>[17, 85]</td>\n",
              "      <td>6572.869354</td>\n",
              "      <td>6740.813484</td>\n",
              "    </tr>\n",
              "    <tr>\n",
              "      <th>2021-11-12</th>\n",
              "      <td>390.707825</td>\n",
              "      <td>81.820869</td>\n",
              "      <td>0</td>\n",
              "      <td>13596.806923</td>\n",
              "      <td>[17, 85]</td>\n",
              "      <td>6642.033020</td>\n",
              "      <td>6954.773903</td>\n",
              "    </tr>\n",
              "    <tr>\n",
              "      <th>2021-11-15</th>\n",
              "      <td>390.618713</td>\n",
              "      <td>81.796135</td>\n",
              "      <td>0</td>\n",
              "      <td>13593.189598</td>\n",
              "      <td>[17, 85]</td>\n",
              "      <td>6640.518127</td>\n",
              "      <td>6952.671471</td>\n",
              "    </tr>\n",
              "    <tr>\n",
              "      <th>2021-11-16</th>\n",
              "      <td>393.400330</td>\n",
              "      <td>83.487457</td>\n",
              "      <td>0</td>\n",
              "      <td>13784.239471</td>\n",
              "      <td>[17, 85]</td>\n",
              "      <td>6687.805603</td>\n",
              "      <td>7096.433868</td>\n",
              "    </tr>\n",
              "    <tr>\n",
              "      <th>2021-11-17</th>\n",
              "      <td>393.608215</td>\n",
              "      <td>83.586365</td>\n",
              "      <td>0</td>\n",
              "      <td>13796.180664</td>\n",
              "      <td>[17, 85]</td>\n",
              "      <td>6691.339661</td>\n",
              "      <td>7104.841003</td>\n",
              "    </tr>\n",
              "    <tr>\n",
              "      <th>2021-11-18</th>\n",
              "      <td>397.686554</td>\n",
              "      <td>86.143112</td>\n",
              "      <td>0</td>\n",
              "      <td>14082.835953</td>\n",
              "      <td>[17, 85]</td>\n",
              "      <td>6760.671417</td>\n",
              "      <td>7322.164536</td>\n",
              "    </tr>\n",
              "    <tr>\n",
              "      <th>2021-11-19</th>\n",
              "      <td>399.903870</td>\n",
              "      <td>87.601990</td>\n",
              "      <td>0</td>\n",
              "      <td>14244.534912</td>\n",
              "      <td>[17, 85]</td>\n",
              "      <td>6798.365784</td>\n",
              "      <td>7446.169128</td>\n",
              "    </tr>\n",
              "    <tr>\n",
              "      <th>2021-11-22</th>\n",
              "      <td>395.261292</td>\n",
              "      <td>84.565544</td>\n",
              "      <td>0</td>\n",
              "      <td>13907.513206</td>\n",
              "      <td>[17, 85]</td>\n",
              "      <td>6719.441956</td>\n",
              "      <td>7188.071251</td>\n",
              "    </tr>\n",
              "    <tr>\n",
              "      <th>2021-11-23</th>\n",
              "      <td>393.459717</td>\n",
              "      <td>83.413277</td>\n",
              "      <td>0</td>\n",
              "      <td>13778.943703</td>\n",
              "      <td>[17, 85]</td>\n",
              "      <td>6688.815186</td>\n",
              "      <td>7090.128517</td>\n",
              "    </tr>\n",
              "  </tbody>\n",
              "</table>\n",
              "</div>\n",
              "      <button class=\"colab-df-convert\" onclick=\"convertToInteractive('df-f384598a-f60d-4f2f-bea7-b36db2c421a1')\"\n",
              "              title=\"Convert this dataframe to an interactive table.\"\n",
              "              style=\"display:none;\">\n",
              "        \n",
              "  <svg xmlns=\"http://www.w3.org/2000/svg\" height=\"24px\"viewBox=\"0 0 24 24\"\n",
              "       width=\"24px\">\n",
              "    <path d=\"M0 0h24v24H0V0z\" fill=\"none\"/>\n",
              "    <path d=\"M18.56 5.44l.94 2.06.94-2.06 2.06-.94-2.06-.94-.94-2.06-.94 2.06-2.06.94zm-11 1L8.5 8.5l.94-2.06 2.06-.94-2.06-.94L8.5 2.5l-.94 2.06-2.06.94zm10 10l.94 2.06.94-2.06 2.06-.94-2.06-.94-.94-2.06-.94 2.06-2.06.94z\"/><path d=\"M17.41 7.96l-1.37-1.37c-.4-.4-.92-.59-1.43-.59-.52 0-1.04.2-1.43.59L10.3 9.45l-7.72 7.72c-.78.78-.78 2.05 0 2.83L4 21.41c.39.39.9.59 1.41.59.51 0 1.02-.2 1.41-.59l7.78-7.78 2.81-2.81c.8-.78.8-2.07 0-2.86zM5.41 20L4 18.59l7.72-7.72 1.47 1.35L5.41 20z\"/>\n",
              "  </svg>\n",
              "      </button>\n",
              "      \n",
              "  <style>\n",
              "    .colab-df-container {\n",
              "      display:flex;\n",
              "      flex-wrap:wrap;\n",
              "      gap: 12px;\n",
              "    }\n",
              "\n",
              "    .colab-df-convert {\n",
              "      background-color: #E8F0FE;\n",
              "      border: none;\n",
              "      border-radius: 50%;\n",
              "      cursor: pointer;\n",
              "      display: none;\n",
              "      fill: #1967D2;\n",
              "      height: 32px;\n",
              "      padding: 0 0 0 0;\n",
              "      width: 32px;\n",
              "    }\n",
              "\n",
              "    .colab-df-convert:hover {\n",
              "      background-color: #E2EBFA;\n",
              "      box-shadow: 0px 1px 2px rgba(60, 64, 67, 0.3), 0px 1px 3px 1px rgba(60, 64, 67, 0.15);\n",
              "      fill: #174EA6;\n",
              "    }\n",
              "\n",
              "    [theme=dark] .colab-df-convert {\n",
              "      background-color: #3B4455;\n",
              "      fill: #D2E3FC;\n",
              "    }\n",
              "\n",
              "    [theme=dark] .colab-df-convert:hover {\n",
              "      background-color: #434B5C;\n",
              "      box-shadow: 0px 1px 3px 1px rgba(0, 0, 0, 0.15);\n",
              "      filter: drop-shadow(0px 1px 2px rgba(0, 0, 0, 0.3));\n",
              "      fill: #FFFFFF;\n",
              "    }\n",
              "  </style>\n",
              "\n",
              "      <script>\n",
              "        const buttonEl =\n",
              "          document.querySelector('#df-f384598a-f60d-4f2f-bea7-b36db2c421a1 button.colab-df-convert');\n",
              "        buttonEl.style.display =\n",
              "          google.colab.kernel.accessAllowed ? 'block' : 'none';\n",
              "\n",
              "        async function convertToInteractive(key) {\n",
              "          const element = document.querySelector('#df-f384598a-f60d-4f2f-bea7-b36db2c421a1');\n",
              "          const dataTable =\n",
              "            await google.colab.kernel.invokeFunction('convertToInteractive',\n",
              "                                                     [key], {});\n",
              "          if (!dataTable) return;\n",
              "\n",
              "          const docLinkHtml = 'Like what you see? Visit the ' +\n",
              "            '<a target=\"_blank\" href=https://colab.research.google.com/notebooks/data_table.ipynb>data table notebook</a>'\n",
              "            + ' to learn more about interactive tables.';\n",
              "          element.innerHTML = '';\n",
              "          dataTable['output_type'] = 'display_data';\n",
              "          await google.colab.output.renderOutput(dataTable, element);\n",
              "          const docLink = document.createElement('div');\n",
              "          docLink.innerHTML = docLinkHtml;\n",
              "          element.appendChild(docLink);\n",
              "        }\n",
              "      </script>\n",
              "    </div>\n",
              "  </div>\n",
              "  "
            ]
          },
          "metadata": {},
          "execution_count": 65
        }
      ]
    },
    {
      "cell_type": "code",
      "execution_count": 66,
      "metadata": {
        "colab": {
          "base_uri": "https://localhost:8080/",
          "height": 451
        },
        "id": "5A64tA46IAD_",
        "outputId": "01edd107-5d27-4963-f82b-3b65abc786d3"
      },
      "outputs": [
        {
          "output_type": "execute_result",
          "data": {
            "text/plain": [
              "<Axes: xlabel='Date'>"
            ]
          },
          "metadata": {},
          "execution_count": 66
        },
        {
          "output_type": "display_data",
          "data": {
            "text/plain": [
              "<Figure size 640x480 with 1 Axes>"
            ],
            "image/png": "[encoded data removed]"
          },
          "metadata": {}
        }
      ],
      "source": [
        "basePriceDf.plot(y=['balance_x', 'balance_y'], kind='line')"
      ]
    },
    {
      "cell_type": "code",
      "execution_count": 68,
      "metadata": {
        "id": "yXHQJ6eZe55B",
        "colab": {
          "base_uri": "https://localhost:8080/",
          "height": 456
        },
        "outputId": "b4ebfa12-dc61-4e0c-9f59-d10c986edec7"
      },
      "outputs": [
        {
          "output_type": "display_data",
          "data": {
            "text/plain": [
              "<Figure size 640x480 with 3 Axes>"
            ],
            "image/png": "[encoded data removed]"
          },
          "metadata": {}
        }
      ],
      "source": [
        "# create a line chart with two y-axes\n",
        "ax = basePriceDf.plot(y='Adj Close_x', color='red', kind='line', label='Y1-axis')\n",
        "ax.set_xlabel('X-axis')\n",
        "ax.set_ylabel('Y1-axis', color='red')\n",
        "ax.tick_params(axis='y', labelcolor='red')\n",
        "ax.legend(loc='upper left')\n",
        "\n",
        "ax2 = ax.twinx()\n",
        "basePriceDf.plot(y='cash_balance', color='blue', kind='line', ax=ax2, label='Y2-axis', secondary_y=True)\n",
        "# ax2.set_ylabel('Y2-axis', color='blue')\n",
        "# ax2.tick_params(axis='y', labelcolor='blue')\n",
        "\n",
        "plt.title('Double Y-Axis Chart')\n",
        "\n",
        "# display the chart\n",
        "plt.show()"
      ]
    },
    {
      "cell_type": "code",
      "source": [],
      "metadata": {
        "id": "BPCSGE4BfRaB"
      },
      "execution_count": null,
      "outputs": []
    },
    {
      "cell_type": "markdown",
      "source": [
        "## 뭔가 이상함\n",
        "1. 일단 가진 돈을 다 활용하지 않아서 일 수도 있으니 그 방향으로 코드를 바꿔보자.\n",
        "  - 현재는 바로 이전 Row의 돈만을 활용하는 거니 계속 시간이 지날 수록 돈이 쪼그라 드는 거 같음\n",
        "2. 또 떨어질 때 %와 오를 때 %를 다르게 해서 트리거를 걸 수 있도록 하자."
      ],
      "metadata": {
        "id": "JrWUbNTyfSAF"
      }
    },
    {
      "cell_type": "markdown",
      "metadata": {
        "id": "_fKaKuJDfUKu"
      },
      "source": [
        "### TEST SECTION"
      ]
    },
    {
      "cell_type": "code",
      "execution_count": null,
      "metadata": {
        "colab": {
          "background_save": true
        },
        "id": "Ki7uWf43fWaZ"
      },
      "outputs": [],
      "source": [
        "dates = pd.date_range('2022-01-01', periods=10)\n",
        "prices = pd.DataFrame({\n",
        "    'stock1': [10, 12, 15, 14, 13, 12, 13, 15, 16, 17],\n",
        "    'stock2': [20, 22, 25, 24, 23, 22, 23, 25, 26, 27]\n",
        "}, index=dates)"
      ]
    },
    {
      "cell_type": "code",
      "execution_count": null,
      "metadata": {
        "id": "sLF4P6nrLA_J"
      },
      "outputs": [],
      "source": [
        "def printRowname(row):\n",
        "  return row.name"
      ]
    },
    {
      "cell_type": "code",
      "execution_count": null,
      "metadata": {
        "id": "9hH06W0jLJne"
      },
      "outputs": [],
      "source": [
        "prices['name'] = prices.apply(printRowname, axis=1)"
      ]
    },
    {
      "cell_type": "code",
      "execution_count": null,
      "metadata": {
        "colab": {
          "base_uri": "https://localhost:8080/"
        },
        "id": "JWpmK0Rtfh04",
        "outputId": "039ca3d8-f2cc-4ad2-ee35-968b860fd10e"
      },
      "outputs": [
        {
          "data": {
            "text/plain": [
              "2022-01-01   2022-01-01\n",
              "2022-01-02   2022-01-02\n",
              "2022-01-03   2022-01-03\n",
              "2022-01-04   2022-01-04\n",
              "2022-01-05   2022-01-05\n",
              "2022-01-06   2022-01-06\n",
              "2022-01-07   2022-01-07\n",
              "2022-01-08   2022-01-08\n",
              "2022-01-09   2022-01-09\n",
              "2022-01-10   2022-01-10\n",
              "Freq: D, Name: name, dtype: datetime64[ns]"
            ]
          },
          "execution_count": 50,
          "metadata": {},
          "output_type": "execute_result"
        }
      ],
      "source": [
        "prices.loc[:,'name']"
      ]
    },
    {
      "cell_type": "code",
      "execution_count": null,
      "metadata": {
        "id": "BOPqqgw-fXU-"
      },
      "outputs": [],
      "source": [
        "strategy = percent_change_strategy(0, 10)\n",
        "signals = prices.apply(strategy, axis=0)"
      ]
    },
    {
      "cell_type": "code",
      "execution_count": null,
      "metadata": {
        "colab": {
          "base_uri": "https://localhost:8080/"
        },
        "id": "jmZfDl-ojOVq",
        "outputId": "34ec84db-b0a3-4999-f6f4-62e38fcdd4de"
      },
      "outputs": [
        {
          "name": "stdout",
          "output_type": "stream",
          "text": [
            "          A         B         C\n",
            "0  1.000000  2.000000  2.645751\n",
            "1  1.414214  2.236068  2.828427\n",
            "2  1.732051  2.449490  3.000000\n"
          ]
        }
      ],
      "source": [
        "import pandas as pd\n",
        "import numpy as np\n",
        "\n",
        "# create a sample DataFrame\n",
        "df = pd.DataFrame({'A': [1, 2, 3], 'B': [4, 5, 6], 'C': [7, 8, 9]})\n",
        "\n",
        "# define the function to apply\n",
        "def sqrt_func(x):\n",
        "    return np.sqrt(x)\n",
        "\n",
        "# apply the function to multiple columns\n",
        "df[['A', 'B', 'C']] = df[['A', 'B', 'C']].apply(sqrt_func, axis=1)\n",
        "\n",
        "# print the resulting DataFrame\n",
        "print(df)"
      ]
    },
    {
      "cell_type": "code",
      "execution_count": null,
      "metadata": {
        "id": "brTWiXbvOTxb"
      },
      "outputs": [],
      "source": [
        "def trading_decision(signal, cash_balance, num_shares, stock_price):\n",
        "    if signal == 2 and cash_balance > 0:\n",
        "        num_shares_to_buy = cash_balance // stock_price\n",
        "        return buy(stock_price, cash_balance, num_shares_to_buy)\n",
        "    elif signal == 1 and num_shares > 0:\n",
        "        return sell(stock_price, cash_balance, num_shares)\n",
        "    else:\n",
        "        return cash_balance, num_shares\n"
      ]
    },
    {
      "cell_type": "code",
      "execution_count": null,
      "metadata": {
        "id": "lCgPzCOBON95"
      },
      "outputs": [],
      "source": [
        "def sell(stock_price, cash_balance, num_shares):\n",
        "    cash_balance += stock_price * num_shares\n",
        "    num_shares = 0\n",
        "    return cash_balance, num_shares\n"
      ]
    },
    {
      "cell_type": "code",
      "execution_count": null,
      "metadata": {
        "id": "87AZuaLzOKDn"
      },
      "outputs": [],
      "source": [
        "def buy(stock_price, cash_balance, num_shares):\n",
        "    if stock_price * num_shares > cash_balance:\n",
        "        raise ValueError(\"Insufficient funds to buy shares.\")\n",
        "    cash_balance -= stock_price * num_shares\n",
        "    return cash_balance, num_shares\n"
      ]
    },
    {
      "cell_type": "code",
      "execution_count": null,
      "metadata": {
        "id": "3k1-VyX5OQYg"
      },
      "outputs": [],
      "source": [
        "def moving_average_crossover_strategy(prices, short_window=50, long_window=200):\n",
        "    signals = pd.DataFrame(index=prices.index)\n",
        "    signals['signal'] = 0.0\n",
        "    signals['short_mavg'] = prices['close'].rolling(window=short_window, min_periods=1, center=False).mean()\n",
        "    signals['long_mavg'] = prices['close'].rolling(window=long_window, min_periods=1, center=False).mean()\n",
        "    signals['signal'][short_window:] = np.where(signals['short_mavg'][short_window:] > signals['long_mavg'][short_window:], 1.0, 0.0)   \n",
        "    signals['positions'] = signals['signal'].diff()\n",
        "    return signals\n"
      ]
    },
    {
      "cell_type": "code",
      "execution_count": 69,
      "metadata": {
        "id": "1HOdNjPx_KcV"
      },
      "outputs": [],
      "source": [
        "def distribute_cost_by_ratio(total_capital, unit_costs, assigned_ratio):\n",
        "    num_tasks = len(unit_costs)\n",
        "    # Define the LP problem\n",
        "    prob = LpProblem(\"Assigned_Ratio_Cost_Distribution\", LpMinimize)\n",
        "\n",
        "    # Define the decision variables (positive integers)\n",
        "    x = LpVariable.dicts(\"x\", range(num_tasks), lowBound=0, cat='Integer')\n",
        "\n",
        "    # Define the objective function (minimize the maximum gap)\n",
        "    prob += lpSum([1 for i in range(num_tasks)])\n",
        "\n",
        "    # Define the constraint for total cost within 90% to 100% of total capital\n",
        "    total_cost = lpSum([unit_costs[i] * x[i] for i in range(num_tasks)])\n",
        "    prob += total_cost >= 0.9 * total_capital\n",
        "    prob += total_cost <= 0.99 * total_capital\n",
        "\n",
        "    # Define the constraints (assigned ratio)\n",
        "    for i in range(len(assigned_ratio)):\n",
        "        assigned_cost = assigned_ratio[i] / sum(assigned_ratio) * total_capital\n",
        "        prob += x[i] * unit_costs[i] >= assigned_cost\n",
        "        if i < len(assigned_ratio) - 1:\n",
        "            next_assigned_cost = assigned_ratio[i+1] / sum(assigned_ratio) * total_capital\n",
        "            prob += x[i] * unit_costs[i] <= next_assigned_cost\n",
        "\n",
        "    # Solve the LP problem\n",
        "    prob.solve()\n",
        "\n",
        "    # Print the solution\n",
        "    # print(\"Evenly distributed costs:\")\n",
        "    # for i in range(num_tasks):\n",
        "    #     budget = round(x[i].value(), 2)\n",
        "    #     cost = round(budget * unit_costs[i], 2)\n",
        "    #     print(f\"Task {i+1}: budget = {budget}, cost = {cost}\")\n",
        "    return [int(x[i].value()) for i in range(num_tasks)]\n"
      ]
    },
    {
      "cell_type": "code",
      "source": [
        "distribute_cost_by_ratio(15000, [385.570343, 78.665733], [1,1])"
      ],
      "metadata": {
        "colab": {
          "base_uri": "https://localhost:8080/"
        },
        "id": "4ekJsX0i4DHn",
        "outputId": "821054d9-956d-461f-847d-bbc2d5016e71"
      },
      "execution_count": 76,
      "outputs": [
        {
          "output_type": "execute_result",
          "data": {
            "text/plain": [
              "[19, 95]"
            ]
          },
          "metadata": {},
          "execution_count": 76
        }
      ]
    },
    {
      "cell_type": "code",
      "source": [
        "19*385.570343 + 95*78.665733"
      ],
      "metadata": {
        "colab": {
          "base_uri": "https://localhost:8080/"
        },
        "id": "VmpyXe1P4Qxh",
        "outputId": "1e5cb91a-fa09-4684-cc95-9d710ff55911"
      },
      "execution_count": 78,
      "outputs": [
        {
          "output_type": "execute_result",
          "data": {
            "text/plain": [
              "14799.081151999999"
            ]
          },
          "metadata": {},
          "execution_count": 78
        }
      ]
    },
    {
      "cell_type": "code",
      "source": [
        "[19*385.570343,95*78.665733]"
      ],
      "metadata": {
        "colab": {
          "base_uri": "https://localhost:8080/"
        },
        "id": "U6YNV8AT4j5Y",
        "outputId": "92956014-6bb6-4cf0-85da-a1a18b92c326"
      },
      "execution_count": 77,
      "outputs": [
        {
          "output_type": "execute_result",
          "data": {
            "text/plain": [
              "[7325.836517, 7473.244635]"
            ]
          },
          "metadata": {},
          "execution_count": 77
        }
      ]
    },
    {
      "cell_type": "code",
      "source": [
        "evenly_distribute_cost(15000, [385.570343, 78.665733])"
      ],
      "metadata": {
        "colab": {
          "base_uri": "https://localhost:8080/"
        },
        "id": "CnI10k6e5Rdo",
        "outputId": "7b3f96d0-f996-4c71-9f2c-de1e25e4ecbd"
      },
      "execution_count": 79,
      "outputs": [
        {
          "output_type": "execute_result",
          "data": {
            "text/plain": [
              "[17, 85]"
            ]
          },
          "metadata": {},
          "execution_count": 79
        }
      ]
    }
  ],
  "metadata": {
    "colab": {
      "provenance": [],
      "mount_file_id": "1iITq7QQgeLUO27Xm7g-PT6CAwd6DUYzA",
      "authorship_tag": "ABX9TyOOrPVtLozi4eMqvTekiSS2",
      "include_colab_link": true
    },
    "kernelspec": {
      "display_name": "Python 3",
      "name": "python3"
    },
    "language_info": {
      "name": "python"
    }
  },
  "nbformat": 4,
  "nbformat_minor": 0
}